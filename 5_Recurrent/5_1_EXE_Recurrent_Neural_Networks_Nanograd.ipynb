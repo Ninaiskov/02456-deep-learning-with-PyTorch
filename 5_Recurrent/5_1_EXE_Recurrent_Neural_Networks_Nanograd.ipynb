{
 "cells": [
  {
   "cell_type": "markdown",
   "metadata": {
    "id": "y-CptVs7iACc"
   },
   "source": [
    "# Week 5 - Recurrent Neural Networks\n",
    "\n",
    "In this lab, we will introduce different ways of learning from sequential data.\n",
    "\n",
    "As a recurring example, we will train neural networks to do language modelling, i.e. predict the next token in a sentence. In the context of natural language processing a token could be a character or a word, but mind you that the concepts introduced here apply to all kinds of sequential data, such as e.g. protein sequences, weather measurements, audio signals, or videos, just to name a few.\n",
    "\n",
    "To really get a grasp of what is going on inside a recurrent neural network (RNN), we will carry out a substantial part of this exercise in Nanograd rather than PyTorch. \n",
    "\n",
    "We start off with a simple toy problem, build an RNN using Nanograd, train it, and see for ourselves that it really works. Once we're convinced, you will implement the Long Short-Term Memory (LSTM) cell, also in Nanograd. \n",
    "\n",
    "This is *not* simple but with the DenseLayer class we already have, it is doable. Having done it yourself will help you understand what happens under the hood of the PyTorch code we will use throughout the course.\n",
    "\n",
    "To summarize, in this notebook we will show you:\n",
    "* How to represent sequences of categorical variables\n",
    "* How to build and train an RNN in Nanograd\n",
    "* How to build and train an LSTM network in Nanograd\n",
    "* How to build and train an LSTM network in PyTorch\n",
    "\n",
    "\n",
    "[Numpy version of the Notebook (previous version)](https://github.com/DeepLearningDTU/02456-deep-learning-with-PyTorch/blob/master/5_Recurrent/OLD-5.1-Numpy-Recurrent-Neural-Networks.ipynb)"
   ]
  },
  {
   "cell_type": "markdown",
   "metadata": {
    "id": "XapO8SLwiACd"
   },
   "source": [
    "## Representing tokens or text\n",
    "\n",
    "In previous labs we mainly considered data $x \\in \\mathbb{R}^d$, where $d$ is the feature space dimension.\n",
    "With time sequences our data can be represented as $x \\in \\mathbb{R}^{t \\, \\times \\, d}$, where $t$ is the sequence length. \n",
    "This emphasises sequence dependence and that the samples along the sequence are not independent and identically distributed (i.i.d.).\n",
    "\n",
    "With RNNs, we can model both many-to-one functions: $\\mathbb{R}^{t \\, \\times \\, d} \\rightarrow \\mathbb{R}^c$ and many-to-many functions: $\\mathbb{R}^{t \\, \\times \\, d} \\rightarrow \\mathbb{R}^{t \\, \\times \\, c}$, where $c$ is the amount of classes/output dimensions.\n",
    "\n",
    "There are several ways to represent sequences. With text, the challenge is how to represent a word as a feature vector in $d$ dimensions, as we are required to represent text with decimal numbers in order to apply neural networks to it.\n",
    "\n",
    "In this exercise we will use a simple one-hot encoding but for categorical variables that can take on many values (e.g. words in the English language) this may be infeasible. For such scenarios, you can project the encodings into a smaller space by use of embeddings. If you want to learn more about tokens, encodings and embeddings than what is covered in this exercise, we highly recommend [this lecture](https://www.youtube.com/watch?v=kEMJRjEdNzM&list=PLoROMvodv4rOhcuXMZkNm7j3fVwBBY42z)."
   ]
  },
  {
   "cell_type": "markdown",
   "metadata": {
    "id": "bdA4LPsFiACe"
   },
   "source": [
    "### One-hot encoding over vocabulary\n",
    "\n",
    "One way to represent a fixed amount of words is by making a one-hot encoded vector, which consists of 0s in all cells with the exception of a single 1 in a cell used uniquely to identify each word.\n",
    "\n",
    "| vocabulary    | one-hot encoded vector   |\n",
    "| ------------- |--------------------------|\n",
    "| Paris         | $= [1, 0, 0, \\ldots, 0]$ |\n",
    "| Rome          | $= [0, 1, 0, \\ldots, 0]$ |\n",
    "| Copenhagen    | $= [0, 0, 1, \\ldots, 0]$ |\n",
    "\n",
    "Representing a large vocabulary with one-hot encodings often becomes inefficient because of the size of each sparse vector.\n",
    "To overcome this challenge it is common practice to truncate the vocabulary to contain the $k$ most used words and represent the rest with a special symbol, $\\mathtt{UNK}$, to define unknown/unimportant words.\n",
    "This often causes entities such as names to be represented with $\\mathtt{UNK}$ because they are rare.\n",
    "\n",
    "Consider the following text\n",
    "> I love the corny jokes in Spielberg's new movie.\n",
    "\n",
    "where an example result would be similar to\n",
    "> I love the corny jokes in $\\mathtt{UNK}$'s new movie."
   ]
  },
  {
   "cell_type": "markdown",
   "metadata": {
    "id": "KNmyPw7zk2gY"
   },
   "source": [
    "## Generating a dataset"
   ]
  },
  {
   "cell_type": "markdown",
   "metadata": {
    "id": "M9IEA4t2k2gb"
   },
   "source": [
    "For this exercise we will create a simple dataset that we can learn from. We generate sequences of the form:\n",
    "\n",
    "`a b EOS`,\n",
    "\n",
    "`a a b b EOS`,\n",
    "\n",
    "`a a a a a b b b b b EOS`\n",
    "\n",
    "where `EOS` is a special character denoting the end of a sequence. The task is to predict the next token $t_n$, i.e. `a`, `b`, `EOS` or the unknown token `UNK` given a sequence of tokens $\\{ t_{1}, t_{2}, \\dots , t_{n-1}\\}$, and we are to process sequences in a sequential manner. As such, the network will need to learn that e.g. 5 `b`s and an `EOS` token will follow 5 `a`s."
   ]
  },
  {
   "cell_type": "code",
   "execution_count": 33,
   "metadata": {
    "colab": {
     "base_uri": "https://localhost:8080/"
    },
    "id": "dcoN-kb7k2gc",
    "outputId": "5349538b-cb82-440d-a93c-d516bb41a588"
   },
   "outputs": [
    {
     "name": "stdout",
     "output_type": "stream",
     "text": [
      "A single sample from the generated dataset:\n",
      "['a', 'a', 'a', 'b', 'b', 'b', 'EOS']\n"
     ]
    }
   ],
   "source": [
    "import numpy as np\n",
    "\n",
    "# Set seed such that we always get the same dataset\n",
    "# (this is a good idea in general)\n",
    "np.random.seed(42)\n",
    "\n",
    "def generate_dataset(num_sequences=2**5):\n",
    "    \"\"\"\n",
    "    Generates a number of sequences as our dataset.\n",
    "    \n",
    "    Args:\n",
    "     `num_sequences`: the number of sequences to be generated.\n",
    "     \n",
    "    Returns a list of sequences.\n",
    "    \"\"\"\n",
    "    samples = []\n",
    "    \n",
    "    for _ in range(num_sequences): \n",
    "        num_tokens = np.random.randint(1, 4)\n",
    "        sample = ['a'] * num_tokens + ['b'] * num_tokens + ['EOS']\n",
    "        samples.append(sample)\n",
    "        \n",
    "    return samples\n",
    "\n",
    "\n",
    "sequences = generate_dataset()\n",
    "\n",
    "print('A single sample from the generated dataset:')\n",
    "print(sequences[0])"
   ]
  },
  {
   "cell_type": "markdown",
   "metadata": {
    "id": "YMLd3Gzak2gp"
   },
   "source": [
    "## Representing tokens as indices"
   ]
  },
  {
   "cell_type": "markdown",
   "metadata": {
    "id": "S9LSqaJSk2gp"
   },
   "source": [
    "To build a one-hot encoding, we need to assign each possible word in our vocabulary an index. We do that by creating two dictionaries: one that allows us to go from a given word to its corresponding index in our vocabulary, and one for the reverse direction. Let's call them `word_to_idx` and `idx_to_word`. The keyword `vocab_size` specifies the maximum size of our vocabulary. If we try to access a word that does not exist in our vocabulary, it is automatically replaced by the `UNK` token or its corresponding index."
   ]
  },
  {
   "cell_type": "markdown",
   "metadata": {
    "id": "sNY1OOS_k2gy"
   },
   "source": [
    "## Exercise a) Sequence to dictionary function \n",
    "\n",
    "Complete the sequences_to_dicts function below. You will need to fill the word_to_idx and idx_to_word dictionaries so that we can go back and forth between the two representations."
   ]
  },
  {
   "cell_type": "code",
   "execution_count": 34,
   "metadata": {
    "colab": {
     "base_uri": "https://localhost:8080/"
    },
    "id": "Smdo70UMk2gr",
    "outputId": "ce286c1f-57a1-498f-9af9-213bed8cf5e7"
   },
   "outputs": [
    {
     "name": "stdout",
     "output_type": "stream",
     "text": [
      "We have 32 sentences and 4 unique tokens in our dataset (including UNK).\n",
      "\n",
      "The index of 'b' is 1\n",
      "The word corresponding to index 1 is 'b'\n"
     ]
    }
   ],
   "source": [
    "from collections import defaultdict\n",
    "\n",
    "def sequences_to_dicts(sequences):\n",
    "    \"\"\"\n",
    "    Creates word_to_idx and idx_to_word dictionaries for a list of sequences.\n",
    "    \"\"\"\n",
    "    # A bit of Python-magic to flatten a nested list\n",
    "    flatten = lambda l: [item for sublist in l for item in sublist]\n",
    "    \n",
    "    # Flatten the dataset\n",
    "    all_words = flatten(sequences)\n",
    "    \n",
    "    # Count number of word occurences\n",
    "    word_count = defaultdict(int)\n",
    "    for word in flatten(sequences):\n",
    "        word_count[word] += 1\n",
    "\n",
    "    # Sort by frequency\n",
    "    word_count = sorted(list(word_count.items()), key=lambda l: -l[1])\n",
    "\n",
    "    # Create a list of all unique words\n",
    "    unique_words = [item[0] for item in word_count]\n",
    "    \n",
    "    # Add UNK token to list of words\n",
    "    unique_words.append('UNK')\n",
    "\n",
    "    # Count number of sequences and number of unique words\n",
    "    num_sentences, vocab_size = len(sequences), len(unique_words)\n",
    "\n",
    "    # Create dictionaries so that we can go from word to index and back\n",
    "    # If a word is not in our vocabulary, we assign it to token 'UNK'\n",
    "    word_to_idx = defaultdict(lambda: vocab_size-1)\n",
    "    idx_to_word = defaultdict(lambda: 'UNK')\n",
    "\n",
    "    # Fill dictionaries\n",
    "    for idx, word in enumerate(unique_words):\n",
    "        word_to_idx[word] = idx\n",
    "        idx_to_word[idx] = word\n",
    "\n",
    "    return word_to_idx, idx_to_word, num_sentences, vocab_size\n",
    "\n",
    "\n",
    "word_to_idx, idx_to_word, num_sequences, vocab_size = sequences_to_dicts(sequences)\n",
    "\n",
    "print(f'We have {num_sequences} sentences and {len(word_to_idx)} unique tokens in our dataset (including UNK).\\n')\n",
    "print('The index of \\'b\\' is', word_to_idx['b'])\n",
    "print(f'The word corresponding to index 1 is \\'{idx_to_word[1]}\\'')\n",
    "\n",
    "assert idx_to_word[word_to_idx['b']] == 'b', \\\n",
    "    'Consistency error: something went wrong in the conversion.'"
   ]
  },
  {
   "cell_type": "markdown",
   "metadata": {
    "id": "cGSoDRgHk2g1"
   },
   "source": [
    "## Partitioning the dataset"
   ]
  },
  {
   "cell_type": "markdown",
   "metadata": {
    "id": "UMTn1iLIk2g1"
   },
   "source": [
    "To build our dataset, we need to create inputs and targets for each sequences and partition sentences it into training, validation and test sets. 80%, 10% and 10% is a common distribution, but mind you that this largely depends on the size of the dataset. Since we are doing next-word predictions, our target sequence is simply the input sequence shifted by one word.\n",
    "\n",
    "We can use PyTorch's `Dataset` class to build a simple dataset where we can easily retrieve (inputs, targets) pairs for each of our sequences."
   ]
  },
  {
   "cell_type": "code",
   "execution_count": 35,
   "metadata": {
    "colab": {
     "base_uri": "https://localhost:8080/"
    },
    "id": "9dW7MrPnk2g3",
    "outputId": "b4e6907b-9ce7-40b9-808e-c8a48fe61e2e"
   },
   "outputs": [
    {
     "name": "stdout",
     "output_type": "stream",
     "text": [
      "We have 25 samples in the training set.\n",
      "We have 3 samples in the validation set.\n",
      "We have 3 samples in the test set.\n"
     ]
    }
   ],
   "source": [
    "from torch.utils import data\n",
    "\n",
    "class Dataset(data.Dataset):\n",
    "    def __init__(self, inputs, targets):\n",
    "        self.inputs = inputs\n",
    "        self.targets = targets\n",
    "\n",
    "    def __len__(self):\n",
    "        # Return the size of the dataset\n",
    "        return len(self.targets)\n",
    "\n",
    "    def __getitem__(self, index):\n",
    "        # Retrieve inputs and targets at the given index\n",
    "        X = self.inputs[index]\n",
    "        y = self.targets[index]\n",
    "\n",
    "        return X, y\n",
    "\n",
    "    \n",
    "def create_datasets(sequences, dataset_class, p_train=0.8, p_val=0.1, p_test=0.1):\n",
    "    # Define partition sizes\n",
    "    num_train = int(len(sequences)*p_train)\n",
    "    num_val = int(len(sequences)*p_val)\n",
    "    num_test = int(len(sequences)*p_test)\n",
    "\n",
    "    # Split sequences into partitions\n",
    "    sequences_train = sequences[:num_train]\n",
    "    sequences_val = sequences[num_train:num_train+num_val]\n",
    "    sequences_test = sequences[-num_test:]\n",
    "\n",
    "    def get_inputs_targets_from_sequences(sequences):\n",
    "        # Define empty lists\n",
    "        inputs, targets = [], []\n",
    "        \n",
    "        # Append inputs and targets s.t. both lists contain L-1 words of a sentence of length L\n",
    "        # but targets are shifted right by one so that we can predict the next word\n",
    "        for sequence in sequences:\n",
    "            inputs.append(sequence[:-1])\n",
    "            targets.append(sequence[1:])\n",
    "            \n",
    "        return inputs, targets\n",
    "\n",
    "    # Get inputs and targets for each partition\n",
    "    inputs_train, targets_train = get_inputs_targets_from_sequences(sequences_train)\n",
    "    inputs_val, targets_val = get_inputs_targets_from_sequences(sequences_val)\n",
    "    inputs_test, targets_test = get_inputs_targets_from_sequences(sequences_test)\n",
    "\n",
    "    # Create datasets\n",
    "    training_set = dataset_class(inputs_train, targets_train)\n",
    "    validation_set = dataset_class(inputs_val, targets_val)\n",
    "    test_set = dataset_class(inputs_test, targets_test)\n",
    "\n",
    "    return training_set, validation_set, test_set\n",
    "    \n",
    "\n",
    "training_set, validation_set, test_set = create_datasets(sequences, Dataset)\n",
    "\n",
    "print(f'We have {len(training_set)} samples in the training set.')\n",
    "print(f'We have {len(validation_set)} samples in the validation set.')\n",
    "print(f'We have {len(test_set)} samples in the test set.')"
   ]
  },
  {
   "cell_type": "markdown",
   "metadata": {
    "id": "4xMMSm7Mk2g9"
   },
   "source": [
    "When working with more complex data than what we use in this exercise, creating a PyTorch `DataLoader` on top of the dataset can be beneficial. A data loader is basically a fancy generator/iterator that we can use to abstract away all of the data handling and pre-processing + it's super useful for processing batches of data as well! Data loaders will come in handy later when you start to work on your projects, so be sure to check them out!\n",
    "\n",
    "For more information on how to use datasets and data loaders in PyTorch, [consult the official guide](https://pytorch.org/tutorials/beginner/data_loading_tutorial.html)."
   ]
  },
  {
   "cell_type": "markdown",
   "metadata": {
    "id": "t-rfgDfZeMQ6"
   },
   "source": [
    "## Nanograd utilities"
   ]
  },
  {
   "cell_type": "markdown",
   "metadata": {
    "id": "oRO5ssg0eQMK"
   },
   "source": [
    "We load necessary utility functions for the Nanograd library, which we saw in Lab 2."
   ]
  },
  {
   "cell_type": "code",
   "execution_count": 36,
   "metadata": {
    "id": "Jd4CoEBNzNWS"
   },
   "outputs": [],
   "source": [
    "# Copy and pasted from https://github.com/rasmusbergpalm/nanograd/blob/main/nanograd.py\n",
    "\n",
    "from math import exp, log, tanh\n",
    "\n",
    "class Var:\n",
    "    \"\"\"\n",
    "    A variable which holds a float and enables gradient computations.\n",
    "    \"\"\"\n",
    "\n",
    "    def __init__(self, val: float, grad_fn=lambda: []):\n",
    "        assert type(val) == float\n",
    "        self.v = val\n",
    "        self.grad_fn = grad_fn\n",
    "        self.grad = 0.0\n",
    "\n",
    "    def backprop(self, bp):\n",
    "        self.grad += bp\n",
    "        for input, grad in self.grad_fn():\n",
    "            input.backprop(grad * bp)\n",
    "\n",
    "    def backward(self):\n",
    "        self.backprop(1.0)\n",
    "\n",
    "    def __add__(self: 'Var', other: 'Var') -> 'Var':\n",
    "        return Var(self.v + other.v, lambda: [(self, 1.0), (other, 1.0)])\n",
    "\n",
    "    def __mul__(self: 'Var', other: 'Var') -> 'Var':\n",
    "        return Var(self.v * other.v, lambda: [(self, other.v), (other, self.v)])\n",
    "\n",
    "    def __pow__(self, power):\n",
    "        assert type(power) in {float, int}, \"power must be float or int\"\n",
    "        return Var(self.v ** power, lambda: [(self, power * self.v ** (power - 1))])\n",
    "\n",
    "    def __neg__(self: 'Var') -> 'Var':\n",
    "        return Var(-1.0) * self\n",
    "\n",
    "    def __sub__(self: 'Var', other: 'Var') -> 'Var':\n",
    "        return self + (-other)\n",
    "\n",
    "    def __truediv__(self: 'Var', other: 'Var') -> 'Var':\n",
    "        return self * other ** -1\n",
    "\n",
    "    def __repr__(self):\n",
    "        return \"Var(v=%.4f, grad=%.4f)\" % (self.v, self.grad)\n",
    "    \n",
    "    def exp(self):\n",
    "        return Var(exp(self.v), lambda: [(self, exp(self.v))])\n",
    "    \n",
    "    def log(self):\n",
    "        return Var(log(self.v), lambda: [(self, self.v ** -1)])\n",
    "\n",
    "    def relu(self):\n",
    "        return Var(self.v if self.v > 0.0 else 0.0, lambda: [(self, 1.0 if self.v > 0.0 else 0.0)])\n",
    "    \n",
    "    def identity(self):\n",
    "        return self\n",
    "\n",
    "    def sigmoid(self):\n",
    "        return Var(0.5) * (Var(1.0) + (Var(0.5) * self).tanh()) # logistic function is a scaled and shifted version of tanh\n",
    "    \n",
    "    def tanh(self):\n",
    "        return Var(tanh(self.v), lambda: [(self, 1-tanh(self.v) ** 2)])"
   ]
  },
  {
   "cell_type": "code",
   "execution_count": 37,
   "metadata": {
    "id": "9AMqMsiseMfz"
   },
   "outputs": [],
   "source": [
    "# convert from ndarray to Var\n",
    "def nparray_to_Var(x):\n",
    "  if x.ndim==1:\n",
    "    y = [[Var(float(x[i]))] for i in range(x.shape[0])] # always work with list of list\n",
    "  else:\n",
    "    y = [[Var(float(x[i,j])) for j in range(x.shape[1])] for i in range(x.shape[0])]\n",
    "  return y\n",
    "\n",
    "# convert from Var to ndarray  \n",
    "def Var_to_nparray(x):\n",
    "  try:\n",
    "    y = np.zeros((len(x),len(x[0])))\n",
    "    for i in range(len(x)):\n",
    "      for j in range(len(x[0])):\n",
    "        y[i,j] = x[i][j].v\n",
    "  except TypeError:\n",
    "    y = np.zeros((len(x)))\n",
    "    for i in range(len(x)):\n",
    "      y[i] = x[i].v\n",
    "\n",
    "  return y"
   ]
  },
  {
   "cell_type": "code",
   "execution_count": 38,
   "metadata": {
    "id": "ij_ieRsAt7Xt"
   },
   "outputs": [],
   "source": [
    "class Initializer:\n",
    "\n",
    "  def init_weights(self, n_in, n_out):\n",
    "    raise NotImplementedError\n",
    "\n",
    "  def init_bias(self, n_out):\n",
    "    raise NotImplementedError"
   ]
  },
  {
   "cell_type": "code",
   "execution_count": 39,
   "metadata": {
    "id": "eb18N5phuIha"
   },
   "outputs": [],
   "source": [
    "import random\n",
    "\n",
    "class NormalInitializer(Initializer):\n",
    "\n",
    "  def __init__(self, mean=0, std=0.1):\n",
    "    self.mean = mean\n",
    "    self.std = std\n",
    "\n",
    "  def init_weights(self, n_in, n_out):\n",
    "    return [[Var(random.gauss(self.mean, self.std)) for _ in range(n_out)] for _ in range(n_in)]\n",
    "\n",
    "  def init_bias(self, n_out):\n",
    "    return [Var(0.0) for _ in range(n_out)]\n",
    "\n",
    "class ConstantInitializer(Initializer):\n",
    "\n",
    "  def __init__(self, weight=1.0, bias=0.0):\n",
    "    self.weight = weight\n",
    "    self.bias = bias\n",
    "\n",
    "  def init_weights(self, n_in, n_out):\n",
    "    return [[Var(self.weight) for _ in range(n_out)] for _ in range(n_in)]\n",
    "\n",
    "  def init_bias(self, n_out):\n",
    "    return [Var(self.bias) for _ in range(n_out)]"
   ]
  },
  {
   "cell_type": "markdown",
   "metadata": {
    "id": "Dzmryk72k2g-"
   },
   "source": [
    "## One-hot encodings"
   ]
  },
  {
   "cell_type": "markdown",
   "metadata": {
    "id": "abRN9f8Xk2g_"
   },
   "source": [
    "We now create a simple function that returns the one-hot encoded representation of a given index of a word in our vocabulary. Notice that the shape of the one-hot encoding is equal to the entire vocabulary (which can be huge!). Additionally, we define a function to automatically one-hot encode a sentence."
   ]
  },
  {
   "cell_type": "code",
   "execution_count": 72,
   "metadata": {
    "colab": {
     "base_uri": "https://localhost:8080/"
    },
    "id": "IZruCIHJk2hB",
    "outputId": "ccee45f6-3d68-49e1-b662-329e27e3f41c"
   },
   "outputs": [
    {
     "name": "stdout",
     "output_type": "stream",
     "text": [
      "Our one-hot encoding of 'a' has shape (1, 4).\n",
      "Our one-hot encoding of 'a b' has shape (2, 4).\n",
      "[[Var(v=1.0000, grad=0.0000), Var(v=0.0000, grad=0.0000), Var(v=0.0000, grad=0.0000), Var(v=0.0000, grad=0.0000)]]\n",
      "[[Var(v=1.0000, grad=0.0000), Var(v=0.0000, grad=0.0000), Var(v=0.0000, grad=0.0000), Var(v=0.0000, grad=0.0000)], [Var(v=0.0000, grad=0.0000), Var(v=1.0000, grad=0.0000), Var(v=0.0000, grad=0.0000), Var(v=0.0000, grad=0.0000)]]\n"
     ]
    }
   ],
   "source": [
    "def one_hot_encode(idx, vocab_size):\n",
    "    \"\"\"\n",
    "    One-hot encodes a single word given its index and the size of the vocabulary.\n",
    "    \n",
    "    Args:\n",
    "     `idx`: the index of the given word\n",
    "     `vocab_size`: the size of the vocabulary\n",
    "    \n",
    "    Returns a 1-D numpy array of length `vocab_size`.\n",
    "    \"\"\"\n",
    "    # Initialize the encoded array\n",
    "    one_hot = np.array([np.zeros(vocab_size)])\n",
    "    \n",
    "    # Set the appropriate element to one\n",
    "    one_hot[0][idx] = 1.0\n",
    "    return nparray_to_Var(one_hot)\n",
    "\n",
    "\n",
    "def one_hot_encode_sequence(sequence, vocab_size):\n",
    "    \"\"\"\n",
    "    One-hot encodes a sequence of words given a fixed vocabulary size.\n",
    "    \n",
    "    Args:\n",
    "     `sentence`: a list of words to encode\n",
    "     `vocab_size`: the size of the vocabulary\n",
    "     \n",
    "    Returns a 3-D numpy array of shape (num words, vocab size, 1).\n",
    "    \"\"\"\n",
    "    # Encode each word in the sentence\n",
    "    encoding = np.array([Var_to_nparray(one_hot_encode(word_to_idx[word], vocab_size)) for word in sequence])\n",
    "\n",
    "    # Reshape encoding s.t. it has shape (num words, vocab size, 1)\n",
    "    encoding = encoding.reshape(encoding.shape[0], encoding.shape[2], 1)\n",
    "    return nparray_to_Var(encoding)\n",
    "\n",
    "test_word = one_hot_encode(word_to_idx['a'], vocab_size)\n",
    "print(f'Our one-hot encoding of \\'a\\' has shape {Var_to_nparray(test_word).shape}.')\n",
    "\n",
    "test_sentence = one_hot_encode_sequence(['a', 'b'], vocab_size)\n",
    "print(f'Our one-hot encoding of \\'a b\\' has shape {Var_to_nparray(test_sentence).shape}.')\n",
    "\n",
    "print(test_word)\n",
    "print(test_sentence)"
   ]
  },
  {
   "cell_type": "code",
   "execution_count": 10,
   "metadata": {
    "id": "JT6BqYrU_NxQ"
   },
   "outputs": [],
   "source": [
    "encoded_training_set_x = []\n",
    "encoded_training_set_y = []\n",
    "encoded_validation_set_x = []\n",
    "encoded_validation_set_y = []\n",
    "encoded_test_set_x = []\n",
    "encoded_test_set_y = []\n",
    "\n",
    "for n in range(len(training_set)):\n",
    "  encoded_training_set_x.append(one_hot_encode_sequence(training_set[n][0], vocab_size))\n",
    "  encoded_training_set_y.append(one_hot_encode_sequence(training_set[n][1], vocab_size))\n",
    "for n in range(len(validation_set)):\n",
    "  encoded_validation_set_x.append(one_hot_encode_sequence(validation_set[n][0], vocab_size))\n",
    "  encoded_validation_set_y.append(one_hot_encode_sequence(validation_set[n][1], vocab_size))\n",
    "for n in range(len(test_set)):\n",
    "  encoded_test_set_x.append(one_hot_encode_sequence(test_set[n][0], vocab_size))\n",
    "  encoded_test_set_y.append(one_hot_encode_sequence(test_set[n][1], vocab_size))"
   ]
  },
  {
   "cell_type": "markdown",
   "metadata": {
    "id": "erI_MXvKk2hG"
   },
   "source": [
    "Great! Now that we have our one-hot encodings in place, we can move on to the RNNs!"
   ]
  },
  {
   "cell_type": "markdown",
   "metadata": {
    "id": "MA6bxjGWjeSB"
   },
   "source": [
    "# Introduction to Recurrent Neural Networks (RNN)\n",
    "\n",
    "Reading material: [blog post](http://karpathy.github.io/2015/05/21/rnn-effectiveness/) and (optionally) [this lecture](https://www.youtube.com/watch?v=iWea12EAu6U&list=PLoROMvodv4rOhcuXMZkNm7j3fVwBBY42z).\n",
    "\n",
    "___\n",
    "\n",
    "A recurrent neural network (RNN) is a type of neural network that has been succesful in modelling sequential data, e.g. language, speech, protein sequences, etc.\n",
    "\n",
    "A RNN performs its computations in a cyclic manner, where the same computation is applied to every sample of a given sequence.\n",
    "The idea is that the network should be able to use the previous computations as some form of memory and apply this to future computations.\n",
    "An image may best explain how this is to be understood,\n",
    "\n",
    "![rnn-unroll image](https://github.com/DeepLearningDTU/02456-deep-learning-with-PyTorch/blob/master/static_files/rnn-unfold.png?raw=1)\n",
    "\n",
    "\n",
    "where it the network contains the following elements:\n",
    "\n",
    "- $x$ is the input sequence of samples, \n",
    "- $U$ is a weight matrix applied to the given input sample,\n",
    "- $V$ is a weight matrix used for the recurrent computation in order to pass memory along the sequence,\n",
    "- $W$ is a weight matrix used to compute the output of the every timestep (given that every timestep requires an output),\n",
    "- $h$ is the hidden state (the network's memory) for a given time step, and\n",
    "- $o$ is the resulting output.\n",
    "\n",
    "When the network is unrolled as shown, it is easier to refer to a timestep, $t$.\n",
    "We have the following computations through the network:\n",
    "\n",
    "- $h_t = f(U\\,{x_t} + V\\,{h_{t-1}})$, where $f$ is a non-linear activation function, e.g. $\\mathrm{tanh}$.\n",
    "- $o_t = W\\,{h_t}$\n",
    "\n",
    "When we are doing language modelling using a cross-entropy loss, we additionally apply the softmax function to the output $o_{t}$:\n",
    "\n",
    "- $\\hat{y}_t = \\mathrm{softmax}(o_{t})$\n",
    "\n",
    "\n",
    "### Backpropagation through time\n",
    "\n",
    "We define a loss function\n",
    "\n",
    "- $E = \\sum_t E_t  = \\sum_t E_t(y_t ,\\hat{y}_t ) \\ , $\n",
    "\n",
    "where $E_t(y_t ,\\hat{y}_t )$ is the cross-entropy function.\n",
    "\n",
    "Backpropagation through time amounts to computing the gradients of the loss using the same type of clever bookkeeping we applied to the feed-forward network in week 1. This you will do in Exercise D."
   ]
  },
  {
   "cell_type": "markdown",
   "metadata": {
    "id": "GuvwbvsGz9KE"
   },
   "source": [
    "## Implementing an RNN\n",
    "\n",
    "We will implement the forward pass, backward pass, optimization and training loop for an RNN in Nanograd so that you can get familiar with the recurrent nature of RNNs. Later, we will go back to PyTorch."
   ]
  },
  {
   "cell_type": "markdown",
   "metadata": {
    "id": "gfbfcB-NJZuM"
   },
   "source": [
    "We define the Nanograd DenseLayer class from [lab 2](https://github.com/DeepLearningDTU/02456-deep-learning-with-PyTorch/blob/master/2_Feedforward_Python/2.1-EXE-FNN-AutoDif-Nanograd.ipynb) with a few additions:\n",
    "* the option use_bias to define a layer without bias. This is useful when we define the recurrent layer and\n",
    "* a method forward_sequence which is useful when a DenseLayer is used as part of a recurrent neural network"
   ]
  },
  {
   "cell_type": "code",
   "execution_count": 41,
   "metadata": {
    "id": "TqkVyEEACHKS"
   },
   "outputs": [],
   "source": [
    "from typing import Sequence\n",
    "\n",
    "class DenseLayer:\n",
    "    def __init__(self, n_in: int, n_out: int, act_fn, initializer = NormalInitializer(), use_bias=True):\n",
    "        self.weights = initializer.init_weights(n_in, n_out)\n",
    "        self.use_bias = use_bias\n",
    "        if use_bias:\n",
    "          self.bias = initializer.init_bias(n_out)\n",
    "        self.act_fn = act_fn\n",
    "    \n",
    "    def __repr__(self):    \n",
    "        return 'Weights: ' + repr(self.weights) + (' Biases: ' + repr(self.bias) if self.use_bias else '')\n",
    "\n",
    "    def parameters(self) -> Sequence[Var]:\n",
    "      params = []\n",
    "      for r in self.weights:\n",
    "        params += r\n",
    "\n",
    "      if self.use_bias:\n",
    "        params += self.bias\n",
    "\n",
    "      return params\n",
    "\n",
    "    def forward(self, input: Sequence[Var]) -> Sequence[Var]:\n",
    "        # self.weights is a matrix with dimension n_in x n_out. We check that the dimensionality of the input \n",
    "        # to the current layer matches the number of nodes in the current layer\n",
    "        assert len(self.weights) == len(input), \"weights and input must match in first dimension\"\n",
    "        weights = self.weights\n",
    "        out = []\n",
    "        # For some given data point single_input, we now want to calculate the resulting value in each node in the current layer\n",
    "        # We therefore loop over the (number of) nodes in the current layer:\n",
    "        for j in range(len(weights[0])): \n",
    "            # Initialize the node value depending on its corresponding parameters.\n",
    "            node = self.bias[j] if self.use_bias else Var(0.0)\n",
    "            # We now finish the linear transformation corresponding to the parameters of the currently considered node.\n",
    "            for i in range(len(input)):\n",
    "                node += input[i]*weights[i][j]\n",
    "            node = self.act_fn(node)\n",
    "            out.append(node)\n",
    "\n",
    "        return out\n",
    "    \n",
    "    def forward_sequence(self, input: Sequence[Sequence[Var]]) -> Sequence[Sequence[Var]]:\n",
    "        out = []\n",
    "        for i in range(len(input)): \n",
    "            node = self.forward(input[i])\n",
    "            out.append(node)\n",
    "\n",
    "        return out"
   ]
  },
  {
   "cell_type": "markdown",
   "metadata": {
    "id": "qDKFjjQEM-xX"
   },
   "source": [
    "## Exercise b) The RNNLayer class\n",
    "\n",
    "Complete the RNNLayer class below.\n",
    "\n",
    "Explain how we reuse the DenseLayer class.\n",
    "- We reuse the DenseLayer class to define the RNNLayer class. This way the cyclic computation (with weights v) between a hidden layer and itself (hid-hid) corresponds to a fully connected layer.\n",
    "\n",
    "Explain what the forward and the forward_sequence method do.\n",
    "- In the forward_step method the contributions from input and hidden state ($U x_t$ and $𝑉ℎ_{𝑡−1}$) are computed by doing a forward pass on the DenseLayer classes, in_hid_layer and hid_hid_layer, respeectively. We can then compute the hidden state $ℎ_𝑡=𝑓(𝑈𝑥_𝑡+𝑉ℎ_{𝑡−1})$ by applying the activation function (tanh) on the sum of the contributions.\n",
    "- In the forward_sequence method, the forward_step is repeated to update the hidden state $h_t$ (memory), which is then used to update the following hidden state and so on. Each hidden state update (hid) is saved in the list out."
   ]
  },
  {
   "cell_type": "code",
   "execution_count": 42,
   "metadata": {
    "id": "IcM1N6PQrT7l"
   },
   "outputs": [],
   "source": [
    "from typing import Sequence\n",
    "\n",
    "class RNNLayer:\n",
    "    def __init__(self, n_in: int, n_hid: int, act_fn, initializer = NormalInitializer(), initializer_hid = NormalInitializer()):\n",
    "        self.n_hid = n_hid\n",
    "        self.in_hid_layer = DenseLayer(n_in, n_hid, lambda x: x, initializer) # Weightmatrix U. Note n_in in the example above is 4 (length of the one-hot encoding)\n",
    "        self.hid_hid_layer = DenseLayer(n_hid, n_hid, lambda x: x, initializer_hid, use_bias=False) # Weightmatrix V. Note we already get a bias through in_hid_layer        \n",
    "        self.initial_hid = [Var(0.0) for _ in range(n_hid)]\n",
    "        self.stored_hid = [Var(0.0) for _ in range(n_hid)]\n",
    "        self.act_fn = act_fn\n",
    "    \n",
    "    def __repr__(self):    \n",
    "        return 'Feed-forward: ' + repr(self.in_hid_layer) + ' Recurrent: ' + repr(self.hid_hid_layer) + ' Initial hidden: ' + repr(self.initial_hid)\n",
    "\n",
    "    def parameters(self) -> Sequence[Var]:      \n",
    "      return self.in_hid_layer.parameters() + self.hid_hid_layer.parameters() + self.initial_hid\n",
    "\n",
    "    def forward_step(self, input: Sequence[Var], input_hid: Sequence[Var]) -> Sequence[Var]:\n",
    "        in_hids =  self.in_hid_layer.forward(input) # contribution from input, U*x_t\n",
    "        hid_hids =  self.hid_hid_layer.forward(input_hid) # contribution from hidden state, V*h_{t-1}\n",
    "\n",
    "        hids = []\n",
    "        for i in range(self.n_hid):\n",
    "          hids.append(self.act_fn(in_hids[i]+hid_hids[i])) # h_t = f(U*x_t + V*h_{t-1})$\n",
    "\n",
    "        return hids\n",
    "    \n",
    "    def forward_sequence(self, input: Sequence[Sequence[Var]], use_stored_hid = False) -> Sequence[Sequence[Var]]:\n",
    "        out = []\n",
    "        if use_stored_hid:\n",
    "            hid = self.stored_hid\n",
    "        else:\n",
    "            hid = self.initial_hid\n",
    "        # Takes a sequence and loops over each character in the sequence. Note that each character has dimension equal to the embedding dimension\n",
    "        for i in range(len(input)):\n",
    "            hid = self.forward_step(input[i], hid)\n",
    "            out.append(hid)\n",
    "        self.stored_hid = hid\n",
    "        return out"
   ]
  },
  {
   "cell_type": "markdown",
   "metadata": {
    "id": "VgAU6qPHKJFr"
   },
   "source": [
    "Now we can define a network and pass some data through it."
   ]
  },
  {
   "cell_type": "code",
   "execution_count": 43,
   "metadata": {
    "colab": {
     "base_uri": "https://localhost:8080/"
    },
    "id": "MFkZ5gNG6d7c",
    "outputId": "303d8708-21ec-414e-8cb0-44faa25b3b04"
   },
   "outputs": [
    {
     "name": "stdout",
     "output_type": "stream",
     "text": [
      "Feed-forward: Weights: [[Var(v=-0.0768, grad=0.0000), Var(v=-0.1322, grad=0.0000), Var(v=-0.0068, grad=0.0000), Var(v=-0.0764, grad=0.0000), Var(v=-0.1488, grad=0.0000)]] Biases: [Var(v=0.0000, grad=0.0000), Var(v=0.0000, grad=0.0000), Var(v=0.0000, grad=0.0000), Var(v=0.0000, grad=0.0000), Var(v=0.0000, grad=0.0000)] Recurrent: Weights: [[Var(v=0.1165, grad=0.0000), Var(v=-0.0318, grad=0.0000), Var(v=0.0943, grad=0.0000), Var(v=0.1127, grad=0.0000), Var(v=-0.0545, grad=0.0000)], [Var(v=0.0258, grad=0.0000), Var(v=-0.0827, grad=0.0000), Var(v=-0.1932, grad=0.0000), Var(v=-0.0194, grad=0.0000), Var(v=0.1154, grad=0.0000)], [Var(v=0.0049, grad=0.0000), Var(v=0.1798, grad=0.0000), Var(v=0.0448, grad=0.0000), Var(v=0.0425, grad=0.0000), Var(v=-0.0038, grad=0.0000)], [Var(v=0.0725, grad=0.0000), Var(v=-0.1591, grad=0.0000), Var(v=0.1419, grad=0.0000), Var(v=0.2763, grad=0.0000), Var(v=0.0307, grad=0.0000)], [Var(v=-0.0172, grad=0.0000), Var(v=0.1266, grad=0.0000), Var(v=0.0974, grad=0.0000), Var(v=0.1358, grad=0.0000), Var(v=-0.3006, grad=0.0000)]] Initial hidden: [Var(v=0.0000, grad=0.0000), Var(v=0.0000, grad=0.0000), Var(v=0.0000, grad=0.0000), Var(v=0.0000, grad=0.0000), Var(v=0.0000, grad=0.0000)]\n",
      "[[[Var(v=-0.0170, grad=1.0000)], [Var(v=-0.0228, grad=0.0000)], [Var(v=-0.0265, grad=0.0000)]], [[Var(v=-0.0170, grad=0.0000)], [Var(v=-0.0228, grad=0.0000)], [Var(v=-0.0265, grad=0.0000)]]]\n"
     ]
    }
   ],
   "source": [
    "NN = [\n",
    "    RNNLayer(1, 5, lambda x: x.tanh()),\n",
    "    DenseLayer(5, 1, lambda x: x.identity()) # Weightmatrix W\n",
    "]\n",
    "\n",
    "def forward_batch(input: Sequence[Sequence[Sequence[Var]]], network, use_stored_hid=False):\n",
    "  \n",
    "  def forward_single_sequence(x, network, use_stored_hid):\n",
    "    for layer in network:\n",
    "        if isinstance(layer, RNNLayer):\n",
    "            x = layer.forward_sequence(x, use_stored_hid) \n",
    "        else:\n",
    "            x = layer.forward_sequence(x)\n",
    "    return x\n",
    "\n",
    "  output = [ forward_single_sequence(input[n], network, use_stored_hid) for n in range(len(input))]\n",
    "  return output\n",
    "\n",
    "print(NN[0])\n",
    "x_train =[\n",
    "          [[Var(1.0)], [Var(2.0)], [Var(3.0)]],\n",
    "          [[Var(1.0)], [Var(2.0)], [Var(3.0)]]\n",
    "          ]\n",
    "\n",
    "output_train = forward_batch(x_train, NN)          \n",
    "output_train[0][0][0].backward()\n",
    "\n",
    "print(output_train)"
   ]
  },
  {
   "cell_type": "markdown",
   "metadata": {
    "id": "yolo5dKrk2hR"
   },
   "source": [
    "## Exercise c) Unit test\n",
    "\n",
    "Make unit tests to make sure that the output and the backward method work as it should.\n",
    "\n",
    "NOTE: The .backward() call above simply backpropagates a value in the output (and not a loss). Below, we will extend our loss functions to be able to handle backpropagation through time.\n",
    "\n",
    "Recycling code from [Lab 2](https://github.com/DeepLearningDTU/02456-deep-learning-with-PyTorch/blob/master/2_Feedforward_Python/2.1-EXE-FNN-AutoDif-Nanograd.ipynb) is fine. "
   ]
  },
  {
   "cell_type": "code",
   "execution_count": 44,
   "metadata": {
    "colab": {
     "base_uri": "https://localhost:8080/"
    },
    "id": "GhCB1ASwK3X7",
    "outputId": "29771c70-b2b6-4a0a-e932-63431130c152"
   },
   "outputs": [
    {
     "name": "stdout",
     "output_type": "stream",
     "text": [
      "Feed-forward: Weights: [[Var(v=1.0000, grad=0.0000)]] Biases: [Var(v=0.0000, grad=0.0000)] Recurrent: Weights: [[Var(v=1.0000, grad=0.0000)]] Initial hidden: [Var(v=0.0000, grad=0.0000)]\n",
      "[[[Var(v=1.0000, grad=1.0000)], [Var(v=2.0000, grad=0.0000)], [Var(v=3.0000, grad=0.0000)]]]\n"
     ]
    }
   ],
   "source": [
    "n_in = 1\n",
    "n_hid = 1\n",
    "n_out = 1\n",
    "\n",
    "NN = [\n",
    "    RNNLayer(n_in, n_hid, lambda x: x.identity(), initializer = ConstantInitializer(1.0), initializer_hid = ConstantInitializer(1.0)),\n",
    "    DenseLayer(n_hid, n_out, lambda x: x.identity(), initializer = ConstantInitializer(1.0), use_bias=False) # Weightmatrix W\n",
    "]\n",
    "\n",
    "print(NN[0])\n",
    "x_train =[\n",
    "          [[Var(1.0)], [Var(1.0)], [Var(1.0)]]\n",
    "          ]\n",
    "\n",
    "output_train = forward_batch(x_train, NN, use_stored_hid=True)          \n",
    "output_train[0][0][0].backward()\n",
    "\n",
    "print(output_train) # we expect the output to have the Var values 1, 2, 3, respectively. So this means that the length of the input vector determines how many repitions is done in the recurrent layer.\n",
    "\n",
    "# Pattern: previous value * n_hid + n_hid\n",
    "\n",
    "assert output_train[0][-1][-1].v == 3.0 "
   ]
  },
  {
   "cell_type": "markdown",
   "metadata": {
    "id": "4d4_2b6mK5jH"
   },
   "source": [
    "\n",
    "## Exercise d) Advanced initialization\n",
    "\n",
    "How can we use He initialization for the recurrent layer?\n",
    "\n",
    "Hint: the sum of two unit variance stochastic variables have variance 2.\n",
    "\n",
    "Insert code for He initialization of the recurrent layer. Again, recycling code from Lab 2 is fine. "
   ]
  },
  {
   "cell_type": "code",
   "execution_count": 45,
   "metadata": {
    "id": "oRn3mDnzLxu2"
   },
   "outputs": [],
   "source": [
    "## He\n",
    "def DenseLayer_He_tanh(n_in: int, n_out: int):\n",
    "  alpha = 1\n",
    "  std = np.sqrt(alpha/n_in + alpha/n_out)\n",
    "  return DenseLayer(n_in, n_out, lambda x: x.tanh(), initializer = NormalInitializer(std))"
   ]
  },
  {
   "cell_type": "markdown",
   "metadata": {
    "id": "ozNN9xXML0yc"
   },
   "source": [
    "## Exercise e) Sequence loss function\n",
    "\n",
    "We want to solve a sequence to sequence problem. So you need a sequence loss function. \n",
    "\n",
    "Implement the function such that the sequence loss can take flexible input dimensions and so that it can take any loss as an argument, such as squared loss and cross entropy. (We recommend using cross entropy below)\n",
    "\n",
    "We have provided a bit of code to try it out.\n",
    "\n",
    "Hints: You can get inspiration from the forward_sequence method above. You can copy and paste squared loss and cross entropy from Lab 2. "
   ]
  },
  {
   "cell_type": "code",
   "execution_count": 46,
   "metadata": {
    "colab": {
     "base_uri": "https://localhost:8080/"
    },
    "id": "bYpEnbeMP4yL",
    "outputId": "d4176574-4fac-4e14-91c8-1d64c03e0a99"
   },
   "outputs": [
    {
     "name": "stdout",
     "output_type": "stream",
     "text": [
      "[[[Var(v=0.0097, grad=0.0000), Var(v=0.0029, grad=0.0000), Var(v=-0.0001, grad=0.0000), Var(v=-0.0019, grad=0.0000)], [Var(v=0.0095, grad=0.0000), Var(v=0.0039, grad=0.0000), Var(v=-0.0006, grad=0.0000), Var(v=-0.0012, grad=0.0000)], [Var(v=0.0096, grad=0.0000), Var(v=0.0039, grad=0.0000), Var(v=-0.0005, grad=0.0000), Var(v=-0.0012, grad=0.0000)], [Var(v=0.0007, grad=0.0000), Var(v=-0.0051, grad=0.0000), Var(v=0.0025, grad=0.0000), Var(v=-0.0034, grad=0.0000)], [Var(v=0.0005, grad=0.0000), Var(v=-0.0059, grad=0.0000), Var(v=0.0028, grad=0.0000), Var(v=-0.0039, grad=0.0000)], [Var(v=0.0005, grad=0.0000), Var(v=-0.0059, grad=0.0000), Var(v=0.0028, grad=0.0000), Var(v=-0.0039, grad=0.0000)]], [[Var(v=0.0097, grad=0.0000), Var(v=0.0029, grad=0.0000), Var(v=-0.0001, grad=0.0000), Var(v=-0.0019, grad=0.0000)], [Var(v=0.0006, grad=0.0000), Var(v=-0.0050, grad=0.0000), Var(v=0.0024, grad=0.0000), Var(v=-0.0034, grad=0.0000)]], [[Var(v=0.0097, grad=0.0000), Var(v=0.0029, grad=0.0000), Var(v=-0.0001, grad=0.0000), Var(v=-0.0019, grad=0.0000)], [Var(v=0.0095, grad=0.0000), Var(v=0.0039, grad=0.0000), Var(v=-0.0006, grad=0.0000), Var(v=-0.0012, grad=0.0000)], [Var(v=0.0096, grad=0.0000), Var(v=0.0039, grad=0.0000), Var(v=-0.0005, grad=0.0000), Var(v=-0.0012, grad=0.0000)], [Var(v=0.0007, grad=0.0000), Var(v=-0.0051, grad=0.0000), Var(v=0.0025, grad=0.0000), Var(v=-0.0034, grad=0.0000)], [Var(v=0.0005, grad=0.0000), Var(v=-0.0059, grad=0.0000), Var(v=0.0028, grad=0.0000), Var(v=-0.0039, grad=0.0000)], [Var(v=0.0005, grad=0.0000), Var(v=-0.0059, grad=0.0000), Var(v=0.0028, grad=0.0000), Var(v=-0.0039, grad=0.0000)]]]\n",
      "Loss: Var(v=19.3263, grad=0.0000)\n",
      "Output: [[[Var(v=0.0097, grad=-0.7453), Var(v=0.0029, grad=0.2491), Var(v=-0.0001, grad=0.2483), Var(v=-0.0019, grad=0.2479)], [Var(v=0.0095, grad=-0.7454), Var(v=0.0039, grad=0.2493), Var(v=-0.0006, grad=0.2481), Var(v=-0.0012, grad=0.2480)], [Var(v=0.0096, grad=0.2507), Var(v=0.0039, grad=-0.7468), Var(v=-0.0005, grad=0.2481), Var(v=-0.0012, grad=0.2480)], [Var(v=0.0007, grad=0.2495), Var(v=-0.0051, grad=-0.7479), Var(v=0.0025, grad=0.2499), Var(v=-0.0034, grad=0.2485)], [Var(v=0.0005, grad=0.2495), Var(v=-0.0059, grad=-0.7481), Var(v=0.0028, grad=0.2501), Var(v=-0.0039, grad=0.2484)], [Var(v=0.0005, grad=0.2495), Var(v=-0.0059, grad=0.2479), Var(v=0.0028, grad=-0.7459), Var(v=-0.0039, grad=0.2484)]], [[Var(v=0.0097, grad=0.2508), Var(v=0.0029, grad=-0.7470), Var(v=-0.0001, grad=0.2483), Var(v=-0.0019, grad=0.2479)], [Var(v=0.0006, grad=0.2495), Var(v=-0.0050, grad=0.2481), Var(v=0.0024, grad=-0.7461), Var(v=-0.0034, grad=0.2485)]], [[Var(v=0.0097, grad=-0.7453), Var(v=0.0029, grad=0.2491), Var(v=-0.0001, grad=0.2483), Var(v=-0.0019, grad=0.2479)], [Var(v=0.0095, grad=-0.7454), Var(v=0.0039, grad=0.2493), Var(v=-0.0006, grad=0.2481), Var(v=-0.0012, grad=0.2480)], [Var(v=0.0096, grad=0.2507), Var(v=0.0039, grad=-0.7468), Var(v=-0.0005, grad=0.2481), Var(v=-0.0012, grad=0.2480)], [Var(v=0.0007, grad=0.2495), Var(v=-0.0051, grad=-0.7479), Var(v=0.0025, grad=0.2499), Var(v=-0.0034, grad=0.2485)], [Var(v=0.0005, grad=0.2495), Var(v=-0.0059, grad=-0.7481), Var(v=0.0028, grad=0.2501), Var(v=-0.0039, grad=0.2484)], [Var(v=0.0005, grad=0.2495), Var(v=-0.0059, grad=0.2479), Var(v=0.0028, grad=-0.7459), Var(v=-0.0039, grad=0.2484)]]]\n",
      "Network before update:\n",
      "Layer 0 \n",
      " Feed-forward: Weights: [[Var(v=-0.1109, grad=0.2171), Var(v=0.0413, grad=-0.1335)], [Var(v=-0.0090, grad=-0.0919), Var(v=-0.0447, grad=-0.0709)], [Var(v=-0.2915, grad=0.0000), Var(v=-0.0177, grad=0.0000)], [Var(v=0.1461, grad=0.0000), Var(v=-0.1524, grad=0.0000)]] Biases: [Var(v=0.0000, grad=0.1252), Var(v=0.0000, grad=-0.2043)] Recurrent: Weights: [[Var(v=-0.0411, grad=-0.0084), Var(v=-0.0667, grad=0.0203)], [Var(v=-0.0668, grad=0.0044), Var(v=0.0031, grad=-0.0122)]] Initial hidden: [Var(v=0.0000, grad=-0.0022), Var(v=0.0000, grad=-0.0069)]\n",
      "Layer 1 \n",
      " Weights: [[Var(v=-0.0874, grad=0.2326), Var(v=0.0229, grad=0.1528), Var(v=-0.0223, grad=-0.1834), Var(v=0.0478, grad=-0.2019)], [Var(v=0.0006, grad=-0.1717), Var(v=0.1311, grad=0.0320), Var(v=-0.0612, grad=0.1324), Var(v=0.0823, grad=0.0073)]] Biases: [Var(v=0.0000, grad=-0.4826), Var(v=0.0000, grad=-3.4919), Var(v=0.0000, grad=0.4998), Var(v=0.0000, grad=3.4747)]\n",
      "\n",
      "Network after update:\n",
      "Layer 0 \n",
      " Feed-forward: Weights: [[Var(v=-0.1131, grad=0.2171), Var(v=0.0427, grad=-0.1335)], [Var(v=-0.0081, grad=-0.0919), Var(v=-0.0440, grad=-0.0709)], [Var(v=-0.2915, grad=0.0000), Var(v=-0.0177, grad=0.0000)], [Var(v=0.1461, grad=0.0000), Var(v=-0.1524, grad=0.0000)]] Biases: [Var(v=-0.0013, grad=0.1252), Var(v=0.0020, grad=-0.2043)] Recurrent: Weights: [[Var(v=-0.0410, grad=-0.0084), Var(v=-0.0669, grad=0.0203)], [Var(v=-0.0668, grad=0.0044), Var(v=0.0032, grad=-0.0122)]] Initial hidden: [Var(v=0.0000, grad=-0.0022), Var(v=0.0001, grad=-0.0069)]\n",
      "Layer 1 \n",
      " Weights: [[Var(v=-0.0897, grad=0.2326), Var(v=0.0214, grad=0.1528), Var(v=-0.0204, grad=-0.1834), Var(v=0.0498, grad=-0.2019)], [Var(v=0.0023, grad=-0.1717), Var(v=0.1307, grad=0.0320), Var(v=-0.0625, grad=0.1324), Var(v=0.0822, grad=0.0073)]] Biases: [Var(v=0.0048, grad=-0.4826), Var(v=0.0349, grad=-3.4919), Var(v=-0.0050, grad=0.4998), Var(v=-0.0347, grad=3.4747)]\n",
      "\n",
      "Network after zeroing gradients:\n",
      "Layer 0 \n",
      " Feed-forward: Weights: [[Var(v=-0.1131, grad=0.0000), Var(v=0.0427, grad=0.0000)], [Var(v=-0.0081, grad=0.0000), Var(v=-0.0440, grad=0.0000)], [Var(v=-0.2915, grad=0.0000), Var(v=-0.0177, grad=0.0000)], [Var(v=0.1461, grad=0.0000), Var(v=-0.1524, grad=0.0000)]] Biases: [Var(v=-0.0013, grad=0.0000), Var(v=0.0020, grad=0.0000)] Recurrent: Weights: [[Var(v=-0.0410, grad=0.0000), Var(v=-0.0669, grad=0.0000)], [Var(v=-0.0668, grad=0.0000), Var(v=0.0032, grad=0.0000)]] Initial hidden: [Var(v=0.0000, grad=0.0000), Var(v=0.0001, grad=0.0000)]\n",
      "Layer 1 \n",
      " Weights: [[Var(v=-0.0897, grad=0.0000), Var(v=0.0214, grad=0.0000), Var(v=-0.0204, grad=0.0000), Var(v=0.0498, grad=0.0000)], [Var(v=0.0023, grad=0.0000), Var(v=0.1307, grad=0.0000), Var(v=-0.0625, grad=0.0000), Var(v=0.0822, grad=0.0000)]] Biases: [Var(v=0.0048, grad=0.0000), Var(v=0.0349, grad=0.0000), Var(v=-0.0050, grad=0.0000), Var(v=-0.0347, grad=0.0000)]\n"
     ]
    },
    {
     "data": {
      "text/plain": [
       "[None, None]"
      ]
     },
     "execution_count": 46,
     "metadata": {},
     "output_type": "execute_result"
    }
   ],
   "source": [
    "def squared_loss_sequence(t, y):\n",
    "    \n",
    "    # add check that sizes agree\n",
    "    assert len(t) == len(y), \"one-hot encodings have different shapes\"\n",
    "    \n",
    "    def squared_loss_single(t, y):\n",
    "\n",
    "        # add check that sizes agree\n",
    "        assert len(t) == len(y), \"one-hot encodings have different shapes\"\n",
    "        \n",
    "        Loss = Var(0.0)\n",
    "        for i in range(len(t)):\n",
    "          Loss += (t[i]-y[i])**2\n",
    "\n",
    "        return Loss\n",
    "\n",
    "    Loss = Var(0.0)\n",
    "    for n in range(len(t)): # sum over training data\n",
    "      Loss += squared_loss_single(t[n],y[n])\n",
    "\n",
    "    return Loss\n",
    "\n",
    "def cross_entropy_loss_sequence(t, y):\n",
    "\n",
    "    # add check that sizes agree\n",
    "    assert len(t) == len(y), \"one-hot encodings have different shapes\"\n",
    "\n",
    "    def cross_entropy_loss_single(t, y):\n",
    "\n",
    "        # add check that sizes agree\n",
    "        assert len(t) == len(y), \"one-hot encodings have different shapes\"\n",
    "\n",
    "        Loss = Var(0.0)\n",
    "        denominator = Var(0.0)\n",
    "        for i in range(len(t)): # sum over one-hot encoding of character\n",
    "          denominator += t[i].exp()\n",
    "\n",
    "        for i in range(len(t)): # sum over one-hot-encoding of character\n",
    "            t_softmax = t[i].exp() / denominator\n",
    "            Loss += -y[i]*(t_softmax+Var(0.001)).log()\n",
    "        return Loss\n",
    "\n",
    "    Loss = Var(0.0)\n",
    "    for n in range(len(t)): # sum over training data\n",
    "      for i in range(len(t[n])): # sum over characters in output sequence\n",
    "          Loss += cross_entropy_loss_single(t[n][i],y[n][i])\n",
    "    return Loss\n",
    "\n",
    "def sequence_loss(t: Sequence[Sequence[Var]], y: Sequence[Sequence[Var]], loss_fn=cross_entropy_loss_sequence) -> Var:\n",
    "    assert len(t) == len(y), \"one-hot encodings have different shapes\"\n",
    "    return loss_fn(t, y)\n",
    "\n",
    "\n",
    "# Test of loss func\n",
    "NN = [\n",
    "    RNNLayer(4, 2, lambda x: x.tanh()),\n",
    "    DenseLayer(2, 4, lambda x: x.identity())\n",
    "]\n",
    "\n",
    "output_train = forward_batch(encoded_training_set_x[:3], NN)\n",
    "print(output_train)       \n",
    "loss = sequence_loss(output_train, encoded_training_set_y[:3], cross_entropy_loss_sequence)\n",
    "print(\"Loss:\", loss)\n",
    "loss.backward()\n",
    "\n",
    "print(\"Output:\", output_train)\n",
    "\n",
    "print('Network before update:')\n",
    "[print('Layer', i, '\\n', NN[i]) for i in range(len(NN))] \n",
    "\n",
    "def parameters(network):\n",
    "  params = []\n",
    "  for layer in range(len(network)):\n",
    "    params += network[layer].parameters()\n",
    "  return params\n",
    "\n",
    "def update_parameters(params, learning_rate=0.01):\n",
    "  for p in params:\n",
    "    p.v -= learning_rate*p.grad\n",
    "\n",
    "def zero_gradients(params):\n",
    "  for p in params:\n",
    "    p.grad = 0.0\n",
    "\n",
    "update_parameters(parameters(NN))\n",
    "\n",
    "print('\\nNetwork after update:')\n",
    "[print('Layer', i, '\\n', NN[i]) for i in range(len(NN))] \n",
    "\n",
    "zero_gradients(parameters(NN))\n",
    "\n",
    "print('\\nNetwork after zeroing gradients:')\n",
    "[print('Layer', i, '\\n', NN[i]) for i in range(len(NN))] \n"
   ]
  },
  {
   "cell_type": "markdown",
   "metadata": {
    "id": "ezSRiVJzk2h5"
   },
   "source": [
    "# Backpropagation through time \n",
    "\n",
    "Since we have automatic differentiation we don't have to code the backpropagation rule by hand. Just to give you a bit of appreciation for have much bookkeeping is necessary we have given the derivation belwo.\n",
    "\n",
    "We need to compute the partial derivatives\n",
    "$\n",
    "\\frac{\\partial E}{\\partial W},~\\frac{\\partial E}{\\partial U},~\\frac{\\partial E}{\\partial V}\n",
    "$. \n",
    "We repeat the definition of the RNN forward pass from above:\n",
    "\n",
    "- $h_t = f(U\\,{x_t} + V\\,{h_{t-1}})$, where $f$ usually is an activation function, e.g. $\\mathrm{tanh}$.\n",
    "- $o_t = W\\,{h_t}$\n",
    "- $\\hat{y}_t = \\mathrm{softmax}(o_{t})$\n",
    "\n",
    "where\n",
    "- $U$ is a weight matrix applied to the given input sample,\n",
    "- $V$ is a weight matrix used for the recurrent computation in order to pass memory along the sequence,\n",
    "- $W$ is a weight matrix used to compute the output of the every timestep (given that every timestep requires an output), and\n",
    "- $h$ is the hidden state (the network's memory) for a given time step.\n",
    "\n",
    "Recall though, that RNNs are recurrent and the weights $W,~U,~V$ are shared across time, i.e. we do not have separate weights for each time step. Therefore, to compute e.g. the partial derivative $\\frac{\\partial E}{\\partial W}$, we need to 1) sum up across time, and 2) apply the chain rule:\n",
    "\n",
    "$$\\frac{\\partial E}{\\partial W} = \\sum_{t} \\frac{\\partial E}{\\partial o_{t}} \\frac{\\partial o_{t}}{\\partial W}\\,.$$\n",
    "To compute$\\frac{\\partial o_{t}}{\\partial W}$ we use the definition of $o_t$ above.\n",
    "From week 1 (exercise i) we have that\n",
    "$$\\delta_{o,t} \\equiv \\frac{\\partial E}{\\partial o_{t}} = \\frac{\\partial E_t}{\\partial o_{t}} = \\hat{y}_{t} - y_{t}\\,,$$\n",
    "where $\\hat{y}_{t}$ is a softmax distribution over model outputs $o_{t}$ at time $t$, and $y_{t}$ is the target label at time $t$. \n",
    "\n",
    "To compute $\\frac{\\partial E}{\\partial U}$ and $\\frac{\\partial E}{\\partial V}$ we again sum over time and use the chain rule:\n",
    "$$\n",
    "\\frac{\\partial E}{\\partial U} = \\sum_{t} \\frac{\\partial E}{\\partial h_{t}} \\frac{\\partial h_{t}}{\\partial U} \\ . \n",
    "$$\n",
    "This leads us to introduce\n",
    "$$\n",
    "\\delta_{h,t} \\equiv \\frac{\\partial E}{\\partial h_{t}} \\ .\n",
    "$$\n",
    "The backpropagation through time recursion is derived by realising that a variation of $h_t$ affects 1) the loss at time step $t$ through the feed-forward connection to the output and 2) the future losses through the $h_{t+1}$ dependence of $h_t$. Mathematically, we write this through the chain rule:\n",
    "\n",
    "$$\n",
    "\\delta_{h,t} \\equiv \\frac{\\partial E}{\\partial h_{t}} =  \\frac{\\partial E}{\\partial o_{t}} \\frac{\\partial o_t}{\\partial h_{t}} + \\frac{\\partial E}{\\partial h_{t+1}}\n",
    "\\frac{\\partial h_{t+1}}{\\partial h_{t}} = \\delta_{o,t} \\frac{\\partial o_t}{\\partial h_{t}} + \\delta_{h,t+1}\n",
    "\\frac{\\partial h_{t+1}}{\\partial h_{t}} \\ . \n",
    "$$\n",
    "\n",
    "Like above we can compute $\\frac{\\partial h_{t+1}}{\\partial h_{t}}$ using the definition of the network (shifted one time step). In the code the intermediate steps to compute the $\\delta$ recursions have been precomputed for you. \n",
    "\n",
    "For more information on backpropagation through time see the [Deep learning book section 10.2.2](https://www.deeplearningbook.org/contents/rnn.html).\n"
   ]
  },
  {
   "cell_type": "markdown",
   "metadata": {
    "id": "XIy3OZaQSrVL"
   },
   "source": [
    "# Exercise f) Complete the training loop\n",
    "\n",
    "Complete the training loop above and run the training. You can leave the hyper-parameters and network size unchanged.\n",
    "\n",
    "Note that despite the small size of the network and dataset, training still takes quite a while. This is an issue with the recurrent structure of Nanograd. Using PyTorch, we would be able to use much larger datasets and models. We will attempt that in the bottom of the notebook. For now, you should get a feel of the recurrent structure of the RNN under the hood."
   ]
  },
  {
   "cell_type": "code",
   "execution_count": 47,
   "metadata": {
    "id": "MkaqbWmroncY"
   },
   "outputs": [],
   "source": [
    "# Initialize training hyperparameters\n",
    "EPOCHS = 200\n",
    "LR = 1e-2 \n",
    "LR_DECAY = 0.995"
   ]
  },
  {
   "cell_type": "code",
   "execution_count": 48,
   "metadata": {
    "colab": {
     "base_uri": "https://localhost:8080/",
     "height": 959
    },
    "id": "-JtM_IQjonfK",
    "outputId": "40060a32-e250-47c6-be6a-79ff04397761"
   },
   "outputs": [
    {
     "name": "stdout",
     "output_type": "stream",
     "text": [
      "   0 ( 0.00%) Train loss: 5.462 \t Validation loss: 4.239\n",
      "   5 ( 2.50%) Train loss: 4.549 \t Validation loss: 3.708\n",
      "  10 ( 5.00%) Train loss: 4.375 \t Validation loss: 3.589\n",
      "  15 ( 7.50%) Train loss: 4.151 \t Validation loss: 3.414\n",
      "  20 (10.00%) Train loss: 3.617 \t Validation loss: 3.013\n",
      "  25 (12.50%) Train loss: 3.245 \t Validation loss: 2.750\n",
      "  30 (15.00%) Train loss: 3.083 \t Validation loss: 2.633\n",
      "  35 (17.50%) Train loss: 2.998 \t Validation loss: 2.574\n",
      "  40 (20.00%) Train loss: 2.945 \t Validation loss: 2.541\n",
      "  45 (22.50%) Train loss: 2.905 \t Validation loss: 2.520\n",
      "  50 (25.00%) Train loss: 2.872 \t Validation loss: 2.506\n",
      "  55 (27.50%) Train loss: 2.842 \t Validation loss: 2.492\n",
      "  60 (30.00%) Train loss: 2.813 \t Validation loss: 2.474\n",
      "  65 (32.50%) Train loss: 2.782 \t Validation loss: 2.451\n",
      "  70 (35.00%) Train loss: 2.745 \t Validation loss: 2.417\n",
      "  75 (37.50%) Train loss: 2.699 \t Validation loss: 2.371\n",
      "  80 (40.00%) Train loss: 2.643 \t Validation loss: 2.312\n",
      "  85 (42.50%) Train loss: 2.586 \t Validation loss: 2.249\n",
      "  90 (45.00%) Train loss: 2.533 \t Validation loss: 2.190\n",
      "  95 (47.50%) Train loss: 2.478 \t Validation loss: 2.137\n",
      " 100 (50.00%) Train loss: 2.335 \t Validation loss: 2.013\n",
      " 105 (52.50%) Train loss: 2.024 \t Validation loss: 1.858\n",
      " 110 (55.00%) Train loss: 1.878 \t Validation loss: 1.759\n",
      " 115 (57.50%) Train loss: 1.774 \t Validation loss: 1.681\n",
      " 120 (60.00%) Train loss: 1.698 \t Validation loss: 1.623\n",
      " 125 (62.50%) Train loss: 1.634 \t Validation loss: 1.574\n",
      " 130 (65.00%) Train loss: 1.578 \t Validation loss: 1.527\n",
      " 135 (67.50%) Train loss: 1.532 \t Validation loss: 1.485\n",
      " 140 (70.00%) Train loss: 1.496 \t Validation loss: 1.453\n",
      " 145 (72.50%) Train loss: 1.466 \t Validation loss: 1.427\n",
      " 150 (75.00%) Train loss: 1.441 \t Validation loss: 1.404\n",
      " 155 (77.50%) Train loss: 1.418 \t Validation loss: 1.383\n",
      " 160 (80.00%) Train loss: 1.398 \t Validation loss: 1.363\n",
      " 165 (82.50%) Train loss: 1.379 \t Validation loss: 1.344\n",
      " 170 (85.00%) Train loss: 1.362 \t Validation loss: 1.325\n",
      " 175 (87.50%) Train loss: 1.346 \t Validation loss: 1.308\n",
      " 180 (90.00%) Train loss: 1.331 \t Validation loss: 1.291\n",
      " 185 (92.50%) Train loss: 1.317 \t Validation loss: 1.275\n",
      " 190 (95.00%) Train loss: 1.304 \t Validation loss: 1.260\n",
      " 195 (97.50%) Train loss: 1.292 \t Validation loss: 1.245\n"
     ]
    },
    {
     "data": {
      "image/png": "[encoded data removed]",
      "text/plain": [
       "<Figure size 432x288 with 1 Axes>"
      ]
     },
     "metadata": {
      "needs_background": "light"
     },
     "output_type": "display_data"
    }
   ],
   "source": [
    "train_loss = []\n",
    "val_loss = []\n",
    "\n",
    "#batch_size = 8\n",
    "batch_size = 5\n",
    "\n",
    "NN = [\n",
    "    RNNLayer(4, 2, lambda x: x.tanh()),\n",
    "    DenseLayer(2, 4, lambda x: x.identity())\n",
    "]\n",
    "\n",
    "for e in range(EPOCHS):\n",
    "\n",
    "    running_loss = 0.0\n",
    "    for b in range(int(np.ceil(len(encoded_training_set_x)/batch_size))):\n",
    "        x_train = encoded_training_set_x[b:b+batch_size]\n",
    "        y_train = encoded_training_set_y[b:b+batch_size]\n",
    "\n",
    "        # Forward pass and loss computation\n",
    "        output_train = forward_batch(x_train, NN)\n",
    "        Loss = sequence_loss(output_train, y_train) # batch loss\n",
    "\n",
    "        # Backward pass\n",
    "        Loss.backward()\n",
    "        \n",
    "        running_loss += Loss.v\n",
    "        \n",
    "        # gradient descent update\n",
    "        update_parameters(parameters(NN), LR)\n",
    "        zero_gradients(parameters(NN))\n",
    "        \n",
    "      \n",
    "    LR = LR * LR_DECAY\n",
    "\n",
    "    # Training loss\n",
    "    train_loss.append(running_loss/len(encoded_training_set_y))\n",
    "        \n",
    "    # Validation loss\n",
    "    output_validation = forward_batch(encoded_validation_set_x, NN)\n",
    "    Loss_validation = sequence_loss(output_validation, encoded_validation_set_y)\n",
    "    val_loss.append(Loss_validation.v/len(encoded_validation_set_y))\n",
    "    \n",
    "    if e%5==0:\n",
    "        print(\"{:4d}\".format(e),\n",
    "              \"({:5.2f}%)\".format(e/EPOCHS*100), \n",
    "              \"Train loss: {:4.3f} \\t Validation loss: {:4.3f}\".format(train_loss[-1], val_loss[-1]))\n",
    "        \n",
    "# Plot training and validation loss\n",
    "import matplotlib.pyplot as plt\n",
    "%matplotlib inline\n",
    "epoch = np.arange(len(train_loss))\n",
    "plt.figure()\n",
    "plt.plot(epoch, train_loss, 'r', label='Training loss',)\n",
    "plt.plot(epoch, val_loss, 'b', label='Validation loss')\n",
    "plt.legend()\n",
    "plt.xlabel('Epoch'), plt.ylabel('NLL')\n",
    "plt.show()"
   ]
  },
  {
   "cell_type": "code",
   "execution_count": 49,
   "metadata": {
    "colab": {
     "base_uri": "https://localhost:8080/"
    },
    "id": "nAI_D6g25pTQ",
    "outputId": "d1b6f6e4-6ba6-4b8b-9352-959a93df545a"
   },
   "outputs": [
    {
     "name": "stdout",
     "output_type": "stream",
     "text": [
      "Input sentence:\n",
      "['a', 'a', 'a', 'b', 'b', 'b']\n",
      "\n",
      "Target sequence:\n",
      "['a', 'a', 'b', 'b', 'b', 'EOS']\n",
      "\n",
      "Predicted sequence:\n",
      "['a', 'a', 'b', 'b', 'b', 'EOS']\n"
     ]
    }
   ],
   "source": [
    "# Get first sentence in test set\n",
    "inputs, targets = test_set[0]\n",
    "\n",
    "# One-hot encode input and target sequence\n",
    "inputs_one_hot = one_hot_encode_sequence(inputs, vocab_size)\n",
    "targets_one_hot = one_hot_encode_sequence(targets, vocab_size)\n",
    "\n",
    "# Forward pass\n",
    "outputs = forward_batch(encoded_test_set_x[:1], NN)\n",
    "\n",
    "output_sentence = [idx_to_word[np.argmax(output)] for output in Var_to_nparray(outputs[0])]\n",
    "\n",
    "print('Input sentence:')\n",
    "print(inputs)\n",
    "\n",
    "print('\\nTarget sequence:')\n",
    "print(targets)\n",
    "\n",
    "print('\\nPredicted sequence:')\n",
    "print([idx_to_word[np.argmax(output)] for output in Var_to_nparray(outputs[0])])"
   ]
  },
  {
   "cell_type": "markdown",
   "metadata": {
    "id": "Nn7QpUZXk2iH"
   },
   "source": [
    "## Exercise g) Extrapolation\n",
    "\n",
    "Now that we have trained an RNN, it's time to put it to test. We will provide the network with a starting sentence and let it `freestyle` from there!\n",
    "\n",
    "How well does your RNN extrapolate -- does it work as expected? Are there any imperfections? If yes, why could that be?\n",
    "\n",
    "**Answer**\n",
    "So the goal of this exercise is to provide the trained RNN with a starting sentence (see the 5 test examples) and then predict up til 10 (num_generate) following letters of the respective sentence. Since the RNN has been trained on a dataset with sequences that contain the same amount of a's and b's, always starts with an a and ends with EOS. Therefore, we would expect that the extrapolation will also have this \"pattern\". In all examples the predicted sequence starts with a and ends with EOS as expected. The number of a's and b's are somewhat equal (not perfect)."
   ]
  },
  {
   "cell_type": "code",
   "execution_count": 52,
   "metadata": {
    "colab": {
     "base_uri": "https://localhost:8080/"
    },
    "id": "4GNsD6HEJ-Gn",
    "outputId": "4f75ba1c-e3a8-43e1-ef3d-3a35c8a6a586"
   },
   "outputs": [
    {
     "name": "stdout",
     "output_type": "stream",
     "text": [
      "Example 0: a a b\n",
      "Predicted sequence: ['a', 'a', 'b', 'EOS']\n",
      "\n",
      "Example 1: a a a a b\n",
      "Predicted sequence: ['a', 'a', 'a', 'a', 'b', 'b', 'a', 'a', 'b', 'b', 'b', 'b', 'b', 'b', 'EOS']\n",
      "\n",
      "Example 2: a a a a a a b\n",
      "Predicted sequence: ['a', 'a', 'a', 'a', 'a', 'a', 'b', 'b', 'a', 'a', 'b', 'b', 'b', 'b', 'b', 'EOS']\n",
      "\n",
      "Example 3: a\n",
      "Predicted sequence: ['a', 'a', 'a', 'a', 'b', 'b', 'b', 'b', 'EOS']\n",
      "\n",
      "Example 4: r n n\n",
      "Predicted sequence: ['r', 'n', 'n', 'a', 'EOS']\n",
      "\n"
     ]
    }
   ],
   "source": [
    "def freestyle(NN, sentence='', num_generate=10):\n",
    "    \"\"\"\n",
    "    Takes in a sentence as a string and outputs a sequence\n",
    "    based on the predictions of the RNN.\n",
    "    \n",
    "    Args:\n",
    "     `params`: the parameters of the network\n",
    "     `sentence`: string with whitespace-separated tokens\n",
    "     `num_generate`: the number of tokens to generate\n",
    "    \"\"\"\n",
    "    sentence = sentence.split(' ')\n",
    "    output_sentence = sentence\n",
    "    sentence_one_hot = one_hot_encode_sequence(sentence, vocab_size)\n",
    "\n",
    "    # Begin predicting\n",
    "    outputs = forward_batch([sentence_one_hot], NN, use_stored_hid=False)\n",
    "    output_words = [idx_to_word[np.argmax(output)] for output in Var_to_nparray(outputs[0])]\n",
    "    word = output_words[-1]\n",
    "\n",
    "    # Append first prediction\n",
    "    output_sentence.append(word)\n",
    "\n",
    "    # Forward pass\n",
    "    if word != 'EOS':\n",
    "      for i in range(num_generate-1):\n",
    "          sentence_one_hot = one_hot_encode_sequence(sentence, vocab_size)\n",
    "          outputs = forward_batch([sentence_one_hot], NN, use_stored_hid=False)\n",
    "          output_words = [idx_to_word[np.argmax(output)] for output in Var_to_nparray(outputs[0])]\n",
    "          word = output_words[i]\n",
    "          output_sentence.append(word)\n",
    "          if word == 'EOS':\n",
    "              break\n",
    "          \n",
    "    return output_sentence\n",
    "\n",
    "\n",
    "# Perform freestyle (extrapolation)\n",
    "test_examples = ['a a b', 'a a a a b', 'a a a a a a b', 'a', 'r n n'] \n",
    "for i, test_example in enumerate(test_examples):\n",
    "    print(f'Example {i}:', test_example)\n",
    "    print('Predicted sequence:', freestyle(NN, sentence=test_example), end='\\n\\n')"
   ]
  },
  {
   "cell_type": "markdown",
   "metadata": {
    "id": "X44hQ653vNCj"
   },
   "source": [
    "# Introduction to the Long Short-Term Memory (LSTM) Cell\n",
    "\n",
    "Reading material: [Christopher Olah's walk-through](http://colah.github.io/posts/2015-08-Understanding-LSTMs/).\n",
    "\n",
    "___\n",
    "\n",
    "\n",
    "A vanilla RNN suffers from [the vanishing gradients problem](http://neuralnetworksanddeeplearning.com/chap5.html#the_vanishing_gradient_problem) which gives challenges in saving memory over longer sequences. To combat these issues the gated hidden units were created. The two most prominent gated hidden units are the Long Short-Term Memory (LSTM) cell and the Gated Recurrent Unit (GRU), both of which have shown increased performance in saving and reusing memory in later timesteps. In this exercise, we will focus on LSTM but you would easily be able to go ahead and implement the GRU as well based on the principles that you learn here.\n",
    "\n",
    "Below is a figure of the LSTM cell:"
   ]
  },
  {
   "cell_type": "markdown",
   "metadata": {
    "id": "5Rgc-g3zwV9f"
   },
   "source": [
    "![lstm](https://i.imgur.com/3VkmUCe.png)\n",
    "Source: https://arxiv.org/abs/1412.7828"
   ]
  },
  {
   "cell_type": "markdown",
   "metadata": {
    "id": "ytasZ5cqw4W1"
   },
   "source": [
    "\n",
    "The LSTM cell contains three gates, input, forget, output gates and a memory cell.\n",
    "The output of the LSTM unit is computed with the following functions, where $\\sigma = \\mathrm{sigmoid}$.\n",
    "We have input gate $i$, forget gate $f$, and output gate $o$ defines as\n",
    "\n",
    "- $i = \\sigma ( W^i [h_{t-1}, x_t])$\n",
    "\n",
    "- $f = \\sigma ( W^f [h_{t-1},x_t])$\n",
    "\n",
    "- $o = \\sigma ( W^o [h_{t-1},x_t])$\n",
    "\n",
    "where $W^i, W^f, W^o$ are weight matrices applied to a concatenated $h_{t-1}$ (hidden state vector) and $x_t$ (input vector)  for each respective gate.\n",
    "\n",
    "$h_{t-1}$, from the previous time step along with the current input $x_t$ are used to compute the a candidate $g$\n",
    "\n",
    "- $g = \\mathrm{tanh}( W^g [h_{t-1}, x_t])$\n",
    "\n",
    "The value of the cell's memory, $c_t$, is updated as\n",
    "\n",
    "- $c_t = c_{t-1} \\circ f + g \\circ i$\n",
    "\n",
    "where $c_{t-1}$ is the previous memory, and $\\circ$ refers to element-wise multiplication (hint: element-wise multiplication is computed with the `*` operator in numpy).\n",
    "\n",
    "The output, $h_t$, is computed as\n",
    "\n",
    "- $h_t = \\mathrm{tanh}(c_t) \\circ o$\n",
    "\n",
    "and it is used for both the timestep's output and the next timestep, whereas $c_t$ is exclusively sent to the next timestep.\n",
    "This makes $c_t$ a memory feature, and is not used directly to compute the output of the timestep."
   ]
  },
  {
   "cell_type": "markdown",
   "metadata": {
    "id": "m8_4RWp3k2iQ"
   },
   "source": [
    "## Exercise h) Make the LSTMLayer class\n",
    "\n",
    "Make the LSTM class."
   ]
  },
  {
   "cell_type": "code",
   "execution_count": 53,
   "metadata": {
    "id": "qdU0yMXQU7d0"
   },
   "outputs": [],
   "source": [
    "# Insert code here\n",
    "\n",
    "class LSTMLayer:\n",
    "    def __init__(self, n_in: int, n_hid: int, act_fn, initializer = NormalInitializer(), initializer_hid = NormalInitializer()):\n",
    "        self.n_in = n_in\n",
    "        self.n_hid = n_hid\n",
    "        self.in_hid_layer = DenseLayer(n_in, n_hid, lambda x: x, initializer)\n",
    "        self.g_layer = DenseLayer(n_in+n_hid, n_hid, lambda x: x.tanh(), initializer) # Weightmatrix g (candidate)\n",
    "        self.i_layer = DenseLayer(n_in+n_hid, n_hid, lambda x: x.sigmoid(), initializer) # Weightmatrix i (input gate)\n",
    "        self.f_layer = DenseLayer(n_in+n_hid, n_hid, lambda x: x.sigmoid(), initializer) # Weightmatrix f (forget gate)\n",
    "        self.o_layer = DenseLayer(n_in+n_hid, n_hid, lambda x: x.sigmoid(), initializer) # Weightmatrix o (output gate)\n",
    "        self.initial_hid = [Var(0.0) for _ in range(n_hid)]\n",
    "        self.stored_hid = [Var(0.0) for _ in range(n_hid)]\n",
    "        self.initial_c = [Var(0.0) for _ in range(n_hid)]\n",
    "        self.stored_c = [Var(0.0) for _ in range(n_hid)]\n",
    "        self.act_fn = act_fn\n",
    "    \n",
    "    def __repr__(self):    \n",
    "        return 'Feed-forward: ' + repr(self.in_hid_layer) + ' Candidate: ' + repr(self.g_layer) + ' i gate ' + repr(self.i_layer) + ' f gate ' + repr(self.f_layer) + ' o gate ' + repr(self.o_layer) + ' Initial hidden: ' + repr(self.initial_hid)\n",
    "\n",
    "    def parameters(self) -> Sequence[Var]:      \n",
    "      return self.in_hid_layer.parameters() + self.g_layer.parameters() + self.i_layer.parameters() + self.f_layer.parameters() + self.o_layer.parameters() + self.initial_hid\n",
    "\n",
    "    def forward_step(self, input: Sequence[Var], input_hid: Sequence[Var], input_c: Sequence[Var]) -> Sequence[Var]:\n",
    "        hids = []\n",
    "        cs = []\n",
    "        concatenated_input = []\n",
    "        for val in input_hid:\n",
    "          concatenated_input.append(val)\n",
    "        for val in input:\n",
    "          concatenated_input.append(val)\n",
    "\n",
    "        # Insert code here\n",
    "        f = self.f_layer.forward(concatenated_input)\n",
    "        g = self.g_layer.forward(concatenated_input)\n",
    "        i = self.i_layer.forward(concatenated_input)\n",
    "        o = self.o_layer.forward(concatenated_input)\n",
    "        cs = [input_c[ii] * f[ii] + g[ii] * i[ii] for ii in range(len(input_c))]# c_t = c_{t-1} * f + g * i\n",
    "        hids = [self.act_fn(cs[ii]) * o[ii] for ii in range(len(input_c))] # h_t = tanh(c_t) * o\n",
    "\n",
    "        return hids, cs\n",
    "    \n",
    "    def forward_sequence(self, input: Sequence[Sequence[Var]], use_stored_hid = False) -> Sequence[Sequence[Var]]:\n",
    "        out = []\n",
    "        if use_stored_hid:\n",
    "            hid = self.stored_hid\n",
    "            c = self.stored_c\n",
    "        else:\n",
    "            hid = self.initial_hid\n",
    "            c = self.initial_c\n",
    "        # Takes a sequence and loops over each character in the sequence. Note that each character has dimenson equal to the embeddng dimenson\n",
    "        for i in range(len(input)):\n",
    "            hid, c = self.forward_step(input[i], hid, c)\n",
    "            out.append(hid)\n",
    "        self.stored_hid = hid\n",
    "        self.stored_c = c\n",
    "        return out"
   ]
  },
  {
   "cell_type": "markdown",
   "metadata": {
    "id": "gKu-bfhzk2iY"
   },
   "source": [
    "Here is a bit of code to test it out:"
   ]
  },
  {
   "cell_type": "code",
   "execution_count": 54,
   "metadata": {
    "colab": {
     "base_uri": "https://localhost:8080/"
    },
    "id": "u4AYroqSVRSv",
    "outputId": "b8d4455f-bc80-4939-ad4a-6a802b5186e0"
   },
   "outputs": [
    {
     "name": "stdout",
     "output_type": "stream",
     "text": [
      "Feed-forward: Weights: [[Var(v=-0.0845, grad=0.0000), Var(v=0.1427, grad=0.0000), Var(v=-0.0082, grad=0.0000), Var(v=-0.1176, grad=0.0000), Var(v=0.0982, grad=0.0000)]] Biases: [Var(v=0.0000, grad=0.0000), Var(v=0.0000, grad=0.0000), Var(v=0.0000, grad=0.0000), Var(v=0.0000, grad=0.0000), Var(v=0.0000, grad=0.0000)] Candidate: Weights: [[Var(v=-0.0358, grad=0.0000), Var(v=-0.0581, grad=0.0000), Var(v=-0.0364, grad=0.0000), Var(v=0.0727, grad=0.0000), Var(v=0.0131, grad=0.0000)], [Var(v=-0.0794, grad=0.0000), Var(v=-0.0062, grad=0.0000), Var(v=-0.0650, grad=0.0000), Var(v=-0.0737, grad=0.0000), Var(v=-0.0843, grad=0.0000)], [Var(v=0.1266, grad=0.0000), Var(v=0.0207, grad=0.0000), Var(v=-0.0038, grad=0.0000), Var(v=-0.0901, grad=0.0000), Var(v=-0.0112, grad=0.0000)], [Var(v=-0.0956, grad=0.0000), Var(v=0.1812, grad=0.0000), Var(v=-0.0903, grad=0.0000), Var(v=-0.0660, grad=0.0000), Var(v=-0.1990, grad=0.0000)], [Var(v=-0.0122, grad=0.0000), Var(v=0.2779, grad=0.0000), Var(v=-0.1593, grad=0.0000), Var(v=-0.0706, grad=0.0000), Var(v=0.1362, grad=0.0000)], [Var(v=0.0131, grad=0.0000), Var(v=-0.0574, grad=0.0000), Var(v=-0.0936, grad=0.0000), Var(v=-0.0953, grad=0.0000), Var(v=-0.0747, grad=0.0000)]] Biases: [Var(v=0.0000, grad=0.0000), Var(v=0.0000, grad=0.0000), Var(v=0.0000, grad=0.0000), Var(v=0.0000, grad=0.0000), Var(v=0.0000, grad=0.0000)] i gate Weights: [[Var(v=-0.0152, grad=0.0000), Var(v=0.0513, grad=0.0000), Var(v=-0.1130, grad=0.0000), Var(v=0.1220, grad=0.0000), Var(v=-0.1827, grad=0.0000)], [Var(v=0.0543, grad=0.0000), Var(v=0.0499, grad=0.0000), Var(v=0.0560, grad=0.0000), Var(v=0.1587, grad=0.0000), Var(v=-0.0360, grad=0.0000)], [Var(v=-0.0019, grad=0.0000), Var(v=-0.0738, grad=0.0000), Var(v=-0.0754, grad=0.0000), Var(v=0.0268, grad=0.0000), Var(v=0.0363, grad=0.0000)], [Var(v=0.0764, grad=0.0000), Var(v=0.0260, grad=0.0000), Var(v=0.1481, grad=0.0000), Var(v=0.0171, grad=0.0000), Var(v=-0.0220, grad=0.0000)], [Var(v=-0.1738, grad=0.0000), Var(v=-0.0568, grad=0.0000), Var(v=-0.0838, grad=0.0000), Var(v=-0.2141, grad=0.0000), Var(v=0.0161, grad=0.0000)], [Var(v=-0.0501, grad=0.0000), Var(v=-0.0006, grad=0.0000), Var(v=-0.2279, grad=0.0000), Var(v=-0.0514, grad=0.0000), Var(v=-0.1136, grad=0.0000)]] Biases: [Var(v=0.0000, grad=0.0000), Var(v=0.0000, grad=0.0000), Var(v=0.0000, grad=0.0000), Var(v=0.0000, grad=0.0000), Var(v=0.0000, grad=0.0000)] f gate Weights: [[Var(v=-0.1838, grad=0.0000), Var(v=-0.0963, grad=0.0000), Var(v=0.1501, grad=0.0000), Var(v=0.0824, grad=0.0000), Var(v=0.1574, grad=0.0000)], [Var(v=0.1630, grad=0.0000), Var(v=0.1418, grad=0.0000), Var(v=0.2023, grad=0.0000), Var(v=0.0084, grad=0.0000), Var(v=0.1131, grad=0.0000)], [Var(v=0.1948, grad=0.0000), Var(v=-0.0203, grad=0.0000), Var(v=-0.0392, grad=0.0000), Var(v=0.1327, grad=0.0000), Var(v=-0.0634, grad=0.0000)], [Var(v=-0.1364, grad=0.0000), Var(v=0.0147, grad=0.0000), Var(v=-0.0207, grad=0.0000), Var(v=0.1103, grad=0.0000), Var(v=-0.0409, grad=0.0000)], [Var(v=-0.1066, grad=0.0000), Var(v=0.1403, grad=0.0000), Var(v=-0.1704, grad=0.0000), Var(v=-0.1791, grad=0.0000), Var(v=0.0170, grad=0.0000)], [Var(v=-0.1045, grad=0.0000), Var(v=-0.0177, grad=0.0000), Var(v=0.0147, grad=0.0000), Var(v=-0.1691, grad=0.0000), Var(v=0.1311, grad=0.0000)]] Biases: [Var(v=0.0000, grad=0.0000), Var(v=0.0000, grad=0.0000), Var(v=0.0000, grad=0.0000), Var(v=0.0000, grad=0.0000), Var(v=0.0000, grad=0.0000)] o gate Weights: [[Var(v=0.0484, grad=0.0000), Var(v=-0.0783, grad=0.0000), Var(v=-0.0608, grad=0.0000), Var(v=0.1550, grad=0.0000), Var(v=0.0598, grad=0.0000)], [Var(v=0.0994, grad=0.0000), Var(v=-0.0027, grad=0.0000), Var(v=-0.0546, grad=0.0000), Var(v=-0.0865, grad=0.0000), Var(v=-0.0490, grad=0.0000)], [Var(v=0.0832, grad=0.0000), Var(v=0.1518, grad=0.0000), Var(v=0.0695, grad=0.0000), Var(v=0.0709, grad=0.0000), Var(v=0.0098, grad=0.0000)], [Var(v=0.0735, grad=0.0000), Var(v=-0.0098, grad=0.0000), Var(v=-0.1138, grad=0.0000), Var(v=-0.1856, grad=0.0000), Var(v=0.0228, grad=0.0000)], [Var(v=-0.0545, grad=0.0000), Var(v=-0.1313, grad=0.0000), Var(v=-0.0673, grad=0.0000), Var(v=0.2182, grad=0.0000), Var(v=-0.0859, grad=0.0000)], [Var(v=0.0813, grad=0.0000), Var(v=-0.2996, grad=0.0000), Var(v=-0.0820, grad=0.0000), Var(v=-0.0011, grad=0.0000), Var(v=0.0450, grad=0.0000)]] Biases: [Var(v=0.0000, grad=0.0000), Var(v=0.0000, grad=0.0000), Var(v=0.0000, grad=0.0000), Var(v=0.0000, grad=0.0000), Var(v=0.0000, grad=0.0000)] Initial hidden: [Var(v=0.0000, grad=0.0000), Var(v=0.0000, grad=0.0000), Var(v=0.0000, grad=0.0000), Var(v=0.0000, grad=0.0000), Var(v=0.0000, grad=0.0000)]\n",
      "[[[Var(v=-0.0039, grad=1.0000)], [Var(v=-0.0093, grad=0.0000)], [Var(v=-0.0148, grad=0.0000)]], [[Var(v=-0.0039, grad=0.0000)], [Var(v=-0.0093, grad=0.0000)], [Var(v=-0.0148, grad=0.0000)]]]\n"
     ]
    }
   ],
   "source": [
    "NN = [\n",
    "    LSTMLayer(1, 5, lambda x: x.tanh()),\n",
    "    DenseLayer(5, 1, lambda x: x.identity())\n",
    "]\n",
    "\n",
    "print(NN[0])\n",
    "x_train =[[[Var(1.0)], [Var(2.0)], [Var(3.0)]],\n",
    "          [[Var(1.0)], [Var(2.0)], [Var(3.0)]]]\n",
    "\n",
    "output_train = forward_batch(x_train, NN)          \n",
    "output_train[0][0][0].backward()\n",
    "\n",
    "print(output_train)"
   ]
  },
  {
   "cell_type": "markdown",
   "metadata": {
    "id": "z4r4mgFsk2ik"
   },
   "source": [
    "## Exercise i) LSTM training\n",
    "\n",
    "Complete the LSTM training loop\n",
    "\n",
    "Run the training loop. Training time in Nanograd will likely be long, but see if you can find settings to compare your LSTM learning curve (NLL and number of epochs) to the vanilla RNN from earlier. Do you observe any improvements? Motivate your answer.\n",
    "\n",
    "Finally, below we will implement LSTM in PyTorch. You will notice it is much, much faster!"
   ]
  },
  {
   "cell_type": "code",
   "execution_count": 56,
   "metadata": {
    "id": "MOAmppJD66tJ"
   },
   "outputs": [],
   "source": [
    "# Initialize training hyperparameters\n",
    "EPOCHS = 50\n",
    "LR = 1e-2 \n",
    "LR_DECAY = 0.995"
   ]
  },
  {
   "cell_type": "code",
   "execution_count": 77,
   "metadata": {
    "colab": {
     "base_uri": "https://localhost:8080/",
     "height": 449
    },
    "id": "tiotu2ab66w-",
    "outputId": "899121ff-7418-4462-fc50-e3ef1ec0344d"
   },
   "outputs": [
    {
     "metadata": {
      "tags": null
     },
     "name": "stdout",
     "output_type": "stream",
     "text": [
      "   0 ( 0.00%) Train loss: 5.487 \t Validation loss: 4.330\n",
      "   5 (10.00%) Train loss: 4.708 \t Validation loss: 3.826\n",
      "  10 (20.00%) Train loss: 4.530 \t Validation loss: 3.698\n",
      "  15 (30.00%) Train loss: 4.450 \t Validation loss: 3.638\n",
      "  20 (40.00%) Train loss: 4.403 \t Validation loss: 3.602\n",
      "  25 (50.00%) Train loss: 4.371 \t Validation loss: 3.578\n",
      "  30 (60.00%) Train loss: 4.348 \t Validation loss: 3.561\n",
      "  35 (70.00%) Train loss: 4.330 \t Validation loss: 3.547\n",
      "  40 (80.00%) Train loss: 4.315 \t Validation loss: 3.536\n",
      "  45 (90.00%) Train loss: 4.301 \t Validation loss: 3.525\n"
     ]
    },
    {
     "data": {
      "image/png": "[encoded data removed]",
      "text/plain": [
       "<Figure size 432x288 with 1 Axes>"
      ]
     },
     "metadata": {
      "needs_background": "light"
     },
     "output_type": "display_data"
    }
   ],
   "source": [
    "NN = [\n",
    "    LSTMLayer(4, 1, lambda x: x.tanh()),\n",
    "    DenseLayer(1, 4, lambda x: x.identity())\n",
    "]\n",
    "\n",
    "train_loss = []\n",
    "val_loss = []\n",
    "\n",
    "batch_size = 5\n",
    "\n",
    "for e in range(EPOCHS):\n",
    "\n",
    "    running_loss = 0.0\n",
    "    for b in range(int(np.ceil(len(encoded_training_set_x)/batch_size))):\n",
    "        x_train = encoded_training_set_x[b:b+batch_size]\n",
    "        y_train = encoded_training_set_y[b:b+batch_size]\n",
    "        \n",
    "        # Forward pass and loss computation\n",
    "        output_train = forward_batch(x_train, NN)\n",
    "        Loss = sequence_loss(output_train, y_train) # batch loss\n",
    "        \n",
    "        # Backward pass\n",
    "        Loss.backward()\n",
    "\n",
    "        running_loss += Loss.v\n",
    "\n",
    "        # gradient descent update\n",
    "        update_parameters(parameters(NN), LR)\n",
    "        zero_gradients(parameters(NN))\n",
    "      \n",
    "    LR = LR * LR_DECAY\n",
    "\n",
    "    # Training loss\n",
    "    #Loss = \n",
    "    #train_loss.append(Loss.v)\n",
    "    train_loss.append(running_loss/len(encoded_training_set_y))\n",
    "\n",
    "\n",
    "    # Validation loss\n",
    "    #Loss_validation = \n",
    "    #val_loss.append(Loss_validation.v)\n",
    "    output_validation = forward_batch(encoded_validation_set_x, NN)\n",
    "    Loss_validation = sequence_loss(output_validation, encoded_validation_set_y)\n",
    "    val_loss.append(Loss_validation.v/len(encoded_validation_set_y))\n",
    "    \n",
    "    if e%5==0:\n",
    "        print(\"{:4d}\".format(e),\n",
    "              \"({:5.2f}%)\".format(e/EPOCHS*100), \n",
    "              \"Train loss: {:4.3f} \\t Validation loss: {:4.3f}\".format(train_loss[-1], val_loss[-1]))\n",
    "        \n",
    "# Plot training and validation loss\n",
    "import matplotlib.pyplot as plt\n",
    "%matplotlib inline\n",
    "epoch = np.arange(len(train_loss))\n",
    "plt.figure()\n",
    "plt.plot(epoch, train_loss, 'r', label='Training loss',)\n",
    "plt.plot(epoch, val_loss, 'b', label='Validation loss')\n",
    "plt.legend()\n",
    "plt.xlabel('Epoch'), plt.ylabel('NLL')\n",
    "plt.show()"
   ]
  },
  {
   "cell_type": "markdown",
   "metadata": {
    "id": "gi51eWgKxyOk"
   },
   "source": [
    "## PyTorch implementation of the LSTM\n",
    "\n",
    "Now that we know how the LSTM cell works, let's see how easy it is to use in PyTorch!"
   ]
  },
  {
   "cell_type": "markdown",
   "metadata": {
    "id": "O6HDdJLuk2ip"
   },
   "source": [
    "Definition of our LSTM network. We define a LSTM layer using the [nn.LSTM](https://pytorch.org/docs/stable/nn.html#lstm) class. The LSTM layer takes as argument the size of the input and the size of the hidden state like in our Nanograd implementation."
   ]
  },
  {
   "cell_type": "code",
   "execution_count": 58,
   "metadata": {
    "colab": {
     "base_uri": "https://localhost:8080/"
    },
    "id": "8UGrvknfk2ip",
    "outputId": "f223a338-33bf-425b-b00b-cb59e93136f0"
   },
   "outputs": [
    {
     "name": "stdout",
     "output_type": "stream",
     "text": [
      "MyRecurrentNet(\n",
      "  (lstm): LSTM(4, 50)\n",
      "  (l_out): Linear(in_features=50, out_features=4, bias=False)\n",
      ")\n"
     ]
    }
   ],
   "source": [
    "import torch\n",
    "import torch.nn as nn\n",
    "import torch.nn.functional as F\n",
    "\n",
    "class MyRecurrentNet(nn.Module):\n",
    "    def __init__(self):\n",
    "        super(MyRecurrentNet, self).__init__()\n",
    "        \n",
    "        # Recurrent layer\n",
    "        # YOUR CODE HERE!\n",
    "        self.lstm = nn.LSTM(input_size = vocab_size, \n",
    "                            hidden_size = 50, \n",
    "                            num_layers = 1,\n",
    "                            bidirectional = False)\n",
    "        \n",
    "        # Output layer\n",
    "        self.l_out = nn.Linear(in_features=50,\n",
    "                            out_features=vocab_size,\n",
    "                            bias=False)\n",
    "        \n",
    "    def forward(self, x):\n",
    "        # RNN returns output and last hidden state\n",
    "        x, (h, c) = self.lstm(x)\n",
    "        \n",
    "        # Flatten output for feed-forward layer\n",
    "        x = x.view(-1, self.lstm.hidden_size)\n",
    "        \n",
    "        # Output layer\n",
    "        x = self.l_out(x)\n",
    "        \n",
    "        return x\n",
    "\n",
    "net = MyRecurrentNet()\n",
    "print(net)"
   ]
  },
  {
   "cell_type": "markdown",
   "metadata": {
    "id": "J6r3bPwYk2is"
   },
   "source": [
    "## Exercise j) Train in PyTorch\n",
    "\n",
    "Define an LSTM for our recurrent neural network `MyRecurrentNet` above. A single LSTM layer is sufficient. What should the input size and hidden size be? Hint: use the PyTorch documentation.\n",
    "\n",
    "It's time for us to train our network. In the section below, you will get to put your deep learning skills to use and create your own training loop. You may want to consult previous exercises if you cannot recall how to define the training loop."
   ]
  },
  {
   "cell_type": "code",
   "execution_count": 74,
   "metadata": {
    "id": "eE_ExunwkpYJ"
   },
   "outputs": [],
   "source": [
    "# OBS! I got the error \"must be real number, not Var\" when trying to run inputs_one_hot = torch.Tensor(inputs_one_hot). \n",
    "# Fixed this by defining a new one_hot_encode_sequence without the conversion with nparray_to_Var in the end\n",
    "def one_hot_encode_sequence_new(sequence, vocab_size):\n",
    "    \"\"\"\n",
    "    One-hot encodes a sequence of words given a fixed vocabulary size.\n",
    "    \n",
    "    Args:\n",
    "     `sentence`: a list of words to encode\n",
    "     `vocab_size`: the size of the vocabulary\n",
    "     \n",
    "    Returns a 3-D numpy array of shape (num words, vocab size, 1).\n",
    "    \"\"\"\n",
    "    # Encode each word in the sentence\n",
    "    encoding = np.array([Var_to_nparray(one_hot_encode(word_to_idx[word], vocab_size)) for word in sequence])\n",
    "\n",
    "    # Reshape encoding s.t. it has shape (num words, vocab size, 1)\n",
    "    encoding = encoding.reshape(encoding.shape[0], encoding.shape[2], 1)\n",
    "    return encoding #nparray_to_Var(encoding)"
   ]
  },
  {
   "cell_type": "code",
   "execution_count": 75,
   "metadata": {
    "colab": {
     "base_uri": "https://localhost:8080/",
     "height": 774
    },
    "id": "2URKsyFDx8xG",
    "outputId": "e7065f38-fb5c-4853-da5a-aa082cf17a5b"
   },
   "outputs": [
    {
     "name": "stdout",
     "output_type": "stream",
     "text": [
      "Epoch 0, training loss: 1.3195442724227906, validation loss: 1.3609529733657837\n",
      "Epoch 10, training loss: 0.6740747737884522, validation loss: 0.8082018693288168\n",
      "Epoch 20, training loss: 0.4105531191825867, validation loss: 0.474684476852417\n",
      "Epoch 30, training loss: 0.3420509123802185, validation loss: 0.3658497432867686\n",
      "Epoch 40, training loss: 0.3245864510536194, validation loss: 0.3253754178682963\n",
      "Epoch 50, training loss: 0.31850218772888184, validation loss: 0.31152603030204773\n",
      "Epoch 60, training loss: 0.3155990791320801, validation loss: 0.30701515078544617\n",
      "Epoch 70, training loss: 0.31390557646751405, validation loss: 0.3051563998063405\n",
      "Epoch 80, training loss: 0.31276714682579043, validation loss: 0.3041198154290517\n",
      "Epoch 90, training loss: 0.31193328261375425, validation loss: 0.3034479320049286\n",
      "Epoch 100, training loss: 0.3112860214710236, validation loss: 0.3029701312383016\n",
      "Epoch 110, training loss: 0.3107622444629669, validation loss: 0.30261027812957764\n",
      "Epoch 120, training loss: 0.31032495737075805, validation loss: 0.30232903361320496\n",
      "Epoch 130, training loss: 0.3099510085582733, validation loss: 0.30210315187772113\n",
      "Epoch 140, training loss: 0.30962475419044494, validation loss: 0.3019177317619324\n",
      "Epoch 150, training loss: 0.3093350899219513, validation loss: 0.30176297823588055\n",
      "Epoch 160, training loss: 0.3090738892555237, validation loss: 0.3016322950522105\n",
      "Epoch 170, training loss: 0.3088351380825043, validation loss: 0.30152053634325665\n",
      "Epoch 180, training loss: 0.30861475586891174, validation loss: 0.30142367879549664\n",
      "Epoch 190, training loss: 0.3084098768234253, validation loss: 0.3013386030991872\n",
      "\n",
      "Input sequence:\n",
      "['a', 'a', 'b', 'b']\n",
      "\n",
      "Target sequence:\n",
      "['a', 'b', 'b', 'EOS']\n",
      "\n",
      "Predicted sequence:\n",
      "['b', 'b', 'b', 'EOS']\n"
     ]
    },
    {
     "data": {
      "image/png": "[encoded data removed]",
      "text/plain": [
       "<Figure size 432x288 with 1 Axes>"
      ]
     },
     "metadata": {
      "needs_background": "light"
     },
     "output_type": "display_data"
    }
   ],
   "source": [
    "import torch.optim as optim\n",
    "\n",
    "# Hyper-parameters\n",
    "num_epochs = 200\n",
    "\n",
    "# Initialize a new network\n",
    "net = MyRecurrentNet()\n",
    "\n",
    "# Define a loss function and optimizer for this problem\n",
    "# YOUR CODE HERE!\n",
    "criterion = nn.CrossEntropyLoss()\n",
    "optimizer = optim.Adam(net.parameters())\n",
    "\n",
    "# Track loss\n",
    "training_loss, validation_loss = [], []\n",
    "\n",
    "# For each epoch\n",
    "for i in range(num_epochs):\n",
    "    \n",
    "    # Track loss\n",
    "    epoch_training_loss = 0\n",
    "    epoch_validation_loss = 0\n",
    "    \n",
    "    net.eval()\n",
    "        \n",
    "    # For each sentence in validation set\n",
    "    for inputs, targets in validation_set:\n",
    "        \n",
    "        # One-hot encode input and target sequence\n",
    "        inputs_one_hot = one_hot_encode_sequence_new(inputs, vocab_size)\n",
    "        targets_idx = [word_to_idx[word] for word in targets]\n",
    "        \n",
    "        # Convert input to tensor\n",
    "        inputs_one_hot = torch.Tensor(inputs_one_hot)\n",
    "        inputs_one_hot = inputs_one_hot.permute(0, 2, 1)\n",
    "        \n",
    "        # Convert target to tensor\n",
    "        targets_idx = torch.LongTensor(targets_idx)\n",
    "        \n",
    "        # Forward pass\n",
    "        # YOUR CODE HERE!\n",
    "        outputs = net(inputs_one_hot)\n",
    "        \n",
    "        # Compute loss\n",
    "        # YOUR CODE HERE!\n",
    "        loss = criterion(outputs, targets_idx)\n",
    "        \n",
    "        # Update loss\n",
    "        epoch_validation_loss += loss.detach().numpy()\n",
    "    \n",
    "    net.train()\n",
    "    \n",
    "    # For each sentence in training set\n",
    "    for inputs, targets in training_set:\n",
    "        \n",
    "        # One-hot encode input and target sequence\n",
    "        inputs_one_hot = one_hot_encode_sequence_new(inputs, vocab_size)\n",
    "        targets_idx = [word_to_idx[word] for word in targets]\n",
    "        \n",
    "        # Convert input to tensor\n",
    "        inputs_one_hot = torch.Tensor(inputs_one_hot)\n",
    "        inputs_one_hot = inputs_one_hot.permute(0, 2, 1)\n",
    "        \n",
    "        # Convert target to tensor\n",
    "        targets_idx = torch.LongTensor(targets_idx)\n",
    "        \n",
    "        # Forward pass\n",
    "        # YOUR CODE HERE!\n",
    "        outputs = net(inputs_one_hot)\n",
    "        \n",
    "        # Compute loss\n",
    "        # YOUR CODE HERE!\n",
    "        loss = criterion(outputs, targets_idx)\n",
    "        \n",
    "        # Backward pass\n",
    "        # YOUR CODE HERE!\n",
    "        # zero grad, backward, step...\n",
    "        optimizer.zero_grad()\n",
    "        loss.backward()\n",
    "        optimizer.step()\n",
    "        \n",
    "        # Update loss\n",
    "        epoch_training_loss += loss.detach().numpy()\n",
    "        \n",
    "    # Save loss for plot\n",
    "    training_loss.append(epoch_training_loss/len(training_set))\n",
    "    validation_loss.append(epoch_validation_loss/len(validation_set))\n",
    "\n",
    "    # Print loss every 10 epochs\n",
    "    if i % 10 == 0:\n",
    "        print(f'Epoch {i}, training loss: {training_loss[-1]}, validation loss: {validation_loss[-1]}')\n",
    "\n",
    "        \n",
    "# Get first sentence in test set\n",
    "inputs, targets = test_set[1]\n",
    "\n",
    "# One-hot encode input and target sequence\n",
    "inputs_one_hot = one_hot_encode_sequence_new(inputs, vocab_size)\n",
    "targets_idx = [word_to_idx[word] for word in targets]\n",
    "\n",
    "# Convert input to tensor\n",
    "inputs_one_hot = torch.Tensor(inputs_one_hot)\n",
    "inputs_one_hot = inputs_one_hot.permute(0, 2, 1)\n",
    "\n",
    "# Convert target to tensor\n",
    "targets_idx = torch.LongTensor(targets_idx)\n",
    "\n",
    "# Forward pass\n",
    "outputs = net.forward(inputs_one_hot).data.numpy()\n",
    "\n",
    "print('\\nInput sequence:')\n",
    "print(inputs)\n",
    "\n",
    "print('\\nTarget sequence:')\n",
    "print(targets)\n",
    "\n",
    "print('\\nPredicted sequence:')\n",
    "print([idx_to_word[np.argmax(output)] for output in outputs])\n",
    "# Plot training and validation loss\n",
    "epoch = np.arange(len(training_loss))\n",
    "plt.figure()\n",
    "plt.plot(epoch, training_loss, 'r', label='Training loss',)\n",
    "plt.plot(epoch, validation_loss, 'b', label='Validation loss')\n",
    "plt.legend()\n",
    "plt.xlabel('Epoch'), plt.ylabel('NLL')\n",
    "plt.show()"
   ]
  },
  {
   "cell_type": "markdown",
   "metadata": {
    "id": "ydr7Czg_k2iw"
   },
   "source": [
    "# Exercise k) Compare PyTorch and Nanograd implementations\n",
    "\n",
    "Compare the two implementations (in terms of predictive performance, training speed, etc.). Are they similar? How do they differ?\n",
    "\n",
    "The PyTorch implementation of RNN is much faster than the Naograd implementation. But that was expected, since Nanograd is developed for educational purposes.\n",
    "\n",
    "Try to play around with the choice of hyper-parameters, optimizer, and hidden dimensions. How much can you improve the negative log-likelihood by these simple changes?"
   ]
  },
  {
   "cell_type": "markdown",
   "metadata": {
    "id": "M93ORx95k2ix"
   },
   "source": [
    "## Exercise l) Other RNN cells (optional)\n",
    "\n",
    "Aside from the LSTM cell, various other RNN cells exist. The gated recurrent unit (GRU) is a variation of the LSTM cell that uses less gating mechanisms. Try to look it up in the [PyTorch documentation](https://pytorch.org/docs/stable/nn.html#gru) and switch out the LSTM cell in the code above. What do you notice in terms of performance and convergence speed?"
   ]
  },
  {
   "cell_type": "markdown",
   "metadata": {
    "id": "juN400Ekk2iz"
   },
   "source": [
    "## Exercise m) More complex tasks (optional)\n",
    "\n",
    "Go back and generate a more complex patterned dataset to learn from. Do you see any significant differences between a vanilla RNN and LSTM (implemented in e.g. PyTorch) when you increase the difficulty of the task?"
   ]
  },
  {
   "cell_type": "markdown",
   "metadata": {
    "id": "v68YEkEBk2iz"
   },
   "source": [
    "# It works, now what?"
   ]
  },
  {
   "cell_type": "markdown",
   "metadata": {
    "id": "NjpqSrSuk2i0"
   },
   "source": [
    "In this notebook you have learned how to use embeddings, recurrent neural networks, and the LSTM cell in particular.\n",
    "\n",
    "As we have already seen, RNNs are excellent for sequential data such as language. But what do we do if we're modelling data with strong dependency in both directions? Like in many things deep learning, we can build powerful models by stacking layers on top of each other; *bi-directional* RNNs consist of two LSTM cells, one for each direction. A sequence is first fed into the forward LSTM cell and the reversed sequence is then used as input to the backward LSTM cell together with the last hidden state from the forward LSTM cell. Follow [this link](https://pdfs.semanticscholar.org/4b80/89bc9b49f84de43acc2eb8900035f7d492b2.pdf) for the original paper from 1997(!).\n",
    "\n",
    "For even deeper representations, multiple layers of both uni-directional and bi-directional RNNs can be stacked ontop of each other, just like feed-forward and convolutional layers. For more information on this, check out the [LSTM PyTorch documentation](https://pytorch.org/docs/stable/nn.html#lstm). Next week we will also explore ways to combine RNNs with other types of layers for even more expressive function approximators."
   ]
  }
 ],
 "metadata": {
  "colab": {
   "collapsed_sections": [
    "bdA4LPsFiACe",
    "M93ORx95k2ix"
   ],
   "name": "Kopi af 5_1_EXE_Recurrent_Neural_Networks_Nanograd.ipynb",
   "provenance": []
  },
  "kernelspec": {
   "display_name": "Python 3",
   "language": "python",
   "name": "python3"
  },
  "language_info": {
   "codemirror_mode": {
    "name": "ipython",
    "version": 3
   },
   "file_extension": ".py",
   "mimetype": "text/x-python",
   "name": "python",
   "nbconvert_exporter": "python",
   "pygments_lexer": "ipython3",
   "version": "3.7.6"
  }
 },
 "nbformat": 4,
 "nbformat_minor": 1
}
