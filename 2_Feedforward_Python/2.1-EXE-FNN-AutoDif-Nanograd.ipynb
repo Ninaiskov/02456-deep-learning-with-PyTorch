{
 "cells": [
  {
   "cell_type": "markdown",
   "metadata": {
    "id": "HAva8TnYFtFu"
   },
   "source": [
    "# Contents and why we need this lab\n",
    "\n",
    "This lab is about implementing neural networks yourself before we start using other frameworks which hide some of the computation from you. It builds on the first lab where you derived the equations for neural network forward and backward propagation and gradient descent parameter updates. \n",
    "\n",
    "All the frameworks for deep learning you will meet from now on uses automatic differentiation (autodiff) so you don't have to code the backward step yourself. In this version of this lab you will develop your own autodif implementation. We also have a [version](https://github.com/DeepLearningDTU/02456-deep-learning-with-PyTorch/blob/master/2_Feedforward_NumPy/2.1-FNN-NumPy.ipynb) of this lab where you have to code the backward pass explicitly in Numpy."
   ]
  },
  {
   "cell_type": "markdown",
   "metadata": {
    "id": "sCa7HzwpFtFy"
   },
   "source": [
    "# External sources of information\n",
    "\n",
    "1. Jupyter notebook. You can find more information about Jupyter notebooks [here](https://jupyter.org/). It will come as part of the [Anaconda](https://www.anaconda.com/) Python installation. \n",
    "2. [NumPy](https://numpy.org/). Part of Anaconda distribution. If you already know how to program most things about Python and NumPy can be found through Google search.\n",
    "3. [Nanograd](https://github.com/rasmusbergpalm/nanograd) is a minimalistic version of autodiff developed by Rasmus Berg Palm that we use for our framework.\n"
   ]
  },
  {
   "cell_type": "markdown",
   "metadata": {
    "id": "1SjiIp-TFtF0"
   },
   "source": [
    "# This notebook will follow the next steps:\n",
    "\n",
    "1. Nanograd automatic differentiation framework\n",
    "2. Finite difference method\n",
    "3. Data generation\n",
    "4. Defining and initializing the network\n",
    "5. Forward pass\n",
    "6. Training loop \n",
    "7. Testing your model\n",
    "8. Further extensions"
   ]
  },
  {
   "cell_type": "markdown",
   "metadata": {
    "id": "OyXeAA-HuT7s"
   },
   "source": [
    "# Nanograd automatic differention framework"
   ]
  },
  {
   "cell_type": "markdown",
   "metadata": {
    "id": "k6UWKCLKubgA"
   },
   "source": [
    "The [Nanograd](https://github.com/rasmusbergpalm/nanograd) framework defines a class Var which both holds a value and gradient value that we can use to store the intermediate values when we apply the chain rule of differentiation."
   ]
  },
  {
   "cell_type": "code",
   "execution_count": 1,
   "metadata": {
    "id": "Jd4CoEBNzNWS"
   },
   "outputs": [],
   "source": [
    "# Copy and pasted from https://github.com/rasmusbergpalm/nanograd/blob/main/nanograd.py\n",
    "\n",
    "from math import exp, log, tanh\n",
    "\n",
    "class Var:\n",
    "    \"\"\"\n",
    "    A variable which holds a float and enables gradient computations.\n",
    "    \"\"\"\n",
    "\n",
    "    def __init__(self, val: float, grad_fn=lambda: []):\n",
    "        assert type(val) == float\n",
    "        self.v = val\n",
    "        self.grad_fn = grad_fn\n",
    "        self.grad = 0.0\n",
    "\n",
    "    def backprop(self, bp):\n",
    "        self.grad += bp\n",
    "        for input, grad in self.grad_fn():\n",
    "            input.backprop(grad * bp)\n",
    "\n",
    "    def backward(self):\n",
    "        self.backprop(1.0)\n",
    "\n",
    "    def __add__(self: 'Var', other: 'Var') -> 'Var':\n",
    "        return Var(self.v + other.v, lambda: [(self, 1.0), (other, 1.0)])\n",
    "\n",
    "    def __mul__(self: 'Var', other: 'Var') -> 'Var':\n",
    "        return Var(self.v * other.v, lambda: [(self, other.v), (other, self.v)])\n",
    "\n",
    "    def __pow__(self, power):\n",
    "        assert type(power) in {float, int}, \"power must be float or int\"\n",
    "        return Var(self.v ** power, lambda: [(self, power * self.v ** (power - 1))])\n",
    "\n",
    "    def __neg__(self: 'Var') -> 'Var':\n",
    "        return Var(-1.0) * self\n",
    "\n",
    "    def __sub__(self: 'Var', other: 'Var') -> 'Var':\n",
    "        return self + (-other)\n",
    "\n",
    "    def __truediv__(self: 'Var', other: 'Var') -> 'Var':\n",
    "        return self * other ** -1\n",
    "\n",
    "    def __repr__(self):\n",
    "        return \"Var(v=%.4f, grad=%.4f)\" % (self.v, self.grad)\n",
    "\n",
    "    def relu(self):\n",
    "        return Var(self.v if self.v > 0.0 else 0.0, lambda: [(self, 1.0 if self.v > 0.0 else 0.0)])\n",
    "    \n",
    "    def identity(self): # Identity\n",
    "        return self\n",
    "\n",
    "    def tanh(self): # Hyperbolic tangent\n",
    "        return Var(tanh(self.v))\n",
    "\n",
    "    def sigmoid(self): # Sigmoid or logistic function\n",
    "        return Var(1 / (1 + exp(-self.v)))\n",
    "\n",
    "    def exp(self):\n",
    "        return Var(exp(self.v), lambda: [(self, exp(self.v))])\n",
    " \n",
    "    def log(self):\n",
    "        return Var(log(self.v), lambda: [(self, self.v ** -1)])"
   ]
  },
  {
   "cell_type": "markdown",
   "metadata": {
    "id": "yDX67D6jzcte"
   },
   "source": [
    "A few examples illustrate how we can use this:"
   ]
  },
  {
   "cell_type": "code",
   "execution_count": 2,
   "metadata": {
    "colab": {
     "base_uri": "https://localhost:8080/"
    },
    "id": "xk6PeLc3zwPT",
    "outputId": "1e8c6d68-749a-44c3-8fce-0029dcc3215b"
   },
   "outputs": [
    {
     "name": "stdout",
     "output_type": "stream",
     "text": [
      "Var(v=3.0000, grad=5.0000)\n",
      "Var(v=5.0000, grad=3.0000)\n",
      "Var(v=15.0000, grad=1.0000)\n"
     ]
    }
   ],
   "source": [
    "a = Var(3.0)\n",
    "b = Var(5.0)\n",
    "f = a * b\n",
    "\n",
    "f.backward()\n",
    "\n",
    "for v in [a, b, f]:\n",
    "    print(v)"
   ]
  },
  {
   "cell_type": "code",
   "execution_count": 3,
   "metadata": {
    "colab": {
     "base_uri": "https://localhost:8080/"
    },
    "id": "JmKhYgsY0g_o",
    "outputId": "d86771b7-4166-40a5-8b35-8a46a5d7b1e9"
   },
   "outputs": [
    {
     "name": "stdout",
     "output_type": "stream",
     "text": [
      "Var(v=3.0000, grad=14.0000)\n",
      "Var(v=5.0000, grad=3.0000)\n",
      "Var(v=15.0000, grad=1.0000)\n",
      "Var(v=9.0000, grad=3.0000)\n",
      "Var(v=27.0000, grad=1.0000)\n",
      "Var(v=42.0000, grad=1.0000)\n"
     ]
    }
   ],
   "source": [
    "a = Var(3.0)\n",
    "b = Var(5.0)\n",
    "c = a * b\n",
    "d = Var(9.0)\n",
    "e = a * d\n",
    "f = c + e\n",
    "\n",
    "f.backward()\n",
    "\n",
    "for v in [a, b, c, d, e, f]:\n",
    "    print(v)"
   ]
  },
  {
   "cell_type": "markdown",
   "metadata": {
    "id": "Fe3B6uEH140p"
   },
   "source": [
    "## Exercise a) What is being calculated?\n",
    "\n",
    "Explain briefly the output of the code? What is the expression we differentiate and with respect to what variables?"
   ]
  },
  {
   "cell_type": "markdown",
   "metadata": {},
   "source": [
    "#### Answer:\n",
    "\n",
    "The function Var is used to store node values and corresponding gradients. We pass the node value as input to the Var function, e.g. a=Var(3.0). This results in a variable with two values, the node value 3.0 and zero gradient.\n",
    "\n",
    "The expression being differentiated is $f=a*b$, so e.g. the gradient at node a and b in the first example are $\\frac{\\partial f}{\\partial a}$ and $\\frac{\\partial f}{\\partial b}$, respectively. \n",
    "\n",
    "Furthermore it is seen that the gradient is first set to zero when using the Var function, but when calling backprop it is set to 1.0, because it is the derivative of the final output wrt. to iself, i.e. $\\frac{\\partial f}{\\partial f} = 1$"
   ]
  },
  {
   "cell_type": "markdown",
   "metadata": {
    "id": "q8_Q0t2I3Ruj"
   },
   "source": [
    "#### Exercise b) How does the backward function work?\n",
    "\n",
    "For the first example above, make a schematic of the data structure which is generated when we define the expression for f. Then execute the backward function by hand to convince yourself that it indeed calculates the gradients with respect to the variables. Write down the sequence of calls to backprop for the first example above."
   ]
  },
  {
   "cell_type": "markdown",
   "metadata": {},
   "source": [
    "When mulitiplying the two Var objects, the node values will be multiplied and we get the new node value, e.g. $f = a*b => 3*5 = 15$. The gradient is just zero (since we have not performed backpropagation yet). When making the backward pass (backpropagation) through the network, we want to compute the gradients for each input with respect to the final output. So when doing backpropagation, the gradient in node a will be $\\frac{\\partial f}{\\partial a} = \\frac{\\partial(a*b)}{\\partial a} = \\frac{\\partial(a*5)}{\\partial a} = 5$. Same goes for node b, i.e. $\\frac{\\partial f}{\\partial b} = \\frac{\\partial(a*b)}{\\partial b} = \\frac{\\partial(3*b)}{\\partial b} = 3$.\n",
    "\n",
    "\n",
    "The schematic is given by so called computational graphs. These are explained here:\n",
    "https://www.tutorialspoint.com/python_deep_learning/python_deep_learning_computational_graphs.htm"
   ]
  },
  {
   "cell_type": "markdown",
   "metadata": {},
   "source": [
    "#### Computational graph for example 1: \n",
    "Equation $f = a*b$"
   ]
  },
  {
   "cell_type": "code",
   "execution_count": 4,
   "metadata": {},
   "outputs": [
    {
     "data": {
      "image/jpeg": "[encoded data removed]",
      "text/plain": [
       "<IPython.core.display.Image object>"
      ]
     },
     "execution_count": 4,
     "metadata": {
      "image/jpeg": {
       "width": 200
      }
     },
     "output_type": "execute_result"
    }
   ],
   "source": [
    "from IPython.display import Image\n",
    "Image(\"figures/comp_graph1.jpg\",width=200)"
   ]
  },
  {
   "cell_type": "markdown",
   "metadata": {},
   "source": [
    "#### Computational graph for example 2\n",
    "Equation $f = e+c = (d*a)+(a*b)$"
   ]
  },
  {
   "cell_type": "code",
   "execution_count": 5,
   "metadata": {},
   "outputs": [
    {
     "data": {
      "image/jpeg": "[encoded data removed]",
      "text/plain": [
       "<IPython.core.display.Image object>"
      ]
     },
     "execution_count": 5,
     "metadata": {
      "image/jpeg": {
       "width": 300
      }
     },
     "output_type": "execute_result"
    }
   ],
   "source": [
    "from IPython.display import Image\n",
    "Image(\"figures/comp_graph2.jpg\",width=300)"
   ]
  },
  {
   "cell_type": "markdown",
   "metadata": {
    "id": "A5oi21W4gpeM"
   },
   "source": [
    "## Exercise c) What happens if we run backward again?\n",
    "\n",
    "Try to execute the code below. Explain what happens."
   ]
  },
  {
   "cell_type": "code",
   "execution_count": 6,
   "metadata": {
    "colab": {
     "base_uri": "https://localhost:8080/"
    },
    "id": "DCtpJyr-gyX1",
    "outputId": "86d38af1-1c6e-487b-f4e6-bf29f0bb105e"
   },
   "outputs": [
    {
     "name": "stdout",
     "output_type": "stream",
     "text": [
      "Var(v=3.0000, grad=28.0000)\n",
      "Var(v=5.0000, grad=6.0000)\n",
      "Var(v=15.0000, grad=2.0000)\n",
      "Var(v=9.0000, grad=6.0000)\n",
      "Var(v=27.0000, grad=2.0000)\n",
      "Var(v=42.0000, grad=2.0000)\n"
     ]
    }
   ],
   "source": [
    "f.backward()\n",
    "\n",
    "for v in [a, b, c, d, e, f]:\n",
    "    print(v)"
   ]
  },
  {
   "cell_type": "markdown",
   "metadata": {},
   "source": [
    "#### Answer:\n",
    "\n",
    "When we backpropagate again through f, we see that the gradient at node f now starts at 2 (1 is added), thus the remaining gradients are doubled."
   ]
  },
  {
   "cell_type": "markdown",
   "metadata": {
    "id": "e8bPVq2VhsP-"
   },
   "source": [
    "## Exercise d) Zero gradient\n",
    "\n",
    "We can zero the gradient by backpropagating a -1.0 as is shown in the example below. (If you have run backward multiple time then you also have to run the cell below an equal amount of times.) Explain what is going on."
   ]
  },
  {
   "cell_type": "code",
   "execution_count": 7,
   "metadata": {
    "colab": {
     "base_uri": "https://localhost:8080/"
    },
    "id": "OnyPDQx9lJe0",
    "outputId": "0b86a0c1-3dc7-4f72-e661-649fa7b53c3a"
   },
   "outputs": [
    {
     "name": "stdout",
     "output_type": "stream",
     "text": [
      "Var(v=2.0000, grad=0.0000)\n",
      "Var(v=5.0000, grad=3.0000)\n",
      "Var(v=15.0000, grad=1.0000)\n",
      "Var(v=9.0000, grad=3.0000)\n",
      "Var(v=27.0000, grad=1.0000)\n",
      "Var(v=42.0000, grad=1.0000)\n",
      "----------------------------------------------\n",
      "Var(v=2.0000, grad=0.0000)\n",
      "Var(v=5.0000, grad=0.0000)\n",
      "Var(v=15.0000, grad=0.0000)\n",
      "Var(v=9.0000, grad=0.0000)\n",
      "Var(v=27.0000, grad=0.0000)\n",
      "Var(v=42.0000, grad=0.0000)\n"
     ]
    }
   ],
   "source": [
    "##### Copied from above\n",
    "a = Var(3.0)\n",
    "b = Var(5.0)\n",
    "c = a * b\n",
    "d = Var(9.0)\n",
    "e = a * d\n",
    "f = c + e\n",
    "\n",
    "f.backward()\n",
    "#####  \n",
    "\n",
    "a = Var(2.0)\n",
    "\n",
    "for v in [a, b, c, d, e, f]:\n",
    "    print(v)\n",
    "\n",
    "print('----------------------------------------------')\n",
    "f.backprop(-1.0)\n",
    "\n",
    "for v in [a, b, c, d, e, f]:\n",
    "    print(v)"
   ]
  },
  {
   "cell_type": "markdown",
   "metadata": {},
   "source": [
    "#### Answer:\n",
    "It is seen that when we backpropagate using -1, then the gradient at f will be 1-1=0. This results in all zero gradients."
   ]
  },
  {
   "cell_type": "markdown",
   "metadata": {
    "id": "U4057_ljNvWB"
   },
   "source": [
    "## Exercise e) Test correctness of derivatives with the finite difference method\n",
    "\n",
    "Write a small function that uses [the finite difference method](https://en.wikipedia.org/wiki/Finite_difference_method) to numerically test that backpropation implementation is working. In short we will use\n",
    "$$\n",
    "\\frac{\\partial f(a)}{\\partial a} \\approx \\frac{f(a+da)-f(a)}{da}\n",
    "$$\n",
    "for $da \\ll 1$.\n",
    "\n",
    "\n",
    "_Insert your code in the cell below._\n"
   ]
  },
  {
   "cell_type": "code",
   "execution_count": 8,
   "metadata": {
    "colab": {
     "base_uri": "https://localhost:8080/"
    },
    "id": "9TGil92lSXDN",
    "outputId": "4993ad11-b380-487c-bcf2-c29a12ef60e1"
   },
   "outputs": [
    {
     "name": "stdout",
     "output_type": "stream",
     "text": [
      "Var(v=3.0000, grad=5.0000)\n",
      "Var(v=5.0000, grad=3.0000)\n",
      "Var(v=15.0000, grad=1.0000)\n",
      "5.000000413701855\n"
     ]
    }
   ],
   "source": [
    "# test function - try to change into other functions as well\n",
    "def test_function(a):\n",
    "    a = Var(a)\n",
    "    b = Var(5.0)\n",
    "    f = a * b\n",
    "    f.backward()\n",
    "    return a,b,f\n",
    "\n",
    "test_a = 3.0\n",
    "for v in test_function(3.0):\n",
    "    print(v)\n",
    "\n",
    "# Insert your finite difference code here\n",
    "def finite_difference(da=1e-10):\n",
    "    \"\"\"\n",
    "    This function compute the finite difference between\n",
    "    \n",
    "    Input:\n",
    "    da:          The finite difference                           (float)\n",
    "    \n",
    "    Output:\n",
    "    finite_difference: numerical approximation to the derivative (float) \n",
    "    \"\"\"\n",
    "    \n",
    "    fun = test_function(test_a)\n",
    "    a = fun[0].v\n",
    "    b = fun[1].v\n",
    "    \n",
    "    fa_da = (a+da)*b           # <- Insert correct expression\n",
    "    fa = a*b               # <- Insert correct expression\n",
    "\n",
    "    finite_difference = (fa_da - fa) / da\n",
    "    \n",
    "    return finite_difference\n",
    "\n",
    "print(finite_difference())"
   ]
  },
  {
   "cell_type": "code",
   "execution_count": 9,
   "metadata": {},
   "outputs": [
    {
     "name": "stdout",
     "output_type": "stream",
     "text": [
      "(Var(v=3.0000, grad=5.0000), Var(v=5.0000, grad=3.0000), Var(v=15.0000, grad=1.0000))\n",
      "Var(v=3.0000, grad=5.0000)\n",
      "3.0\n"
     ]
    }
   ],
   "source": [
    "# practical notes: \n",
    "# function with Var objects\n",
    "print(test_function(3.0))\n",
    "# get Var object: node value and corresponding gradient\n",
    "print(test_function(3.0)[0])\n",
    "# get node value\n",
    "print(test_function(3.0)[0].v)"
   ]
  },
  {
   "cell_type": "markdown",
   "metadata": {
    "id": "6pZar5RKaUkg"
   },
   "source": [
    "# Create an artificial dataset to play with\n",
    "\n",
    "We create a non-linear 1d regression task. The generator supports various noise levels and it creates train, validation and test sets. You can modify it yourself if you want more or less challenging tasks."
   ]
  },
  {
   "cell_type": "code",
   "execution_count": 10,
   "metadata": {
    "id": "Y6yfMAQ8aduj"
   },
   "outputs": [],
   "source": [
    "import numpy as np\n",
    "import matplotlib.pyplot as plt\n",
    "\n",
    "np.random.seed(42)"
   ]
  },
  {
   "cell_type": "code",
   "execution_count": 11,
   "metadata": {
    "id": "4YabfD43ajNh"
   },
   "outputs": [],
   "source": [
    "def data_generator(noise=0.1, n_samples=300, D1=True):\n",
    "    # Create covariates and response variable\n",
    "    if D1:\n",
    "        X = np.linspace(-3, 3, num=n_samples).reshape(-1,1) # 1-D\n",
    "        np.random.shuffle(X)\n",
    "        y = np.random.normal((0.5*np.sin(X[:,0]*3) + X[:,0]), noise) # 1-D with trend\n",
    "    else:\n",
    "        X = np.random.multivariate_normal(np.zeros(3), noise*np.eye(3), size = n_samples) # 3-D\n",
    "        np.random.shuffle(X)    \n",
    "        y = np.sin(X[:,0]) - 5*(X[:,1]**2) + 0.5*X[:,2] # 3-D\n",
    "\n",
    "    # Stack them together vertically to split data set\n",
    "    data_set = np.vstack((X.T,y)).T\n",
    "    \n",
    "    train, validation, test = np.split(data_set, [int(0.35*n_samples), int(0.7*n_samples)], axis=0)\n",
    "    \n",
    "    # Standardization of the data, remember we do the standardization with the training set mean and standard deviation\n",
    "    train_mu = np.mean(train, axis=0)\n",
    "    train_sigma = np.std(train, axis=0)\n",
    "    \n",
    "    train = (train-train_mu)/train_sigma\n",
    "    validation = (validation-train_mu)/train_sigma\n",
    "    test = (test-train_mu)/train_sigma\n",
    "    \n",
    "    x_train, x_validation, x_test = train[:,:-1], validation[:,:-1], test[:,:-1]\n",
    "    y_train, y_validation, y_test = train[:,-1], validation[:,-1], test[:,-1]\n",
    "\n",
    "    return x_train, y_train,  x_validation, y_validation, x_test, y_test"
   ]
  },
  {
   "cell_type": "code",
   "execution_count": 12,
   "metadata": {
    "id": "u1oDngHLapIz"
   },
   "outputs": [],
   "source": [
    "D1 = True\n",
    "n_samples = 300; # just right fitting and underfitting\n",
    "x_train, y_train,  x_validation, y_validation, x_test, y_test = data_generator(noise=0.5, n_samples=n_samples, D1=D1)"
   ]
  },
  {
   "cell_type": "code",
   "execution_count": 13,
   "metadata": {
    "colab": {
     "base_uri": "https://localhost:8080/",
     "height": 265
    },
    "id": "Ysfa3FsBavlm",
    "outputId": "26d5d03c-6c26-47ce-cbab-676c99c30b73"
   },
   "outputs": [
    {
     "data": {
      "image/png": "[encoded data removed]",
      "text/plain": [
       "<Figure size 432x288 with 1 Axes>"
      ]
     },
     "metadata": {
      "needs_background": "light"
     },
     "output_type": "display_data"
    }
   ],
   "source": [
    "if D1:\n",
    "    plt.scatter(x_train[:,0], y_train);\n",
    "    plt.scatter(x_validation[:,0], y_validation);\n",
    "    plt.scatter(x_test[:,0], y_test);\n",
    "else:\n",
    "    plt.scatter(x_train[:,1], y_train);\n",
    "    plt.scatter(x_validation[:,1], y_validation);\n",
    "    plt.scatter(x_test[:,1], y_test);\n",
    "plt.show()"
   ]
  },
  {
   "cell_type": "code",
   "execution_count": 14,
   "metadata": {
    "id": "zac2HHNlgbpm"
   },
   "outputs": [],
   "source": [
    "# convert from nparray to Var\n",
    "def nparray_to_Var(x):\n",
    "    if x.ndim==1:\n",
    "        y = [[Var(float(x[i]))] for i in range(x.shape[0])] # always work with list of list\n",
    "    else:\n",
    "        y = [[Var(float(x[i,j])) for j in range(x.shape[1])] for i in range(x.shape[0])]\n",
    "    return y\n",
    "   \n",
    "x_train = nparray_to_Var(x_train)\n",
    "y_train = nparray_to_Var(y_train)\n",
    "x_validation = nparray_to_Var(x_validation)\n",
    "y_validation = nparray_to_Var(y_validation)\n",
    "x_test = nparray_to_Var(x_test)\n",
    "y_test = nparray_to_Var(y_test)\n"
   ]
  },
  {
   "cell_type": "markdown",
   "metadata": {
    "id": "VbjrqcpVFtGe"
   },
   "source": [
    "# Defining and initializing the network\n",
    "\n",
    "The steps to create a feed forward neural network are the following:\n",
    "\n",
    "1. **Number of hidden layer and hidden units**. We have to define the number of hidden units in each layer. The number of features in X and the output dimensionality (the size of Y) are given but the numbers in between are set by the researcher. Remember that for each unit in each layer beside in the input has a bias term.\n",
    "2. **Activation functions** for each hidden layer. Each hidden layer in your list must have an activation function (it can also be the linear activation which is equivalent to identity function). The power of neural networks comes from non-linear activation functions that learn representations (features) from the data allowing us to learn from it. \n",
    "3. **Parameter initialization**. We will initialize the weights to have random values. This is done in practice by drawing pseudo random numbers from a Gaussian or uniform distribution. It turns out that for deeper models we have to be careful about how we scale the random numbers. This will be the topic of the exercise below. For now we will just use unit variance Gaussians.  \n",
    "\n",
    "In order to make life easier for ourselves we define a DenseLayer class that takes care of initialization and the forward pass. We can also extend it later with print and advanced initialization capabilities. For the latter we have introduced a Initializer class.\n",
    "\n",
    "Note that we use Sequence in the code below. A Sequence is an ordered list. This means the order we insert and access items are the same."
   ]
  },
  {
   "cell_type": "code",
   "execution_count": 15,
   "metadata": {
    "id": "ij_ieRsAt7Xt"
   },
   "outputs": [],
   "source": [
    "class Initializer:\n",
    "    def init_weights(self, n_in, n_out):\n",
    "        raise NotImplementedError\n",
    "\n",
    "    def init_bias(self, n_out):\n",
    "        raise NotImplementedError"
   ]
  },
  {
   "cell_type": "code",
   "execution_count": 16,
   "metadata": {
    "id": "eb18N5phuIha"
   },
   "outputs": [],
   "source": [
    "import random\n",
    "\n",
    "class NormalInitializer(Initializer):\n",
    "    \n",
    "    def __init__(self, mean=0, std=0.1):\n",
    "        self.mean = mean\n",
    "        self.std = std\n",
    "\n",
    "    def init_weights(self, n_in, n_out):\n",
    "        return [[Var(random.gauss(self.mean, self.std)) for _ in range(n_out)] for _ in range(n_in)]\n",
    "\n",
    "    def init_bias(self, n_out):\n",
    "        return [Var(0.0) for _ in range(n_out)]\n",
    "\n",
    "class ConstantInitializer(Initializer):\n",
    "\n",
    "    def __init__(self, weight=1.0, bias=0.0):\n",
    "        self.weight = weight\n",
    "        self.bias = bias\n",
    "\n",
    "    def init_weights(self, n_in, n_out):\n",
    "        return [[Var(self.weight) for _ in range(n_out)] for _ in range(n_in)]\n",
    "\n",
    "    def init_bias(self, n_out):\n",
    "        return [Var(self.bias) for _ in range(n_out)]"
   ]
  },
  {
   "cell_type": "code",
   "execution_count": 17,
   "metadata": {
    "id": "jOLYGnZKuM6W"
   },
   "outputs": [],
   "source": [
    "from typing import Sequence\n",
    "\n",
    "class DenseLayer:\n",
    "    def __init__(self, n_in: int, n_out: int, act_fn, initializer = NormalInitializer()):\n",
    "        self.weights = initializer.init_weights(n_in, n_out)\n",
    "        self.bias = initializer.init_bias(n_out)\n",
    "        self.act_fn = act_fn\n",
    "    \n",
    "    def __repr__(self):    \n",
    "        return 'Weights: ' + repr(self.weights) + ' Biases: ' + repr(self.bias)\n",
    "\n",
    "    def parameters(self) -> Sequence[Var]:\n",
    "        params = []\n",
    "        for r in self.weights:\n",
    "            params += r\n",
    "\n",
    "        return params + self.bias\n",
    "\n",
    "    def forward(self, inputs: Sequence[Var]) -> Sequence[Var]:\n",
    "        assert len(self.weights) == len(inputs), \"weights and inputs must match in first dimension\"\n",
    "        weights = self.weights\n",
    "        out = []\n",
    "        for j in range(len(weights[0])):\n",
    "            node = self.bias[j] # <- Insert code\n",
    "            for i in range(len(inputs)):\n",
    "                node += weights[i][j] * inputs[i]  # <- Insert code\n",
    "            node = self.act_fn(node)\n",
    "            out.append(node)\n",
    "\n",
    "        return out"
   ]
  },
  {
   "cell_type": "markdown",
   "metadata": {
    "id": "p_8n_SKnIW2F"
   },
   "source": [
    "## Exercise f) Complete the forward pass\n",
    "\n",
    "In the code below we initialize a 1-5-1 network and pass the training set through it. The forward method in DenseLayer is not complete. It  just outputs zeros right now. The method forward should perform an [affine transformation](https://en.wikipedia.org/wiki/Affine_transformation) on the input followed by an application of the activation function."
   ]
  },
  {
   "cell_type": "code",
   "execution_count": 18,
   "metadata": {
    "colab": {
     "base_uri": "https://localhost:8080/"
    },
    "id": "xDEjtePxE7Mv",
    "outputId": "271bcd73-43d6-4255-8ea0-6447b2a0ad8c"
   },
   "outputs": [
    {
     "name": "stdout",
     "output_type": "stream",
     "text": [
      "[[Var(v=-0.0061, grad=0.0000)], [Var(v=-0.0122, grad=0.0000)], [Var(v=-0.0011, grad=0.0000)], [Var(v=-0.0036, grad=0.0000)], [Var(v=-0.0090, grad=0.0000)], [Var(v=-0.0083, grad=0.0000)], [Var(v=-0.0054, grad=0.0000)], [Var(v=-0.0009, grad=0.0000)], [Var(v=-0.0038, grad=0.0000)], [Var(v=-0.0033, grad=0.0000)], [Var(v=-0.0094, grad=0.0000)], [Var(v=-0.0023, grad=0.0000)], [Var(v=-0.0075, grad=0.0000)], [Var(v=-0.0026, grad=0.0000)], [Var(v=-0.0040, grad=0.0000)], [Var(v=-0.0078, grad=0.0000)], [Var(v=-0.0144, grad=0.0000)], [Var(v=-0.0069, grad=0.0000)], [Var(v=-0.0007, grad=0.0000)], [Var(v=-0.0024, grad=0.0000)], [Var(v=-0.0017, grad=0.0000)], [Var(v=-0.0008, grad=0.0000)], [Var(v=-0.0106, grad=0.0000)], [Var(v=-0.0106, grad=0.0000)], [Var(v=-0.0010, grad=0.0000)], [Var(v=-0.0027, grad=0.0000)], [Var(v=-0.0137, grad=0.0000)], [Var(v=-0.0150, grad=0.0000)], [Var(v=-0.0016, grad=0.0000)], [Var(v=-0.0095, grad=0.0000)], [Var(v=-0.0034, grad=0.0000)], [Var(v=-0.0023, grad=0.0000)], [Var(v=-0.0030, grad=0.0000)], [Var(v=-0.0032, grad=0.0000)], [Var(v=-0.0072, grad=0.0000)], [Var(v=-0.0006, grad=0.0000)], [Var(v=-0.0037, grad=0.0000)], [Var(v=-0.0014, grad=0.0000)], [Var(v=-0.0026, grad=0.0000)], [Var(v=-0.0019, grad=0.0000)], [Var(v=-0.0013, grad=0.0000)], [Var(v=-0.0018, grad=0.0000)], [Var(v=-0.0142, grad=0.0000)], [Var(v=-0.0022, grad=0.0000)], [Var(v=-0.0018, grad=0.0000)], [Var(v=-0.0021, grad=0.0000)], [Var(v=-0.0091, grad=0.0000)], [Var(v=-0.0086, grad=0.0000)], [Var(v=-0.0008, grad=0.0000)], [Var(v=-0.0088, grad=0.0000)], [Var(v=-0.0038, grad=0.0000)], [Var(v=-0.0003, grad=0.0000)], [Var(v=-0.0096, grad=0.0000)], [Var(v=-0.0018, grad=0.0000)], [Var(v=-0.0152, grad=0.0000)], [Var(v=-0.0134, grad=0.0000)], [Var(v=-0.0012, grad=0.0000)], [Var(v=-0.0013, grad=0.0000)], [Var(v=-0.0050, grad=0.0000)], [Var(v=-0.0032, grad=0.0000)], [Var(v=-0.0089, grad=0.0000)], [Var(v=-0.0023, grad=0.0000)], [Var(v=-0.0037, grad=0.0000)], [Var(v=-0.0043, grad=0.0000)], [Var(v=-0.0032, grad=0.0000)], [Var(v=-0.0031, grad=0.0000)], [Var(v=-0.0033, grad=0.0000)], [Var(v=-0.0112, grad=0.0000)], [Var(v=-0.0023, grad=0.0000)], [Var(v=-0.0044, grad=0.0000)], [Var(v=-0.0009, grad=0.0000)], [Var(v=-0.0004, grad=0.0000)], [Var(v=-0.0087, grad=0.0000)], [Var(v=-0.0051, grad=0.0000)], [Var(v=-0.0003, grad=0.0000)], [Var(v=-0.0138, grad=0.0000)], [Var(v=-0.0016, grad=0.0000)], [Var(v=-0.0016, grad=0.0000)], [Var(v=-0.0021, grad=0.0000)], [Var(v=-0.0143, grad=0.0000)], [Var(v=-0.0022, grad=0.0000)], [Var(v=-0.0013, grad=0.0000)], [Var(v=-0.0034, grad=0.0000)], [Var(v=-0.0005, grad=0.0000)], [Var(v=-0.0017, grad=0.0000)], [Var(v=-0.0007, grad=0.0000)], [Var(v=-0.0006, grad=0.0000)], [Var(v=-0.0019, grad=0.0000)], [Var(v=-0.0035, grad=0.0000)], [Var(v=-0.0036, grad=0.0000)], [Var(v=-0.0052, grad=0.0000)], [Var(v=-0.0011, grad=0.0000)], [Var(v=-0.0020, grad=0.0000)], [Var(v=-0.0081, grad=0.0000)], [Var(v=-0.0029, grad=0.0000)], [Var(v=-0.0034, grad=0.0000)], [Var(v=-0.0037, grad=0.0000)], [Var(v=-0.0006, grad=0.0000)], [Var(v=-0.0130, grad=0.0000)], [Var(v=-0.0020, grad=0.0000)], [Var(v=-0.0085, grad=0.0000)], [Var(v=-0.0020, grad=0.0000)], [Var(v=-0.0030, grad=0.0000)], [Var(v=-0.0041, grad=0.0000)], [Var(v=-0.0121, grad=0.0000)]]\n"
     ]
    }
   ],
   "source": [
    "NN = [\n",
    "    DenseLayer(1, 5, lambda x: x.relu()),\n",
    "    DenseLayer(5, 1, lambda x: x.identity())\n",
    "]\n",
    "\n",
    "def forward(input, network):\n",
    "\n",
    "    def forward_single(x, network):\n",
    "        for layer in network:\n",
    "            x = layer.forward(x)\n",
    "        return x\n",
    "\n",
    "    output = [ forward_single(input[n], network) for n in range(len(input))]\n",
    "    return output\n",
    "\n",
    "print(forward(x_train, NN))\n"
   ]
  },
  {
   "cell_type": "markdown",
   "metadata": {
    "id": "oLrGJytZFtGm"
   },
   "source": [
    "## Exercise g) Print all network parameters\n",
    "\n",
    "Make a function that prints all the parameters of the network (weights and biases) with information about in which layer the appear. In the object oriented spirit you should introduce a method in the DenseLayer class to print the parameters of a layer. Hint: You can take inspiration from the corresponding method in Var. "
   ]
  },
  {
   "cell_type": "code",
   "execution_count": 27,
   "metadata": {
    "id": "iac-VwYGFtGm"
   },
   "outputs": [
    {
     "data": {
      "text/plain": [
       "'[Weights: [[Var(v=-0.2749, grad=0.0000), Var(v=0.1426, grad=0.0000), Var(v=0.0282, grad=0.0000), Var(v=0.0441, grad=0.0000), Var(v=-0.0375, grad=0.0000)]] Biases: [Var(v=0.0000, grad=0.0000), Var(v=0.0000, grad=0.0000), Var(v=0.0000, grad=0.0000), Var(v=0.0000, grad=0.0000), Var(v=0.0000, grad=0.0000)], Weights: [[Var(v=0.0117, grad=0.0000)], [Var(v=-0.0087, grad=0.0000)], [Var(v=-0.0387, grad=0.0000)], [Var(v=-0.1379, grad=0.0000)], [Var(v=-0.1495, grad=0.0000)]] Biases: [Var(v=0.0000, grad=0.0000)]]'"
      ]
     },
     "execution_count": 27,
     "metadata": {},
     "output_type": "execute_result"
    }
   ],
   "source": [
    "# Insert code here and in the DenseLayer class\n",
    "\n",
    "def __repr__(self):    \n",
    "        return 'Weights: ' + repr(self.weights) + ' Biases: ' + repr(self.bias)\n",
    "\n",
    "# printing parameters\n",
    "repr(NN)"
   ]
  },
  {
   "cell_type": "markdown",
   "metadata": {
    "id": "-u4xk_ORFtGz"
   },
   "source": [
    "# Activation functions\n",
    "\n",
    "To have a full definition of the neural network, we must define an activation function for every layer. Several activation functions have been proposed and have different characteristics. In the Var class we have already defined the rectified linear init (relu). \n",
    " "
   ]
  },
  {
   "cell_type": "markdown",
   "metadata": {
    "id": "jpIZPBpNI0pO"
   },
   "source": [
    "## Exercise h) Add more activation functions\n",
    "\n",
    "Implement the following activation functions in the Var class:\n",
    "\n",
    "* Identity: $$\\mathrm{identity}(x) = x$$\n",
    "* Hyperbolic tangent: $$\\tanh(x)$$\n",
    "* Sigmoid (or logistic function): $$\\mathrm{sigmoid}(x) = \\frac{1}{1.0 + \\exp(-x ) }$$  Hint: $\\mathrm{sigmoid}'(x)= \\mathrm{sigmoid}(x)(1-\\mathrm{sigmoid}(x))$.  \n",
    "\n",
    "Hint: You can seek inspiration in the relu method in the Var class."
   ]
  },
  {
   "cell_type": "markdown",
   "metadata": {
    "id": "_79HOAXrFtHK"
   },
   "source": [
    "## Visualization\n",
    "\n",
    "Now that we have defined our activation functions we can visualize them to see what they look like:"
   ]
  },
  {
   "cell_type": "code",
   "execution_count": 22,
   "metadata": {
    "colab": {
     "base_uri": "https://localhost:8080/",
     "height": 284
    },
    "id": "1FcylHqLTl-Z",
    "outputId": "c23c865b-3894-434c-f38a-f3cff5f772e5"
   },
   "outputs": [
    {
     "data": {
      "text/plain": [
       "[<matplotlib.lines.Line2D at 0x7fe45743a650>]"
      ]
     },
     "execution_count": 22,
     "metadata": {},
     "output_type": "execute_result"
    },
    {
     "data": {
      "image/png": "[encoded data removed]",
      "text/plain": [
       "<Figure size 432x288 with 1 Axes>"
      ]
     },
     "metadata": {
      "needs_background": "light"
     },
     "output_type": "display_data"
    }
   ],
   "source": [
    "x = np.linspace(-6, 6, 100)\n",
    "\n",
    "# convert from Var to ndarray  \n",
    "def Var_to_nparray(x):\n",
    "  y = np.zeros((len(x),len(x[0])))\n",
    "  for i in range(len(x)):\n",
    "    for j in range(len(x[0])):\n",
    "      y[i,j] = x[i][j].v\n",
    "  return y\n",
    "\n",
    "# define 1-1 network with weight = 1 and relu activation \n",
    "NN = [ DenseLayer(1, 1, lambda x: x.relu(), initializer = ConstantInitializer(1.0)) ] \n",
    "y = Var_to_nparray(forward(nparray_to_Var(x), NN))\n",
    "\n",
    "#y = Var_to_nparray(relu(nparray_to_Var(x)))\n",
    "plt.plot(x,y)"
   ]
  },
  {
   "cell_type": "code",
   "execution_count": 23,
   "metadata": {
    "colab": {
     "base_uri": "https://localhost:8080/",
     "height": 341
    },
    "id": "oOL2UolJFtHL",
    "outputId": "9d51d191-ca43-44a6-d5f6-d41a2bd0a80b"
   },
   "outputs": [
    {
     "data": {
      "image/png": "[encoded data removed]",
      "text/plain": [
       "<Figure size 360x360 with 1 Axes>"
      ]
     },
     "metadata": {
      "needs_background": "light"
     },
     "output_type": "display_data"
    }
   ],
   "source": [
    "# Testing all activation layers\n",
    "\n",
    "x = np.linspace(-6, 6, 100)\n",
    "units = {\n",
    "    \"identity\": lambda x: x.identity(),\n",
    "    \"sigmoid\": lambda x: x.sigmoid(),  #<- uncomment before sharing\n",
    "    \"relu\": lambda x: x.relu(),\n",
    "    \"tanh\": lambda x: x.tanh() #<- uncomment before sharing\n",
    "}\n",
    "\n",
    "plt.figure(figsize=(5, 5))\n",
    "[plt.plot(x, Var_to_nparray(forward(nparray_to_Var(x), [DenseLayer(1, 1, unit, initializer = ConstantInitializer(1.0))]) ), label=unit_name, lw=2) for unit_name, unit in units.items()] # unit(nparray_to_Var(x))), label=unit_name, lw=2) for unit_name, unit in units.items()]\n",
    "plt.legend(loc=2, fontsize=16)\n",
    "plt.title('Our activation functions', fontsize=20)\n",
    "plt.ylim([-2, 5])\n",
    "plt.xlim([-6, 6])\n",
    "plt.show()"
   ]
  },
  {
   "cell_type": "markdown",
   "metadata": {
    "id": "b-jdEl-7FtGs"
   },
   "source": [
    "# Advanced initialization schemes\n",
    "\n",
    "If we are not careful with initialization, the signals we propagate forward ($a^{(l)}$, $l=1,\\ldots,L$) and backward ($\\delta^l$, $l=L,L-1,\\ldots,1$) can blow up or shrink to zero. A statistical analysis of the variance of the signals for different activation functions can be found in these two papers: [Glorot initialization](http://proceedings.mlr.press/v9/glorot10a/glorot10a.pdf) and [He initialization](https://arxiv.org/pdf/1502.01852v1.pdf). \n",
    "\n",
    "The result of the analyses are proposals for how to make the initialization such that the variance of the signals (forward and backward) are kept approxmimatly constant when propagating from layer to layer. The exact expressions depend upon the non-linear activation function used. In Glorot initialization, the aim is to keep both the forward and backward variances constant whereas He only aims at keeping the variance in the forward pass constant.\n",
    "\n",
    "We define $n_{in}$ and $n_{out}$ as the number of input units and output units of a particular layer. \n",
    "\n",
    "The Glorot initialization has the form: \n",
    "\n",
    "$$w_{ij} \\sim N \\bigg( 0, \\, \\frac{2 \\alpha }{n_{in} + n_{out}} \\bigg) \\ . $$\n",
    "\n",
    "where $N(\\mu,\\sigma^2)$ is a Gaussian distribution with mean $\\mu$ and variance $\\sigma^2$ and $\\alpha$ is a parameter that depends upon the activation function used. For $\\tanh$, $\\alpha=1$ and for Rectified Linear Unit (ReLU) activations, $\\alpha=2$. (It is also possible to use a uniform distribution for initialization, see [this blog post](https://mmuratarat.github.io/2019-02-25/xavier-glorot-he-weight-init).) \n",
    "\n",
    "The He initialization is very similar\n",
    "\n",
    "$$w_{ij} \\sim N \\bigg( 0, \\, \\frac{\\alpha}{n_{in}} \\bigg) \\ . $$"
   ]
  },
  {
   "cell_type": "markdown",
   "metadata": {
    "id": "mqeyab9qFtGs"
   },
   "source": [
    "## Exercise i) Glorot and He initialization\n",
    " \n",
    "Using the Initializer class, implement functions that implement Glorot and He \n",
    "\n",
    "Explain briefly how you would test numerically that these initializations have the sought after property. Hint: See plots in Glorot paper.\n",
    "\n",
    "Comment: If you want to be more advanced then try to make a universal initializer taking both the activation function and type (Glorot or He) as argument."
   ]
  },
  {
   "cell_type": "code",
   "execution_count": 24,
   "metadata": {
    "id": "Qyk01CgaFtGt"
   },
   "outputs": [],
   "source": [
    "## Glorot\n",
    "def DenseLayer_Glorot_tanh(n_in: int, n_out: int):\n",
    "    alpha = 1 # alpha value for tanh\n",
    "    std = np.sqrt(2*alpha/(n_in+n_out)) \n",
    "    return DenseLayer(n_in, n_out, lambda x: x.tanh(), initializer = NormalInitializer(std))\n",
    "\n",
    "## He\n",
    "def DenseLayer_He_relu(n_in: int, n_out: int):\n",
    "    alpha = 2 # alpha value for ReLU\n",
    "    std = np.sqrt(alpha/n_in)\n",
    "    return DenseLayer(n_in, n_out, lambda x: x.relu(), initializer = NormalInitializer(std))"
   ]
  },
  {
   "cell_type": "markdown",
   "metadata": {
    "id": "-XyXBD37FtHk"
   },
   "source": [
    "## Exercise j) Forward pass unit test\n",
    "\n",
    "Write a bit of code to make a unit test that the forward pass works. This can be done by defining a simple network with for example all weights equal to one (using the ConstantInitializer method) and identity activation functions. \n",
    "\n",
    "Hints: Use the [assert](https://www.w3schools.com/python/ref_keyword_assert.asp), the nparray_to_Var and the Var_to_nparray commands. "
   ]
  },
  {
   "cell_type": "code",
   "execution_count": 25,
   "metadata": {
    "id": "k0miqRUAFtHl"
   },
   "outputs": [
    {
     "name": "stdout",
     "output_type": "stream",
     "text": [
      "True\n"
     ]
    }
   ],
   "source": [
    "x = np.linspace(-6, 6, 100)\n",
    "\n",
    "# define 1-1 network with weight = 1 (ConstantInitializer) and identity activation \n",
    "NN = [ DenseLayer(1, 1, lambda x: x.identity(), initializer = ConstantInitializer(1.0)) ] \n",
    "y = Var_to_nparray(forward(nparray_to_Var(x), NN))\n",
    "\n",
    "# assert that x and y are the same, since all weights are 1.\n",
    "print(min(x == y.flatten()))"
   ]
  },
  {
   "cell_type": "markdown",
   "metadata": {
    "id": "faCxhfFnFtHp"
   },
   "source": [
    "# Loss functions\n",
    "\n",
    "We are only missing a loss function to we need to define a loss function and its derivative with respect to the output of the neural network $y$"
   ]
  },
  {
   "cell_type": "code",
   "execution_count": 26,
   "metadata": {
    "id": "I2eDYKvAFtHq"
   },
   "outputs": [],
   "source": [
    "def squared_loss(t, y):\n",
    "  \n",
    "  # add check that sizes agree\n",
    "  assert len(t) == len(y)\n",
    "  \n",
    "  def squared_loss_single(t, y):\n",
    "    Loss = Var(0.0)\n",
    "    for i in range(len(t)): # sum over outputs\n",
    "      Loss += (t[i]-y[i]) ** 2\n",
    "    return Loss\n",
    "\n",
    "  Loss = Var(0.0)\n",
    "  for n in range(len(t)): # sum over training data\n",
    "    Loss += squared_loss_single(t[n],y[n])\n",
    "  return Loss"
   ]
  },
  {
   "cell_type": "markdown",
   "metadata": {
    "id": "SrwSJ2UWFtHu"
   },
   "source": [
    "## Exercise j) Implement cross entropy loss\n",
    "\n",
    "Insert code below to implement cross-entropy loss for general dimensionality of $t$. Use a logits formulation:\n",
    "$$\n",
    "\\rm{Loss} = - \\sum_i t_i \\, log \\, p_i \n",
    "$$\n",
    "with $p$ given by the the softmax function in terms of the logits $h$:\n",
    "$$\n",
    "p_i = \\frac{\\exp(h_i)}{\\sum_{i'} \\exp(h_{i'}) } .\n",
    "$$\n",
    "Inserting $p$ in the expression for the loss gives\n",
    "$$\n",
    "\\rm{Loss} = - \\sum_i t_i h_i + \\rm{LogSumExp}(h) \\ ,\n",
    "$$\n",
    "where \n",
    "$$\n",
    "\\rm{LogSumExp}(h) = \\log \\sum_i \\exp h_i \\ .\n",
    "$$\n",
    "This is true for $t$ being a one-hot vector. In practice you want to implement a [numerically stable](https://leimao.github.io/blog/LogSumExp/) version of LogSumExp. But we will not bother about that here.\n",
    "\n",
    "Help: You can add these methods in the Var class:\n",
    "\n",
    "    def exp(self):\n",
    "        return Var(exp(self.v), lambda: [(self, exp(self.v))])\n",
    "    \n",
    "    def log(self):\n",
    "        return Var(log(self.v), lambda: [(self, self.v ** -1)])"
   ]
  },
  {
   "cell_type": "code",
   "execution_count": 27,
   "metadata": {
    "id": "6nMuxyfzFtHv"
   },
   "outputs": [],
   "source": [
    "def cross_entropy_loss(t, y):\n",
    "    # t = target (e.g. y_train)\n",
    "    # y = output\n",
    "     \n",
    "    Loss = Var(0.0)\n",
    "    for i in range(len(t)): # sum over outputs\n",
    "        SumExp += y[i].exp() # sum_i exp(h_i)\n",
    "        Sumty += t[i]*y[i] # sum_i t_i*h_i\n",
    "    \n",
    "    LogSumExp = SumExp.log() # log sum_i exp(h_i)\n",
    "    Loss = -Sumty + LogSumExp \n",
    "    return Loss"
   ]
  },
  {
   "cell_type": "markdown",
   "metadata": {
    "id": "8fAF5ew4FtHy"
   },
   "source": [
    "# Backward pass\n",
    "\n",
    "Now the magic happens! We get the calculation of the gradients for free. Just do:"
   ]
  },
  {
   "cell_type": "code",
   "execution_count": 28,
   "metadata": {
    "id": "iHyfPPI9Qqwu"
   },
   "outputs": [],
   "source": [
    "NN = [\n",
    "    DenseLayer(1, 5, lambda x: x.relu()),\n",
    "    DenseLayer(5, 1, lambda x: x.identity())\n",
    "]\n",
    "\n",
    "output = forward(x_train, NN)\n",
    "\n",
    "Loss = squared_loss(y_train,output)\n",
    "Loss.backward()"
   ]
  },
  {
   "cell_type": "markdown",
   "metadata": {
    "id": "49biIAYKQ1oG"
   },
   "source": [
    "and the gradients will be calculated:"
   ]
  },
  {
   "cell_type": "code",
   "execution_count": 29,
   "metadata": {
    "colab": {
     "base_uri": "https://localhost:8080/"
    },
    "id": "_rGt1bq_Q7uk",
    "outputId": "8d283577-9bd1-496b-f4a8-764a9507a4bf"
   },
   "outputs": [
    {
     "name": "stdout",
     "output_type": "stream",
     "text": [
      "Layer 0 \n",
      " Weights: [[Var(v=-0.2086, grad=-8.6419), Var(v=0.1468, grad=-2.7321), Var(v=0.2002, grad=1.1590), Var(v=-0.0918, grad=-2.0066), Var(v=-0.0367, grad=4.5629)]] Biases: [Var(v=0.0000, grad=7.8577), Var(v=0.0000, grad=-2.3470), Var(v=0.0000, grad=0.9956), Var(v=0.0000, grad=1.8245), Var(v=0.0000, grad=-4.1488)]\n",
      "Layer 1 \n",
      " Weights: [[Var(v=0.0883, grad=20.4159)], [Var(v=0.0269, grad=-14.8867)], [Var(v=-0.0114, grad=-20.3012)], [Var(v=0.0205, grad=8.9858)], [Var(v=-0.0466, grad=3.5949)]] Biases: [Var(v=0.0000, grad=1.8760)]\n"
     ]
    }
   ],
   "source": [
    "_ = [print('Layer', i, '\\n', NN[i]) for i in range(len(NN))] \n",
    "\n",
    "# _ = is just there to avoid [None, None]\n",
    "# see https://stackoverflow.com/questions/66098638/using-printn-for-n-in-list-with-google-colab?fbclid=IwAR23etc9CoBuRzAo_LVqGMHYL5NHeIFRwBXhP8ZgP3cmRdyZz3LLr5rR9XA"
   ]
  },
  {
   "cell_type": "markdown",
   "metadata": {
    "id": "D7d7qK0uFtH9"
   },
   "source": [
    "# Backward pass unit test\n",
    "\n",
    "Above we used finite differences to test that Nanograd is actually doing what it is supposed to do. We can in principle try the same for the neural network. But we will trust that the test above is enough."
   ]
  },
  {
   "cell_type": "markdown",
   "metadata": {
    "id": "WgBi8GOSFtIN"
   },
   "source": [
    "# Training and validation\n",
    "\n",
    "We are ready to train some neural networks!\n",
    "\n",
    "We initialize again:"
   ]
  },
  {
   "cell_type": "code",
   "execution_count": 30,
   "metadata": {
    "id": "01ePmzBzRtdh"
   },
   "outputs": [],
   "source": [
    "NN = [\n",
    "    DenseLayer(1, 5, lambda x: x.relu()),\n",
    "    DenseLayer(5, 1, lambda x: x.identity())\n",
    "]\n",
    "\n",
    "output = forward(x_train, NN)\n",
    "\n",
    "Loss = squared_loss(y_train,output)\n",
    "Loss.backward()"
   ]
  },
  {
   "cell_type": "markdown",
   "metadata": {
    "id": "10iRPiQ1ISHw"
   },
   "source": [
    "and make an update:\n",
    "\n",
    "We introduce a help function parameters to have a handle in all parameters in the network."
   ]
  },
  {
   "cell_type": "code",
   "execution_count": 31,
   "metadata": {
    "colab": {
     "base_uri": "https://localhost:8080/"
    },
    "id": "dhAI7eyeznia",
    "outputId": "8584bbad-00aa-4130-9961-44e9ae7fb4ed"
   },
   "outputs": [
    {
     "name": "stdout",
     "output_type": "stream",
     "text": [
      "Network before update:\n",
      "Layer 0 \n",
      " Weights: [[Var(v=-0.0153, grad=3.7973), Var(v=0.0923, grad=-10.2887), Var(v=0.0038, grad=12.2191), Var(v=0.0086, grad=2.9666), Var(v=0.0770, grad=6.6943)]] Biases: [Var(v=0.0000, grad=-3.4516), Var(v=0.0000, grad=-8.8387), Var(v=0.0000, grad=10.4970), Var(v=0.0000, grad=2.5485), Var(v=0.0000, grad=5.7508)]\n",
      "Layer 1 \n",
      " Weights: [[Var(v=-0.0396, grad=1.4719)], [Var(v=0.1017, grad=-9.3366)], [Var(v=-0.1207, grad=-0.3822)], [Var(v=-0.0293, grad=-0.8722)], [Var(v=-0.0661, grad=-7.7974)]] Biases: [Var(v=0.0000, grad=0.2748)]\n",
      "\n",
      "Network after update:\n",
      "Layer 0 \n",
      " Weights: [[Var(v=-0.0533, grad=3.7973), Var(v=0.1951, grad=-10.2887), Var(v=-0.1184, grad=12.2191), Var(v=-0.0210, grad=2.9666), Var(v=0.0101, grad=6.6943)]] Biases: [Var(v=0.0345, grad=-3.4516), Var(v=0.0884, grad=-8.8387), Var(v=-0.1050, grad=10.4970), Var(v=-0.0255, grad=2.5485), Var(v=-0.0575, grad=5.7508)]\n",
      "Layer 1 \n",
      " Weights: [[Var(v=-0.0543, grad=1.4719)], [Var(v=0.1950, grad=-9.3366)], [Var(v=-0.1169, grad=-0.3822)], [Var(v=-0.0206, grad=-0.8722)], [Var(v=0.0118, grad=-7.7974)]] Biases: [Var(v=-0.0027, grad=0.2748)]\n",
      "\n",
      "Network after zeroing gradients:\n",
      "Layer 0 \n",
      " Weights: [[Var(v=-0.0533, grad=0.0000), Var(v=0.1951, grad=0.0000), Var(v=-0.1184, grad=0.0000), Var(v=-0.0210, grad=0.0000), Var(v=0.0101, grad=0.0000)]] Biases: [Var(v=0.0345, grad=0.0000), Var(v=0.0884, grad=0.0000), Var(v=-0.1050, grad=0.0000), Var(v=-0.0255, grad=0.0000), Var(v=-0.0575, grad=0.0000)]\n",
      "Layer 1 \n",
      " Weights: [[Var(v=-0.0543, grad=0.0000)], [Var(v=0.1950, grad=0.0000)], [Var(v=-0.1169, grad=0.0000)], [Var(v=-0.0206, grad=0.0000)], [Var(v=0.0118, grad=0.0000)]] Biases: [Var(v=-0.0027, grad=0.0000)]\n"
     ]
    }
   ],
   "source": [
    "print('Network before update:')\n",
    "[print('Layer', i, '\\n', NN[i]) for i in range(len(NN))] \n",
    "\n",
    "def parameters(network):\n",
    "  params = []\n",
    "  for layer in range(len(network)):\n",
    "    params += network[layer].parameters()\n",
    "  return params\n",
    "\n",
    "def update_parameters(params, learning_rate=0.01):\n",
    "  for p in params:\n",
    "    p.v -= learning_rate*p.grad\n",
    "\n",
    "def zero_gradients(params):\n",
    "  for p in params:\n",
    "    p.grad = 0.0\n",
    "\n",
    "update_parameters(parameters(NN))\n",
    "\n",
    "print('\\nNetwork after update:')\n",
    "_ =[print('Layer', i, '\\n', NN[i]) for i in range(len(NN))] \n",
    "\n",
    "zero_gradients(parameters(NN))\n",
    "\n",
    "print('\\nNetwork after zeroing gradients:')\n",
    "_ = [print('Layer', i, '\\n', NN[i]) for i in range(len(NN))] "
   ]
  },
  {
   "cell_type": "code",
   "execution_count": 32,
   "metadata": {
    "id": "woWYpdw6FtIO"
   },
   "outputs": [],
   "source": [
    "# Initialize an arbitrary neural network\n",
    "NN = [\n",
    "    DenseLayer(1, 8, lambda x: x.relu()),\n",
    "    DenseLayer(8, 1, lambda x: x.identity())\n",
    "]\n",
    "\n",
    "# Recommended hyper-parameters for 3-D: \n",
    "#NN = [\n",
    "#    DenseLayer(3, 16, lambda x: x.relu()),\n",
    "#    DenseLayer(16, 1, lambda x: x.identity())\n",
    "#]\n",
    "\n",
    "\n",
    "### Notice that, when we switch from tanh to relu activation, we decrease the learning rate. This is due the stability of the gradients \n",
    "## of the activation functions."
   ]
  },
  {
   "cell_type": "code",
   "execution_count": 39,
   "metadata": {
    "id": "mdqaqYBVFtIR"
   },
   "outputs": [],
   "source": [
    "# Initialize training hyperparameters\n",
    "EPOCHS = 5000 # just right fitting\n",
    "LEARN_R = 2e-3 "
   ]
  },
  {
   "cell_type": "code",
   "execution_count": 40,
   "metadata": {
    "colab": {
     "base_uri": "https://localhost:8080/"
    },
    "id": "5kfg76GMFtIW",
    "outputId": "e30cf68a-31f2-42b4-cc5e-860c297c0f04",
    "scrolled": true
   },
   "outputs": [
    {
     "name": "stdout",
     "output_type": "stream",
     "text": [
      "   0 ( 0.00%) Train loss: 11.855 \t Validation loss: 9.079\n",
      "  10 ( 0.20%) Train loss: 11.855 \t Validation loss: 9.074\n",
      "  20 ( 0.40%) Train loss: 11.855 \t Validation loss: 9.078\n",
      "  30 ( 0.60%) Train loss: 11.855 \t Validation loss: 9.087\n",
      "  40 ( 0.80%) Train loss: 11.855 \t Validation loss: 9.090\n",
      "  50 ( 1.00%) Train loss: 11.855 \t Validation loss: 9.088\n",
      "  60 ( 1.20%) Train loss: 11.855 \t Validation loss: 9.084\n",
      "  70 ( 1.40%) Train loss: 11.855 \t Validation loss: 9.080\n",
      "  80 ( 1.60%) Train loss: 11.855 \t Validation loss: 9.077\n",
      "  90 ( 1.80%) Train loss: 11.855 \t Validation loss: 9.080\n",
      " 100 ( 2.00%) Train loss: 11.855 \t Validation loss: 9.078\n",
      " 110 ( 2.20%) Train loss: 11.855 \t Validation loss: 9.075\n",
      " 120 ( 2.40%) Train loss: 11.855 \t Validation loss: 9.080\n",
      " 130 ( 2.60%) Train loss: 11.855 \t Validation loss: 9.077\n",
      " 140 ( 2.80%) Train loss: 11.855 \t Validation loss: 9.079\n",
      " 150 ( 3.00%) Train loss: 11.855 \t Validation loss: 9.077\n",
      " 160 ( 3.20%) Train loss: 11.855 \t Validation loss: 9.079\n",
      " 170 ( 3.40%) Train loss: 11.855 \t Validation loss: 9.076\n",
      " 180 ( 3.60%) Train loss: 11.855 \t Validation loss: 9.077\n",
      " 190 ( 3.80%) Train loss: 11.855 \t Validation loss: 9.080\n",
      " 200 ( 4.00%) Train loss: 11.855 \t Validation loss: 9.077\n",
      " 210 ( 4.20%) Train loss: 11.855 \t Validation loss: 9.079\n",
      " 220 ( 4.40%) Train loss: 11.855 \t Validation loss: 9.074\n",
      " 230 ( 4.60%) Train loss: 11.855 \t Validation loss: 9.078\n",
      " 240 ( 4.80%) Train loss: 11.855 \t Validation loss: 9.087\n",
      " 250 ( 5.00%) Train loss: 11.855 \t Validation loss: 9.090\n",
      " 260 ( 5.20%) Train loss: 11.855 \t Validation loss: 9.087\n",
      " 270 ( 5.40%) Train loss: 11.855 \t Validation loss: 9.084\n",
      " 280 ( 5.60%) Train loss: 11.855 \t Validation loss: 9.080\n",
      " 290 ( 5.80%) Train loss: 11.855 \t Validation loss: 9.077\n",
      " 300 ( 6.00%) Train loss: 11.855 \t Validation loss: 9.080\n",
      " 310 ( 6.20%) Train loss: 11.855 \t Validation loss: 9.078\n",
      " 320 ( 6.40%) Train loss: 11.855 \t Validation loss: 9.075\n",
      " 330 ( 6.60%) Train loss: 11.855 \t Validation loss: 9.080\n",
      " 340 ( 6.80%) Train loss: 11.855 \t Validation loss: 9.077\n",
      " 350 ( 7.00%) Train loss: 11.855 \t Validation loss: 9.079\n",
      " 360 ( 7.20%) Train loss: 11.855 \t Validation loss: 9.076\n",
      " 370 ( 7.40%) Train loss: 11.855 \t Validation loss: 9.077\n",
      " 380 ( 7.60%) Train loss: 11.855 \t Validation loss: 9.076\n",
      " 390 ( 7.80%) Train loss: 11.855 \t Validation loss: 9.082\n",
      " 400 ( 8.00%) Train loss: 11.855 \t Validation loss: 9.080\n",
      " 410 ( 8.20%) Train loss: 11.855 \t Validation loss: 9.076\n",
      " 420 ( 8.40%) Train loss: 11.855 \t Validation loss: 9.079\n",
      " 430 ( 8.60%) Train loss: 11.855 \t Validation loss: 9.074\n",
      " 440 ( 8.80%) Train loss: 11.855 \t Validation loss: 9.078\n",
      " 450 ( 9.00%) Train loss: 11.855 \t Validation loss: 9.087\n",
      " 460 ( 9.20%) Train loss: 11.855 \t Validation loss: 9.090\n",
      " 470 ( 9.40%) Train loss: 11.855 \t Validation loss: 9.087\n",
      " 480 ( 9.60%) Train loss: 11.855 \t Validation loss: 9.084\n",
      " 490 ( 9.80%) Train loss: 11.855 \t Validation loss: 9.080\n",
      " 500 (10.00%) Train loss: 11.855 \t Validation loss: 9.077\n",
      " 510 (10.20%) Train loss: 11.855 \t Validation loss: 9.080\n",
      " 520 (10.40%) Train loss: 11.855 \t Validation loss: 9.078\n",
      " 530 (10.60%) Train loss: 11.855 \t Validation loss: 9.075\n",
      " 540 (10.80%) Train loss: 11.855 \t Validation loss: 9.080\n",
      " 550 (11.00%) Train loss: 11.855 \t Validation loss: 9.077\n",
      " 560 (11.20%) Train loss: 11.855 \t Validation loss: 9.079\n",
      " 570 (11.40%) Train loss: 11.855 \t Validation loss: 9.076\n",
      " 580 (11.60%) Train loss: 11.855 \t Validation loss: 9.077\n",
      " 590 (11.80%) Train loss: 11.855 \t Validation loss: 9.080\n",
      " 600 (12.00%) Train loss: 11.855 \t Validation loss: 9.082\n",
      " 610 (12.20%) Train loss: 11.855 \t Validation loss: 9.079\n",
      " 620 (12.40%) Train loss: 11.855 \t Validation loss: 9.076\n",
      " 630 (12.60%) Train loss: 11.855 \t Validation loss: 9.076\n",
      " 640 (12.80%) Train loss: 11.855 \t Validation loss: 9.073\n",
      " 650 (13.00%) Train loss: 11.855 \t Validation loss: 9.091\n",
      " 660 (13.20%) Train loss: 11.855 \t Validation loss: 9.087\n",
      " 670 (13.40%) Train loss: 11.855 \t Validation loss: 9.090\n",
      " 680 (13.60%) Train loss: 11.855 \t Validation loss: 9.087\n",
      " 690 (13.80%) Train loss: 11.855 \t Validation loss: 9.077\n",
      " 700 (14.00%) Train loss: 11.855 \t Validation loss: 9.080\n",
      " 710 (14.20%) Train loss: 11.855 \t Validation loss: 9.077\n",
      " 720 (14.40%) Train loss: 11.855 \t Validation loss: 9.080\n",
      " 730 (14.60%) Train loss: 11.855 \t Validation loss: 9.078\n",
      " 740 (14.80%) Train loss: 11.855 \t Validation loss: 9.075\n",
      " 750 (15.00%) Train loss: 11.855 \t Validation loss: 9.080\n",
      " 760 (15.20%) Train loss: 11.855 \t Validation loss: 9.077\n",
      " 770 (15.40%) Train loss: 11.855 \t Validation loss: 9.079\n",
      " 780 (15.60%) Train loss: 11.855 \t Validation loss: 9.075\n",
      " 790 (15.80%) Train loss: 11.855 \t Validation loss: 9.077\n",
      " 800 (16.00%) Train loss: 11.855 \t Validation loss: 9.078\n",
      " 810 (16.20%) Train loss: 11.855 \t Validation loss: 9.082\n",
      " 820 (16.40%) Train loss: 11.855 \t Validation loss: 9.079\n",
      " 830 (16.60%) Train loss: 11.855 \t Validation loss: 9.076\n",
      " 840 (16.80%) Train loss: 11.855 \t Validation loss: 9.076\n",
      " 850 (17.00%) Train loss: 11.855 \t Validation loss: 9.073\n",
      " 860 (17.20%) Train loss: 11.855 \t Validation loss: 9.089\n",
      " 870 (17.40%) Train loss: 11.855 \t Validation loss: 9.087\n",
      " 880 (17.60%) Train loss: 11.855 \t Validation loss: 9.089\n",
      " 890 (17.80%) Train loss: 11.855 \t Validation loss: 9.087\n",
      " 900 (18.00%) Train loss: 11.855 \t Validation loss: 9.077\n",
      " 910 (18.20%) Train loss: 11.855 \t Validation loss: 9.080\n",
      " 920 (18.40%) Train loss: 11.855 \t Validation loss: 9.077\n",
      " 930 (18.60%) Train loss: 11.855 \t Validation loss: 9.080\n",
      " 940 (18.80%) Train loss: 11.855 \t Validation loss: 9.078\n",
      " 950 (19.00%) Train loss: 11.855 \t Validation loss: 9.075\n",
      " 960 (19.20%) Train loss: 11.855 \t Validation loss: 9.080\n",
      " 970 (19.40%) Train loss: 11.855 \t Validation loss: 9.077\n",
      " 980 (19.60%) Train loss: 11.855 \t Validation loss: 9.079\n",
      " 990 (19.80%) Train loss: 11.855 \t Validation loss: 9.075\n",
      "1000 (20.00%) Train loss: 11.855 \t Validation loss: 9.077\n",
      "1010 (20.20%) Train loss: 11.855 \t Validation loss: 9.080\n",
      "1020 (20.40%) Train loss: 11.855 \t Validation loss: 9.077\n",
      "1030 (20.60%) Train loss: 11.855 \t Validation loss: 9.079\n",
      "1040 (20.80%) Train loss: 11.855 \t Validation loss: 9.076\n",
      "1050 (21.00%) Train loss: 11.855 \t Validation loss: 9.076\n",
      "1060 (21.20%) Train loss: 11.855 \t Validation loss: 9.073\n",
      "1070 (21.40%) Train loss: 11.855 \t Validation loss: 9.089\n",
      "1080 (21.60%) Train loss: 11.855 \t Validation loss: 9.087\n",
      "1090 (21.80%) Train loss: 11.855 \t Validation loss: 9.089\n",
      "1100 (22.00%) Train loss: 11.855 \t Validation loss: 9.087\n",
      "1110 (22.20%) Train loss: 11.855 \t Validation loss: 9.077\n",
      "1120 (22.40%) Train loss: 11.855 \t Validation loss: 9.080\n",
      "1130 (22.60%) Train loss: 11.855 \t Validation loss: 9.078\n",
      "1140 (22.80%) Train loss: 11.855 \t Validation loss: 9.080\n",
      "1150 (23.00%) Train loss: 11.855 \t Validation loss: 9.079\n",
      "1160 (23.20%) Train loss: 11.855 \t Validation loss: 9.075\n",
      "1170 (23.40%) Train loss: 11.855 \t Validation loss: 9.080\n",
      "1180 (23.60%) Train loss: 11.855 \t Validation loss: 9.077\n",
      "1190 (23.80%) Train loss: 11.855 \t Validation loss: 9.079\n",
      "1200 (24.00%) Train loss: 11.855 \t Validation loss: 9.076\n",
      "1210 (24.20%) Train loss: 11.855 \t Validation loss: 9.078\n",
      "1220 (24.40%) Train loss: 11.855 \t Validation loss: 9.080\n",
      "1230 (24.60%) Train loss: 11.855 \t Validation loss: 9.077\n",
      "1240 (24.80%) Train loss: 11.855 \t Validation loss: 9.079\n",
      "1250 (25.00%) Train loss: 11.855 \t Validation loss: 9.076\n",
      "1260 (25.20%) Train loss: 11.855 \t Validation loss: 9.076\n",
      "1270 (25.40%) Train loss: 11.855 \t Validation loss: 9.074\n",
      "1280 (25.60%) Train loss: 11.855 \t Validation loss: 9.091\n",
      "1290 (25.80%) Train loss: 11.855 \t Validation loss: 9.087\n",
      "1300 (26.00%) Train loss: 11.855 \t Validation loss: 9.085\n",
      "1310 (26.20%) Train loss: 11.855 \t Validation loss: 9.087\n",
      "1320 (26.40%) Train loss: 11.855 \t Validation loss: 9.077\n",
      "1330 (26.60%) Train loss: 11.855 \t Validation loss: 9.080\n",
      "1340 (26.80%) Train loss: 11.855 \t Validation loss: 9.078\n",
      "1350 (27.00%) Train loss: 11.855 \t Validation loss: 9.080\n",
      "1360 (27.20%) Train loss: 11.855 \t Validation loss: 9.079\n",
      "1370 (27.40%) Train loss: 11.855 \t Validation loss: 9.075\n",
      "1380 (27.60%) Train loss: 11.855 \t Validation loss: 9.077\n",
      "1390 (27.80%) Train loss: 11.855 \t Validation loss: 9.077\n",
      "1400 (28.00%) Train loss: 11.855 \t Validation loss: 9.079\n",
      "1410 (28.20%) Train loss: 11.855 \t Validation loss: 9.076\n"
     ]
    },
    {
     "name": "stdout",
     "output_type": "stream",
     "text": [
      "1420 (28.40%) Train loss: 11.855 \t Validation loss: 9.080\n",
      "1430 (28.60%) Train loss: 11.855 \t Validation loss: 9.080\n",
      "1440 (28.80%) Train loss: 11.855 \t Validation loss: 9.077\n",
      "1450 (29.00%) Train loss: 11.855 \t Validation loss: 9.079\n",
      "1460 (29.20%) Train loss: 11.855 \t Validation loss: 9.076\n",
      "1470 (29.40%) Train loss: 11.855 \t Validation loss: 9.076\n",
      "1480 (29.60%) Train loss: 11.855 \t Validation loss: 9.074\n",
      "1490 (29.80%) Train loss: 11.855 \t Validation loss: 9.089\n",
      "1500 (30.00%) Train loss: 11.855 \t Validation loss: 9.087\n",
      "1510 (30.20%) Train loss: 11.855 \t Validation loss: 9.085\n",
      "1520 (30.40%) Train loss: 11.855 \t Validation loss: 9.087\n",
      "1530 (30.60%) Train loss: 11.855 \t Validation loss: 9.077\n",
      "1540 (30.80%) Train loss: 11.855 \t Validation loss: 9.080\n",
      "1550 (31.00%) Train loss: 11.855 \t Validation loss: 9.077\n",
      "1560 (31.20%) Train loss: 11.855 \t Validation loss: 9.080\n",
      "1570 (31.40%) Train loss: 11.855 \t Validation loss: 9.078\n",
      "1580 (31.60%) Train loss: 11.855 \t Validation loss: 9.075\n",
      "1590 (31.80%) Train loss: 11.855 \t Validation loss: 9.079\n",
      "1600 (32.00%) Train loss: 11.855 \t Validation loss: 9.076\n",
      "1610 (32.20%) Train loss: 11.855 \t Validation loss: 9.079\n",
      "1620 (32.40%) Train loss: 11.855 \t Validation loss: 9.075\n",
      "1630 (32.60%) Train loss: 11.855 \t Validation loss: 9.084\n",
      "1640 (32.80%) Train loss: 11.855 \t Validation loss: 9.080\n",
      "1650 (33.00%) Train loss: 11.855 \t Validation loss: 9.077\n",
      "1660 (33.20%) Train loss: 11.855 \t Validation loss: 9.079\n",
      "1670 (33.40%) Train loss: 11.855 \t Validation loss: 9.076\n",
      "1680 (33.60%) Train loss: 11.855 \t Validation loss: 9.076\n",
      "1690 (33.80%) Train loss: 11.855 \t Validation loss: 9.074\n",
      "1700 (34.00%) Train loss: 11.855 \t Validation loss: 9.089\n",
      "1710 (34.20%) Train loss: 11.855 \t Validation loss: 9.087\n",
      "1720 (34.40%) Train loss: 11.855 \t Validation loss: 9.085\n",
      "1730 (34.60%) Train loss: 11.855 \t Validation loss: 9.087\n",
      "1740 (34.80%) Train loss: 11.855 \t Validation loss: 9.077\n",
      "1750 (35.00%) Train loss: 11.855 \t Validation loss: 9.080\n",
      "1760 (35.20%) Train loss: 11.855 \t Validation loss: 9.077\n",
      "1770 (35.40%) Train loss: 11.855 \t Validation loss: 9.080\n",
      "1780 (35.60%) Train loss: 11.855 \t Validation loss: 9.078\n",
      "1790 (35.80%) Train loss: 11.855 \t Validation loss: 9.075\n",
      "1800 (36.00%) Train loss: 11.855 \t Validation loss: 9.079\n",
      "1810 (36.20%) Train loss: 11.855 \t Validation loss: 9.076\n",
      "1820 (36.40%) Train loss: 11.855 \t Validation loss: 9.079\n",
      "1830 (36.60%) Train loss: 11.855 \t Validation loss: 9.076\n",
      "1840 (36.80%) Train loss: 11.855 \t Validation loss: 9.084\n",
      "1850 (37.00%) Train loss: 11.855 \t Validation loss: 9.080\n",
      "1860 (37.20%) Train loss: 11.855 \t Validation loss: 9.077\n",
      "1870 (37.40%) Train loss: 11.855 \t Validation loss: 9.079\n",
      "1880 (37.60%) Train loss: 11.855 \t Validation loss: 9.076\n",
      "1890 (37.80%) Train loss: 11.855 \t Validation loss: 9.076\n",
      "1900 (38.00%) Train loss: 11.855 \t Validation loss: 9.074\n",
      "1910 (38.20%) Train loss: 11.855 \t Validation loss: 9.089\n",
      "1920 (38.40%) Train loss: 11.855 \t Validation loss: 9.087\n",
      "1930 (38.60%) Train loss: 11.855 \t Validation loss: 9.085\n",
      "1940 (38.80%) Train loss: 11.855 \t Validation loss: 9.087\n",
      "1950 (39.00%) Train loss: 11.855 \t Validation loss: 9.077\n",
      "1960 (39.20%) Train loss: 11.855 \t Validation loss: 9.080\n",
      "1970 (39.40%) Train loss: 11.855 \t Validation loss: 9.077\n",
      "1980 (39.60%) Train loss: 11.855 \t Validation loss: 9.080\n",
      "1990 (39.80%) Train loss: 11.855 \t Validation loss: 9.078\n",
      "2000 (40.00%) Train loss: 11.855 \t Validation loss: 9.075\n",
      "2010 (40.20%) Train loss: 11.855 \t Validation loss: 9.079\n",
      "2020 (40.40%) Train loss: 11.855 \t Validation loss: 9.076\n",
      "2030 (40.60%) Train loss: 11.855 \t Validation loss: 9.079\n",
      "2040 (40.80%) Train loss: 11.855 \t Validation loss: 9.076\n",
      "2050 (41.00%) Train loss: 11.855 \t Validation loss: 9.084\n",
      "2060 (41.20%) Train loss: 11.855 \t Validation loss: 9.080\n",
      "2070 (41.40%) Train loss: 11.855 \t Validation loss: 9.077\n",
      "2080 (41.60%) Train loss: 11.855 \t Validation loss: 9.079\n",
      "2090 (41.80%) Train loss: 11.855 \t Validation loss: 9.076\n",
      "2100 (42.00%) Train loss: 11.855 \t Validation loss: 9.076\n",
      "2110 (42.20%) Train loss: 11.855 \t Validation loss: 9.074\n",
      "2120 (42.40%) Train loss: 11.855 \t Validation loss: 9.089\n",
      "2130 (42.60%) Train loss: 11.855 \t Validation loss: 9.087\n",
      "2140 (42.80%) Train loss: 11.855 \t Validation loss: 9.085\n",
      "2150 (43.00%) Train loss: 11.855 \t Validation loss: 9.087\n",
      "2160 (43.20%) Train loss: 11.855 \t Validation loss: 9.077\n",
      "2170 (43.40%) Train loss: 11.855 \t Validation loss: 9.080\n",
      "2180 (43.60%) Train loss: 11.855 \t Validation loss: 9.077\n",
      "2190 (43.80%) Train loss: 11.855 \t Validation loss: 9.080\n",
      "2200 (44.00%) Train loss: 11.855 \t Validation loss: 9.078\n",
      "2210 (44.20%) Train loss: 11.855 \t Validation loss: 9.075\n",
      "2220 (44.40%) Train loss: 11.855 \t Validation loss: 9.079\n",
      "2230 (44.60%) Train loss: 11.855 \t Validation loss: 9.076\n",
      "2240 (44.80%) Train loss: 11.855 \t Validation loss: 9.079\n",
      "2250 (45.00%) Train loss: 11.855 \t Validation loss: 9.076\n",
      "2260 (45.20%) Train loss: 11.855 \t Validation loss: 9.082\n",
      "2270 (45.40%) Train loss: 11.855 \t Validation loss: 9.080\n",
      "2280 (45.60%) Train loss: 11.855 \t Validation loss: 9.077\n",
      "2290 (45.80%) Train loss: 11.855 \t Validation loss: 9.079\n",
      "2300 (46.00%) Train loss: 11.855 \t Validation loss: 9.074\n",
      "2310 (46.20%) Train loss: 11.855 \t Validation loss: 9.076\n",
      "2320 (46.40%) Train loss: 11.855 \t Validation loss: 9.086\n",
      "2330 (46.60%) Train loss: 11.855 \t Validation loss: 9.089\n",
      "2340 (46.80%) Train loss: 11.855 \t Validation loss: 9.086\n",
      "2350 (47.00%) Train loss: 11.855 \t Validation loss: 9.084\n",
      "2360 (47.20%) Train loss: 11.855 \t Validation loss: 9.080\n",
      "2370 (47.40%) Train loss: 11.855 \t Validation loss: 9.077\n",
      "2380 (47.60%) Train loss: 11.855 \t Validation loss: 9.080\n",
      "2390 (47.80%) Train loss: 11.855 \t Validation loss: 9.077\n",
      "2400 (48.00%) Train loss: 11.855 \t Validation loss: 9.080\n",
      "2410 (48.20%) Train loss: 11.855 \t Validation loss: 9.076\n",
      "2420 (48.40%) Train loss: 11.855 \t Validation loss: 9.074\n",
      "2430 (48.60%) Train loss: 11.855 \t Validation loss: 9.079\n",
      "2440 (48.80%) Train loss: 11.855 \t Validation loss: 9.076\n",
      "2450 (49.00%) Train loss: 11.855 \t Validation loss: 9.078\n",
      "2460 (49.20%) Train loss: 11.855 \t Validation loss: 9.079\n",
      "2470 (49.40%) Train loss: 11.855 \t Validation loss: 9.080\n",
      "2480 (49.60%) Train loss: 11.855 \t Validation loss: 9.080\n",
      "2490 (49.80%) Train loss: 11.855 \t Validation loss: 9.081\n",
      "2500 (50.00%) Train loss: 11.855 \t Validation loss: 9.077\n",
      "2510 (50.20%) Train loss: 11.855 \t Validation loss: 9.073\n",
      "2520 (50.40%) Train loss: 11.855 \t Validation loss: 9.076\n",
      "2530 (50.60%) Train loss: 11.855 \t Validation loss: 9.086\n",
      "2540 (50.80%) Train loss: 11.855 \t Validation loss: 9.088\n",
      "2550 (51.00%) Train loss: 11.855 \t Validation loss: 9.086\n",
      "2560 (51.20%) Train loss: 11.855 \t Validation loss: 9.089\n",
      "2570 (51.40%) Train loss: 11.855 \t Validation loss: 9.080\n",
      "2580 (51.60%) Train loss: 11.855 \t Validation loss: 9.077\n",
      "2590 (51.80%) Train loss: 11.855 \t Validation loss: 9.080\n",
      "2600 (52.00%) Train loss: 11.855 \t Validation loss: 9.077\n",
      "2610 (52.20%) Train loss: 11.855 \t Validation loss: 9.078\n",
      "2620 (52.40%) Train loss: 11.855 \t Validation loss: 9.075\n",
      "2630 (52.60%) Train loss: 11.855 \t Validation loss: 9.076\n",
      "2640 (52.80%) Train loss: 11.855 \t Validation loss: 9.079\n",
      "2650 (53.00%) Train loss: 11.855 \t Validation loss: 9.075\n",
      "2660 (53.20%) Train loss: 11.855 \t Validation loss: 9.082\n",
      "2670 (53.40%) Train loss: 11.855 \t Validation loss: 9.079\n",
      "2680 (53.60%) Train loss: 11.855 \t Validation loss: 9.080\n",
      "2690 (53.80%) Train loss: 11.855 \t Validation loss: 9.079\n",
      "2700 (54.00%) Train loss: 11.855 \t Validation loss: 9.081\n",
      "2710 (54.20%) Train loss: 11.855 \t Validation loss: 9.076\n",
      "2720 (54.40%) Train loss: 11.855 \t Validation loss: 9.073\n",
      "2730 (54.60%) Train loss: 11.855 \t Validation loss: 9.076\n",
      "2740 (54.80%) Train loss: 11.855 \t Validation loss: 9.086\n",
      "2750 (55.00%) Train loss: 11.855 \t Validation loss: 9.088\n",
      "2760 (55.20%) Train loss: 11.855 \t Validation loss: 9.086\n",
      "2770 (55.40%) Train loss: 11.855 \t Validation loss: 9.084\n",
      "2780 (55.60%) Train loss: 11.855 \t Validation loss: 9.080\n",
      "2790 (55.80%) Train loss: 11.855 \t Validation loss: 9.077\n",
      "2800 (56.00%) Train loss: 11.855 \t Validation loss: 9.080\n",
      "2810 (56.20%) Train loss: 11.855 \t Validation loss: 9.077\n",
      "2820 (56.40%) Train loss: 11.855 \t Validation loss: 9.078\n",
      "2830 (56.60%) Train loss: 11.855 \t Validation loss: 9.077\n"
     ]
    },
    {
     "name": "stdout",
     "output_type": "stream",
     "text": [
      "2840 (56.80%) Train loss: 11.855 \t Validation loss: 9.074\n",
      "2850 (57.00%) Train loss: 11.855 \t Validation loss: 9.079\n",
      "2860 (57.20%) Train loss: 11.855 \t Validation loss: 9.076\n",
      "2870 (57.40%) Train loss: 11.855 \t Validation loss: 9.078\n",
      "2880 (57.60%) Train loss: 11.855 \t Validation loss: 9.079\n",
      "2890 (57.80%) Train loss: 11.855 \t Validation loss: 9.081\n",
      "2900 (58.00%) Train loss: 11.855 \t Validation loss: 9.080\n",
      "2910 (58.20%) Train loss: 11.855 \t Validation loss: 9.081\n",
      "2920 (58.40%) Train loss: 11.855 \t Validation loss: 9.077\n",
      "2930 (58.60%) Train loss: 11.855 \t Validation loss: 9.073\n",
      "2940 (58.80%) Train loss: 11.855 \t Validation loss: 9.076\n",
      "2950 (59.00%) Train loss: 11.855 \t Validation loss: 9.086\n",
      "2960 (59.20%) Train loss: 11.855 \t Validation loss: 9.088\n",
      "2970 (59.40%) Train loss: 11.855 \t Validation loss: 9.086\n",
      "2980 (59.60%) Train loss: 11.855 \t Validation loss: 9.084\n",
      "2990 (59.80%) Train loss: 11.855 \t Validation loss: 9.080\n",
      "3000 (60.00%) Train loss: 11.855 \t Validation loss: 9.077\n",
      "3010 (60.20%) Train loss: 11.855 \t Validation loss: 9.080\n",
      "3020 (60.40%) Train loss: 11.855 \t Validation loss: 9.077\n",
      "3030 (60.60%) Train loss: 11.855 \t Validation loss: 9.078\n",
      "3040 (60.80%) Train loss: 11.855 \t Validation loss: 9.077\n",
      "3050 (61.00%) Train loss: 11.855 \t Validation loss: 9.074\n",
      "3060 (61.20%) Train loss: 11.855 \t Validation loss: 9.079\n",
      "3070 (61.40%) Train loss: 11.855 \t Validation loss: 9.076\n",
      "3080 (61.60%) Train loss: 11.855 \t Validation loss: 9.078\n",
      "3090 (61.80%) Train loss: 11.855 \t Validation loss: 9.079\n",
      "3100 (62.00%) Train loss: 11.855 \t Validation loss: 9.081\n",
      "3110 (62.20%) Train loss: 11.855 \t Validation loss: 9.080\n",
      "3120 (62.40%) Train loss: 11.855 \t Validation loss: 9.076\n",
      "3130 (62.60%) Train loss: 11.855 \t Validation loss: 9.077\n",
      "3140 (62.80%) Train loss: 11.855 \t Validation loss: 9.073\n",
      "3150 (63.00%) Train loss: 11.855 \t Validation loss: 9.076\n",
      "3160 (63.20%) Train loss: 11.855 \t Validation loss: 9.087\n",
      "3170 (63.40%) Train loss: 11.855 \t Validation loss: 9.088\n",
      "3180 (63.60%) Train loss: 11.855 \t Validation loss: 9.086\n",
      "3190 (63.80%) Train loss: 11.855 \t Validation loss: 9.085\n",
      "3200 (64.00%) Train loss: 11.855 \t Validation loss: 9.080\n",
      "3210 (64.20%) Train loss: 11.855 \t Validation loss: 9.077\n",
      "3220 (64.40%) Train loss: 11.855 \t Validation loss: 9.080\n",
      "3230 (64.60%) Train loss: 11.855 \t Validation loss: 9.077\n",
      "3240 (64.80%) Train loss: 11.855 \t Validation loss: 9.079\n",
      "3250 (65.00%) Train loss: 11.855 \t Validation loss: 9.077\n",
      "3260 (65.20%) Train loss: 11.855 \t Validation loss: 9.074\n",
      "3270 (65.40%) Train loss: 11.855 \t Validation loss: 9.079\n",
      "3280 (65.60%) Train loss: 11.855 \t Validation loss: 9.076\n",
      "3290 (65.80%) Train loss: 11.855 \t Validation loss: 9.082\n",
      "3300 (66.00%) Train loss: 11.855 \t Validation loss: 9.079\n",
      "3310 (66.20%) Train loss: 11.855 \t Validation loss: 9.081\n",
      "3320 (66.40%) Train loss: 11.855 \t Validation loss: 9.080\n",
      "3330 (66.60%) Train loss: 11.855 \t Validation loss: 9.076\n",
      "3340 (66.80%) Train loss: 11.855 \t Validation loss: 9.076\n",
      "3350 (67.00%) Train loss: 11.855 \t Validation loss: 9.073\n",
      "3360 (67.20%) Train loss: 11.855 \t Validation loss: 9.076\n",
      "3370 (67.40%) Train loss: 11.855 \t Validation loss: 9.087\n",
      "3380 (67.60%) Train loss: 11.855 \t Validation loss: 9.088\n",
      "3390 (67.80%) Train loss: 11.855 \t Validation loss: 9.087\n",
      "3400 (68.00%) Train loss: 11.855 \t Validation loss: 9.085\n",
      "3410 (68.20%) Train loss: 11.855 \t Validation loss: 9.080\n",
      "3420 (68.40%) Train loss: 11.855 \t Validation loss: 9.077\n",
      "3430 (68.60%) Train loss: 11.855 \t Validation loss: 9.080\n",
      "3440 (68.80%) Train loss: 11.855 \t Validation loss: 9.077\n",
      "3450 (69.00%) Train loss: 11.855 \t Validation loss: 9.079\n",
      "3460 (69.20%) Train loss: 11.855 \t Validation loss: 9.077\n",
      "3470 (69.40%) Train loss: 11.855 \t Validation loss: 9.077\n",
      "3480 (69.60%) Train loss: 11.855 \t Validation loss: 9.079\n",
      "3490 (69.80%) Train loss: 11.855 \t Validation loss: 9.076\n",
      "3500 (70.00%) Train loss: 11.855 \t Validation loss: 9.082\n",
      "3510 (70.20%) Train loss: 11.855 \t Validation loss: 9.079\n",
      "3520 (70.40%) Train loss: 11.855 \t Validation loss: 9.082\n",
      "3530 (70.60%) Train loss: 11.855 \t Validation loss: 9.080\n",
      "3540 (70.80%) Train loss: 11.855 \t Validation loss: 9.074\n",
      "3550 (71.00%) Train loss: 11.855 \t Validation loss: 9.076\n",
      "3560 (71.20%) Train loss: 11.855 \t Validation loss: 9.073\n",
      "3570 (71.40%) Train loss: 11.855 \t Validation loss: 9.076\n",
      "3580 (71.60%) Train loss: 11.855 \t Validation loss: 9.087\n",
      "3590 (71.80%) Train loss: 11.855 \t Validation loss: 9.088\n",
      "3600 (72.00%) Train loss: 11.855 \t Validation loss: 9.088\n",
      "3610 (72.20%) Train loss: 11.855 \t Validation loss: 9.085\n",
      "3620 (72.40%) Train loss: 11.855 \t Validation loss: 9.080\n",
      "3630 (72.60%) Train loss: 11.855 \t Validation loss: 9.077\n",
      "3640 (72.80%) Train loss: 11.855 \t Validation loss: 9.080\n",
      "3650 (73.00%) Train loss: 11.855 \t Validation loss: 9.077\n",
      "3660 (73.20%) Train loss: 11.855 \t Validation loss: 9.079\n",
      "3670 (73.40%) Train loss: 11.855 \t Validation loss: 9.077\n",
      "3680 (73.60%) Train loss: 11.855 \t Validation loss: 9.077\n",
      "3690 (73.80%) Train loss: 11.855 \t Validation loss: 9.079\n",
      "3700 (74.00%) Train loss: 11.855 \t Validation loss: 9.076\n",
      "3710 (74.20%) Train loss: 11.855 \t Validation loss: 9.082\n",
      "3720 (74.40%) Train loss: 11.855 \t Validation loss: 9.079\n",
      "3730 (74.60%) Train loss: 11.855 \t Validation loss: 9.082\n",
      "3740 (74.80%) Train loss: 11.855 \t Validation loss: 9.080\n",
      "3750 (75.00%) Train loss: 11.855 \t Validation loss: 9.074\n",
      "3760 (75.20%) Train loss: 11.855 \t Validation loss: 9.076\n",
      "3770 (75.40%) Train loss: 11.855 \t Validation loss: 9.073\n",
      "3780 (75.60%) Train loss: 11.855 \t Validation loss: 9.076\n",
      "3790 (75.80%) Train loss: 11.855 \t Validation loss: 9.087\n",
      "3800 (76.00%) Train loss: 11.855 \t Validation loss: 9.088\n",
      "3810 (76.20%) Train loss: 11.855 \t Validation loss: 9.088\n",
      "3820 (76.40%) Train loss: 11.855 \t Validation loss: 9.085\n",
      "3830 (76.60%) Train loss: 11.855 \t Validation loss: 9.080\n",
      "3840 (76.80%) Train loss: 11.855 \t Validation loss: 9.077\n",
      "3850 (77.00%) Train loss: 11.855 \t Validation loss: 9.080\n",
      "3860 (77.20%) Train loss: 11.855 \t Validation loss: 9.077\n",
      "3870 (77.40%) Train loss: 11.855 \t Validation loss: 9.079\n",
      "3880 (77.60%) Train loss: 11.855 \t Validation loss: 9.077\n",
      "3890 (77.80%) Train loss: 11.855 \t Validation loss: 9.077\n",
      "3900 (78.00%) Train loss: 11.855 \t Validation loss: 9.079\n",
      "3910 (78.20%) Train loss: 11.855 \t Validation loss: 9.076\n",
      "3920 (78.40%) Train loss: 11.855 \t Validation loss: 9.082\n",
      "3930 (78.60%) Train loss: 11.855 \t Validation loss: 9.080\n",
      "3940 (78.80%) Train loss: 11.855 \t Validation loss: 9.082\n",
      "3950 (79.00%) Train loss: 11.855 \t Validation loss: 9.080\n",
      "3960 (79.20%) Train loss: 11.855 \t Validation loss: 9.074\n",
      "3970 (79.40%) Train loss: 11.855 \t Validation loss: 9.076\n",
      "3980 (79.60%) Train loss: 11.855 \t Validation loss: 9.073\n",
      "3990 (79.80%) Train loss: 11.855 \t Validation loss: 9.076\n",
      "4000 (80.00%) Train loss: 11.855 \t Validation loss: 9.087\n",
      "4010 (80.20%) Train loss: 11.855 \t Validation loss: 9.088\n",
      "4020 (80.40%) Train loss: 11.855 \t Validation loss: 9.088\n",
      "4030 (80.60%) Train loss: 11.855 \t Validation loss: 9.085\n",
      "4040 (80.80%) Train loss: 11.855 \t Validation loss: 9.080\n",
      "4050 (81.00%) Train loss: 11.855 \t Validation loss: 9.077\n",
      "4060 (81.20%) Train loss: 11.855 \t Validation loss: 9.080\n",
      "4070 (81.40%) Train loss: 11.855 \t Validation loss: 9.077\n",
      "4080 (81.60%) Train loss: 11.855 \t Validation loss: 9.074\n",
      "4090 (81.80%) Train loss: 11.855 \t Validation loss: 9.077\n",
      "4100 (82.00%) Train loss: 11.855 \t Validation loss: 9.076\n",
      "4110 (82.20%) Train loss: 11.855 \t Validation loss: 9.079\n",
      "4120 (82.40%) Train loss: 11.855 \t Validation loss: 9.076\n",
      "4130 (82.60%) Train loss: 11.855 \t Validation loss: 9.082\n",
      "4140 (82.80%) Train loss: 11.855 \t Validation loss: 9.080\n",
      "4150 (83.00%) Train loss: 11.855 \t Validation loss: 9.082\n",
      "4160 (83.20%) Train loss: 11.855 \t Validation loss: 9.080\n",
      "4170 (83.40%) Train loss: 11.855 \t Validation loss: 9.074\n",
      "4180 (83.60%) Train loss: 11.855 \t Validation loss: 9.077\n",
      "4190 (83.80%) Train loss: 11.855 \t Validation loss: 9.073\n",
      "4200 (84.00%) Train loss: 11.855 \t Validation loss: 9.076\n",
      "4210 (84.20%) Train loss: 11.855 \t Validation loss: 9.087\n",
      "4220 (84.40%) Train loss: 11.855 \t Validation loss: 9.090\n",
      "4230 (84.60%) Train loss: 11.855 \t Validation loss: 9.088\n",
      "4240 (84.80%) Train loss: 11.855 \t Validation loss: 9.085\n",
      "4250 (85.00%) Train loss: 11.855 \t Validation loss: 9.080\n"
     ]
    },
    {
     "name": "stdout",
     "output_type": "stream",
     "text": [
      "4260 (85.20%) Train loss: 11.855 \t Validation loss: 9.077\n",
      "4270 (85.40%) Train loss: 11.855 \t Validation loss: 9.080\n",
      "4280 (85.60%) Train loss: 11.855 \t Validation loss: 9.077\n",
      "4290 (85.80%) Train loss: 11.855 \t Validation loss: 9.075\n",
      "4300 (86.00%) Train loss: 11.855 \t Validation loss: 9.077\n",
      "4310 (86.20%) Train loss: 11.855 \t Validation loss: 9.076\n",
      "4320 (86.40%) Train loss: 11.855 \t Validation loss: 9.079\n",
      "4330 (86.60%) Train loss: 11.855 \t Validation loss: 9.076\n",
      "4340 (86.80%) Train loss: 11.855 \t Validation loss: 9.082\n",
      "4350 (87.00%) Train loss: 11.855 \t Validation loss: 9.080\n",
      "4360 (87.20%) Train loss: 11.855 \t Validation loss: 9.082\n",
      "4370 (87.40%) Train loss: 11.855 \t Validation loss: 9.080\n",
      "4380 (87.60%) Train loss: 11.855 \t Validation loss: 9.074\n",
      "4390 (87.80%) Train loss: 11.855 \t Validation loss: 9.077\n",
      "4400 (88.00%) Train loss: 11.855 \t Validation loss: 9.073\n",
      "4410 (88.20%) Train loss: 11.855 \t Validation loss: 9.076\n",
      "4420 (88.40%) Train loss: 11.855 \t Validation loss: 9.086\n",
      "4430 (88.60%) Train loss: 11.855 \t Validation loss: 9.090\n",
      "4440 (88.80%) Train loss: 11.855 \t Validation loss: 9.088\n",
      "4450 (89.00%) Train loss: 11.855 \t Validation loss: 9.085\n",
      "4460 (89.20%) Train loss: 11.855 \t Validation loss: 9.080\n",
      "4470 (89.40%) Train loss: 11.855 \t Validation loss: 9.077\n",
      "4480 (89.60%) Train loss: 11.855 \t Validation loss: 9.080\n",
      "4490 (89.80%) Train loss: 11.855 \t Validation loss: 9.077\n",
      "4500 (90.00%) Train loss: 11.855 \t Validation loss: 9.075\n",
      "4510 (90.20%) Train loss: 11.855 \t Validation loss: 9.077\n",
      "4520 (90.40%) Train loss: 11.855 \t Validation loss: 9.076\n",
      "4530 (90.60%) Train loss: 11.855 \t Validation loss: 9.079\n",
      "4540 (90.80%) Train loss: 11.855 \t Validation loss: 9.076\n",
      "4550 (91.00%) Train loss: 11.855 \t Validation loss: 9.082\n",
      "4560 (91.20%) Train loss: 11.855 \t Validation loss: 9.080\n",
      "4570 (91.40%) Train loss: 11.855 \t Validation loss: 9.082\n",
      "4580 (91.60%) Train loss: 11.855 \t Validation loss: 9.080\n",
      "4590 (91.80%) Train loss: 11.855 \t Validation loss: 9.074\n",
      "4600 (92.00%) Train loss: 11.855 \t Validation loss: 9.077\n",
      "4610 (92.20%) Train loss: 11.855 \t Validation loss: 9.073\n",
      "4620 (92.40%) Train loss: 11.855 \t Validation loss: 9.076\n",
      "4630 (92.60%) Train loss: 11.855 \t Validation loss: 9.086\n",
      "4640 (92.80%) Train loss: 11.855 \t Validation loss: 9.090\n",
      "4650 (93.00%) Train loss: 11.855 \t Validation loss: 9.088\n",
      "4660 (93.20%) Train loss: 11.855 \t Validation loss: 9.085\n",
      "4670 (93.40%) Train loss: 11.855 \t Validation loss: 9.080\n",
      "4680 (93.60%) Train loss: 11.855 \t Validation loss: 9.077\n",
      "4690 (93.80%) Train loss: 11.855 \t Validation loss: 9.080\n",
      "4700 (94.00%) Train loss: 11.855 \t Validation loss: 9.077\n",
      "4710 (94.20%) Train loss: 11.855 \t Validation loss: 9.075\n",
      "4720 (94.40%) Train loss: 11.855 \t Validation loss: 9.077\n",
      "4730 (94.60%) Train loss: 11.855 \t Validation loss: 9.076\n",
      "4740 (94.80%) Train loss: 11.855 \t Validation loss: 9.079\n",
      "4750 (95.00%) Train loss: 11.855 \t Validation loss: 9.076\n",
      "4760 (95.20%) Train loss: 11.855 \t Validation loss: 9.082\n",
      "4770 (95.40%) Train loss: 11.855 \t Validation loss: 9.081\n",
      "4780 (95.60%) Train loss: 11.855 \t Validation loss: 9.082\n",
      "4790 (95.80%) Train loss: 11.855 \t Validation loss: 9.080\n",
      "4800 (96.00%) Train loss: 11.855 \t Validation loss: 9.074\n",
      "4810 (96.20%) Train loss: 11.855 \t Validation loss: 9.077\n",
      "4820 (96.40%) Train loss: 11.855 \t Validation loss: 9.073\n",
      "4830 (96.60%) Train loss: 11.855 \t Validation loss: 9.078\n",
      "4840 (96.80%) Train loss: 11.855 \t Validation loss: 9.086\n",
      "4850 (97.00%) Train loss: 11.855 \t Validation loss: 9.085\n",
      "4860 (97.20%) Train loss: 11.855 \t Validation loss: 9.088\n",
      "4870 (97.40%) Train loss: 11.855 \t Validation loss: 9.085\n",
      "4880 (97.60%) Train loss: 11.855 \t Validation loss: 9.080\n",
      "4890 (97.80%) Train loss: 11.855 \t Validation loss: 9.077\n",
      "4900 (98.00%) Train loss: 11.855 \t Validation loss: 9.080\n",
      "4910 (98.20%) Train loss: 11.855 \t Validation loss: 9.077\n",
      "4920 (98.40%) Train loss: 11.855 \t Validation loss: 9.075\n",
      "4930 (98.60%) Train loss: 11.855 \t Validation loss: 9.077\n",
      "4940 (98.80%) Train loss: 11.855 \t Validation loss: 9.076\n",
      "4950 (99.00%) Train loss: 11.855 \t Validation loss: 9.079\n",
      "4960 (99.20%) Train loss: 11.855 \t Validation loss: 9.076\n",
      "4970 (99.40%) Train loss: 11.855 \t Validation loss: 9.082\n",
      "4980 (99.60%) Train loss: 11.855 \t Validation loss: 9.081\n",
      "4990 (99.80%) Train loss: 11.855 \t Validation loss: 9.077\n"
     ]
    }
   ],
   "source": [
    "train_loss = []\n",
    "val_loss = []\n",
    "\n",
    "for e in range(EPOCHS):\n",
    "     \n",
    "    # Forward pass and loss computation\n",
    "    Loss = squared_loss(y_train, forward(x_train, NN))\n",
    "\n",
    "    # Backward pass\n",
    "    Loss.backward()\n",
    "    \n",
    "    # gradient descent update\n",
    "    update_parameters(parameters(NN), LEARN_R)\n",
    "    zero_gradients(parameters(NN))\n",
    "    \n",
    "    # Training loss\n",
    "    train_loss.append(Loss.v)\n",
    "    \n",
    "    # Validation\n",
    "    Loss_validation = squared_loss(y_validation, forward(x_validation, NN))\n",
    "    val_loss.append(Loss_validation.v)\n",
    "    \n",
    "    if e%10==0: # note: % means modulus\n",
    "        print(\"{:4d}\".format(e),\n",
    "              \"({:5.2f}%)\".format(e/EPOCHS*100), \n",
    "              \"Train loss: {:4.3f} \\t Validation loss: {:4.3f}\".format(train_loss[-1], val_loss[-1]))\n",
    "        \n"
   ]
  },
  {
   "cell_type": "code",
   "execution_count": 41,
   "metadata": {
    "colab": {
     "base_uri": "https://localhost:8080/",
     "height": 265
    },
    "id": "VetyRWFwFtIY",
    "outputId": "344e490d-6d7d-455a-fa6f-88dd11eb957e"
   },
   "outputs": [
    {
     "data": {
      "text/plain": [
       "<matplotlib.legend.Legend at 0x7fe45837a410>"
      ]
     },
     "execution_count": 41,
     "metadata": {},
     "output_type": "execute_result"
    },
    {
     "data": {
      "image/png": "[encoded data removed]",
      "text/plain": [
       "<Figure size 432x288 with 1 Axes>"
      ]
     },
     "metadata": {
      "needs_background": "light"
     },
     "output_type": "display_data"
    }
   ],
   "source": [
    "plt.plot(range(len(train_loss)), train_loss, label='train');\n",
    "plt.plot(range(len(val_loss)), val_loss, label='validation');\n",
    "plt.legend()"
   ]
  },
  {
   "cell_type": "markdown",
   "metadata": {
    "id": "8OgmIrM9FtIb"
   },
   "source": [
    "# Testing\n",
    "\n",
    "We have kept the calculation of the test error separate in order to emphasize that you should not use the test set in optimization."
   ]
  },
  {
   "cell_type": "code",
   "execution_count": 42,
   "metadata": {
    "id": "HmNi7S-vFtIc"
   },
   "outputs": [],
   "source": [
    "output_test = forward(x_test, NN)"
   ]
  },
  {
   "cell_type": "code",
   "execution_count": 43,
   "metadata": {
    "colab": {
     "base_uri": "https://localhost:8080/",
     "height": 316
    },
    "id": "7mmJOTSEFtIf",
    "outputId": "e3264095-cefe-4aee-893d-bf152438e332"
   },
   "outputs": [
    {
     "name": "stdout",
     "output_type": "stream",
     "text": [
      "Test loss:  9.801\n"
     ]
    },
    {
     "data": {
      "image/png": "[encoded data removed]",
      "text/plain": [
       "<Figure size 432x288 with 1 Axes>"
      ]
     },
     "metadata": {
      "needs_background": "light"
     },
     "output_type": "display_data"
    }
   ],
   "source": [
    "y_test_np = Var_to_nparray(y_test)\n",
    "plt.scatter(y_test_np, Var_to_nparray(output_test));\n",
    "plt.plot([np.min(y_test_np), np.max(y_test_np)], [np.min(y_test_np), np.max(y_test_np)], color='k');\n",
    "plt.xlabel(\"y\");\n",
    "plt.ylabel(\"$\\hat{y}$\");\n",
    "plt.title(\"Model prediction vs real in the test set, the close to the line the better\")\n",
    "plt.grid(True);\n",
    "plt.axis('equal');\n",
    "plt.tight_layout();\n",
    "\n",
    "Loss_test = squared_loss(y_test, forward(x_test, NN))\n",
    "\n",
    "print(\"Test loss:  {:4.3f}\".format(Loss_test.v))"
   ]
  },
  {
   "cell_type": "code",
   "execution_count": 44,
   "metadata": {
    "colab": {
     "base_uri": "https://localhost:8080/",
     "height": 279
    },
    "id": "ODi0WlmQFtIh",
    "outputId": "d1ab874f-0717-4987-87bf-1f0c7c8e7148"
   },
   "outputs": [
    {
     "data": {
      "image/png": "[encoded data removed]",
      "text/plain": [
       "<Figure size 432x288 with 1 Axes>"
      ]
     },
     "metadata": {
      "needs_background": "light"
     },
     "output_type": "display_data"
    }
   ],
   "source": [
    "x_test_np = Var_to_nparray(x_test)\n",
    "x_train_np = Var_to_nparray(x_train)\n",
    "y_train_np = Var_to_nparray(y_train)\n",
    "if D1:\n",
    "    plt.scatter(x_train_np, y_train_np, label=\"train data\");\n",
    "    plt.scatter(x_test_np, Var_to_nparray(output_test), label=\"test prediction\");\n",
    "    plt.scatter(x_test_np, y_test_np, label=\"test data\");\n",
    "    plt.legend();\n",
    "    plt.xlabel(\"x\");\n",
    "    plt.ylabel(\"y\");\n",
    "else:\n",
    "    plt.scatter(x_train_np[:,1], y_train, label=\"train data\");\n",
    "    plt.scatter(x_test_np[:,1], Var_to_nparray(output_test), label=\"test data prediction\");\n",
    "    plt.scatter(x_test_np[:,1], y_test_np, label=\"test data\");\n",
    "    plt.legend();\n",
    "    plt.xlabel(\"x\");\n",
    "    plt.ylabel(\"y\");"
   ]
  },
  {
   "cell_type": "markdown",
   "metadata": {
    "id": "zTBAmjsAFtIk"
   },
   "source": [
    "## Exercise k) Show overfitting, underfitting and just right fitting\n",
    "\n",
    "Vary the architecture and other things to show clear signs of overfitting (=training loss significantly lower than test loss) and underfitting (=not fitting enough to training data so that test performance is also hurt).\n",
    "\n",
    "See also if you can get a good compromise which leads to a low validation loss. \n",
    "\n",
    "For this problem do you see any big difference between validation and test loss? The answer here will probably be no. Discuss cases where it is important to keep the two separate.\n",
    "\n",
    "#### Answer:\n",
    "No, I do not see any big difference between the validation and test loss. However, it is very important to keep the validation and test dataset separate. The validation dataset is used to tune hyperparameters and thereby improve model. First when the model is completely \"done\" (all decisions about hyperparameters have been chosen), we should then test the model to evaluate its performance on the UNSEEN data. If we chose to change model hyperparameters after seing the performance on the test data, we would not have any idea of how the model actually performs on other data.\n",
    "\n",
    "In other words: Validation set is used for minimizing the overfitting. It is a part of training dataset which finds out the fine tuned parameters for our algorithm. Test dataset is used to evaluate the performance of the algorithm. This has to be carried out after training.\n",
    "\n",
    "#### Reasons for underfitting and overfitting:\n",
    "Both underfitting and overfitting can be due to that the training data has not be cleaned (contains noise) or if we only have small amount of training data.\n",
    "\n",
    "Reasons for underfitting: the model has high bias or is too simple. This model is unable to find the underlying pattern of the data and will tend to favor a specific output.\n",
    "\n",
    "Reasons for overfitting: the model has high variance (meaning that the model predicitions vary alot) or is too complex. Unbalanced dataset (class imbalance). \n",
    "\n",
    "A good fit is the curve that fit the data the best (neither under- nor overfitting)"
   ]
  },
  {
   "cell_type": "markdown",
   "metadata": {},
   "source": [
    "### Just right fitting\n",
    "See example above"
   ]
  },
  {
   "cell_type": "markdown",
   "metadata": {},
   "source": [
    "### Underfitting\n",
    "\n",
    "Trying to make the model underfit the data by only running few epochs (5)"
   ]
  },
  {
   "cell_type": "code",
   "execution_count": 99,
   "metadata": {
    "id": "tQZCn2dxFtIl"
   },
   "outputs": [
    {
     "name": "stdout",
     "output_type": "stream",
     "text": [
      "   0 ( 0.00%) Train loss: 105.034 \t Validation loss: 142.561\n",
      "Test loss:  72.610\n"
     ]
    },
    {
     "data": {
      "image/png": "[encoded data removed]",
      "text/plain": [
       "<Figure size 432x288 with 1 Axes>"
      ]
     },
     "metadata": {
      "needs_background": "light"
     },
     "output_type": "display_data"
    }
   ],
   "source": [
    "# Data generator\n",
    "D1 = True\n",
    "n_samples = 300;\n",
    "x_train, y_train,  x_validation, y_validation, x_test, y_test = data_generator(noise=0.5, n_samples=n_samples, D1=D1)\n",
    "\n",
    "x_train = nparray_to_Var(x_train)\n",
    "y_train = nparray_to_Var(y_train)\n",
    "x_validation = nparray_to_Var(x_validation)\n",
    "y_validation = nparray_to_Var(y_validation)\n",
    "x_test = nparray_to_Var(x_test)\n",
    "y_test = nparray_to_Var(y_test)\n",
    "\n",
    "# Initialize an arbitrary neural network\n",
    "NN = [\n",
    "    DenseLayer(1, 8, lambda x: x.relu()),\n",
    "    DenseLayer(8, 1, lambda x: x.identity())\n",
    "]\n",
    "\n",
    "# Initialize training hyperparameters\n",
    "EPOCHS = 5\n",
    "LEARN_R = 2e-3 \n",
    "\n",
    "### TRAININNG ###\n",
    "train_loss = []\n",
    "val_loss = []\n",
    "\n",
    "for e in range(EPOCHS):\n",
    "     \n",
    "    # Forward pass and loss computation\n",
    "    Loss = squared_loss(y_train, forward(x_train, NN))\n",
    "\n",
    "    # Backward pass\n",
    "    Loss.backward()\n",
    "    \n",
    "    # gradient descent update\n",
    "    update_parameters(parameters(NN), LEARN_R)\n",
    "    zero_gradients(parameters(NN))\n",
    "    \n",
    "    # Training loss\n",
    "    train_loss.append(Loss.v)\n",
    "    \n",
    "    # Validation\n",
    "    Loss_validation = squared_loss(y_validation, forward(x_validation, NN))\n",
    "    val_loss.append(Loss_validation.v)\n",
    "    \n",
    "    if e%10==0: # note: % means modulus\n",
    "        print(\"{:4d}\".format(e),\n",
    "              \"({:5.2f}%)\".format(e/EPOCHS*100), \n",
    "              \"Train loss: {:4.3f} \\t Validation loss: {:4.3f}\".format(train_loss[-1], val_loss[-1]))\n",
    "        \n",
    "### TESTING ###\n",
    "output_test = forward(x_test, NN)\n",
    "\n",
    "y_test_np = Var_to_nparray(y_test)\n",
    "plt.scatter(y_test_np, Var_to_nparray(output_test));\n",
    "plt.plot([np.min(y_test_np), np.max(y_test_np)], [np.min(y_test_np), np.max(y_test_np)], color='k');\n",
    "plt.xlabel(\"y\");\n",
    "plt.ylabel(\"$\\hat{y}$\");\n",
    "plt.title(\"Model prediction vs real in the test set, the close to the line the better\")\n",
    "plt.grid(True);\n",
    "plt.axis('equal');\n",
    "plt.tight_layout();\n",
    "\n",
    "Loss_test = squared_loss(y_test, forward(x_test, NN))\n",
    "\n",
    "print(\"Test loss:  {:4.3f}\".format(Loss_test.v))"
   ]
  },
  {
   "cell_type": "markdown",
   "metadata": {},
   "source": [
    "### Overfitting\n",
    "Trying to make the model overfit the data on purpose using small traning data (only 10 samples), many epochs and more complex model (extra hidden layer and more neurons)."
   ]
  },
  {
   "cell_type": "code",
   "execution_count": 108,
   "metadata": {},
   "outputs": [
    {
     "name": "stdout",
     "output_type": "stream",
     "text": [
      "   0 ( 0.00%) Train loss: 2.997 \t Validation loss: 31.157\n",
      "  10 ( 2.00%) Train loss: 2.995 \t Validation loss: 31.143\n",
      "  20 ( 4.00%) Train loss: 2.994 \t Validation loss: 31.134\n",
      "  30 ( 6.00%) Train loss: 2.992 \t Validation loss: 31.123\n",
      "  40 ( 8.00%) Train loss: 2.990 \t Validation loss: 31.112\n",
      "  50 (10.00%) Train loss: 2.989 \t Validation loss: 31.100\n",
      "  60 (12.00%) Train loss: 2.987 \t Validation loss: 31.088\n",
      "  70 (14.00%) Train loss: 2.985 \t Validation loss: 31.073\n",
      "  80 (16.00%) Train loss: 2.983 \t Validation loss: 31.058\n",
      "  90 (18.00%) Train loss: 2.980 \t Validation loss: 31.044\n",
      " 100 (20.00%) Train loss: 2.978 \t Validation loss: 31.028\n",
      " 110 (22.00%) Train loss: 2.975 \t Validation loss: 31.011\n",
      " 120 (24.00%) Train loss: 2.972 \t Validation loss: 30.992\n",
      " 130 (26.00%) Train loss: 2.968 \t Validation loss: 30.971\n",
      " 140 (28.00%) Train loss: 2.965 \t Validation loss: 30.953\n",
      " 150 (30.00%) Train loss: 2.962 \t Validation loss: 30.937\n",
      " 160 (32.00%) Train loss: 2.960 \t Validation loss: 30.918\n",
      " 170 (34.00%) Train loss: 2.957 \t Validation loss: 30.900\n",
      " 180 (36.00%) Train loss: 2.954 \t Validation loss: 30.880\n",
      " 190 (38.00%) Train loss: 2.950 \t Validation loss: 30.857\n",
      " 200 (40.00%) Train loss: 2.947 \t Validation loss: 30.834\n",
      " 210 (42.00%) Train loss: 2.943 \t Validation loss: 30.807\n",
      " 220 (44.00%) Train loss: 2.939 \t Validation loss: 30.780\n",
      " 230 (46.00%) Train loss: 2.934 \t Validation loss: 30.749\n",
      " 240 (48.00%) Train loss: 2.929 \t Validation loss: 30.716\n",
      " 250 (50.00%) Train loss: 2.924 \t Validation loss: 30.684\n",
      " 260 (52.00%) Train loss: 2.919 \t Validation loss: 30.646\n",
      " 270 (54.00%) Train loss: 2.913 \t Validation loss: 30.606\n",
      " 280 (56.00%) Train loss: 2.906 \t Validation loss: 30.563\n",
      " 290 (58.00%) Train loss: 2.899 \t Validation loss: 30.516\n",
      " 300 (60.00%) Train loss: 2.892 \t Validation loss: 30.467\n",
      " 310 (62.00%) Train loss: 2.884 \t Validation loss: 30.413\n",
      " 320 (64.00%) Train loss: 2.875 \t Validation loss: 30.356\n",
      " 330 (66.00%) Train loss: 2.865 \t Validation loss: 30.295\n",
      " 340 (68.00%) Train loss: 2.855 \t Validation loss: 30.230\n",
      " 350 (70.00%) Train loss: 2.844 \t Validation loss: 30.159\n",
      " 360 (72.00%) Train loss: 2.832 \t Validation loss: 30.078\n",
      " 370 (74.00%) Train loss: 2.819 \t Validation loss: 29.997\n",
      " 380 (76.00%) Train loss: 2.805 \t Validation loss: 29.910\n",
      " 390 (78.00%) Train loss: 2.790 \t Validation loss: 29.810\n",
      " 400 (80.00%) Train loss: 2.774 \t Validation loss: 29.701\n",
      " 410 (82.00%) Train loss: 2.756 \t Validation loss: 29.585\n",
      " 420 (84.00%) Train loss: 2.736 \t Validation loss: 29.470\n",
      " 430 (86.00%) Train loss: 2.716 \t Validation loss: 29.336\n",
      " 440 (88.00%) Train loss: 2.693 \t Validation loss: 29.182\n",
      " 450 (90.00%) Train loss: 2.669 \t Validation loss: 29.029\n",
      " 460 (92.00%) Train loss: 2.644 \t Validation loss: 28.864\n",
      " 470 (94.00%) Train loss: 2.615 \t Validation loss: 28.675\n",
      " 480 (96.00%) Train loss: 2.586 \t Validation loss: 28.487\n",
      " 490 (98.00%) Train loss: 2.553 \t Validation loss: 28.271\n",
      "Test loss:  19.703\n"
     ]
    },
    {
     "data": {
      "image/png": "[encoded data removed]",
      "text/plain": [
       "<Figure size 432x288 with 1 Axes>"
      ]
     },
     "metadata": {
      "needs_background": "light"
     },
     "output_type": "display_data"
    }
   ],
   "source": [
    "# Data generator\n",
    "D1 = True\n",
    "n_samples = 10;\n",
    "x_train, y_train,  x_validation, y_validation, x_test, y_test = data_generator(noise=0.5, n_samples=n_samples, D1=D1)\n",
    "\n",
    "x_train = nparray_to_Var(x_train)\n",
    "y_train = nparray_to_Var(y_train)\n",
    "x_validation = nparray_to_Var(x_validation)\n",
    "y_validation = nparray_to_Var(y_validation)\n",
    "x_test = nparray_to_Var(x_test)\n",
    "y_test = nparray_to_Var(y_test)\n",
    "\n",
    "# Initialize an arbitrary neural network\n",
    "NN = [\n",
    "    DenseLayer(1, 16, lambda x: x.relu()),\n",
    "    DenseLayer(16, 8, lambda x: x.relu()),\n",
    "    DenseLayer(8, 1, lambda x: x.identity())\n",
    "]\n",
    "\n",
    "# Initialize training hyperparameters\n",
    "EPOCHS = 500\n",
    "LEARN_R = 2e-3 \n",
    "\n",
    "### TRAINING ###\n",
    "train_loss = []\n",
    "val_loss = []\n",
    "\n",
    "for e in range(EPOCHS):\n",
    "     \n",
    "    # Forward pass and loss computation\n",
    "    Loss = squared_loss(y_train, forward(x_train, NN))\n",
    "\n",
    "    # Backward pass\n",
    "    Loss.backward()\n",
    "    \n",
    "    # gradient descent update\n",
    "    update_parameters(parameters(NN), LEARN_R)\n",
    "    zero_gradients(parameters(NN))\n",
    "    \n",
    "    # Training loss\n",
    "    train_loss.append(Loss.v)\n",
    "    \n",
    "    # Validation\n",
    "    Loss_validation = squared_loss(y_validation, forward(x_validation, NN))\n",
    "    val_loss.append(Loss_validation.v)\n",
    "    \n",
    "    if e%10==0: # note: % means modulus\n",
    "        print(\"{:4d}\".format(e),\n",
    "              \"({:5.2f}%)\".format(e/EPOCHS*100), \n",
    "              \"Train loss: {:4.3f} \\t Validation loss: {:4.3f}\".format(train_loss[-1], val_loss[-1]))\n",
    "        \n",
    "### TESTING ###\n",
    "output_test = forward(x_test, NN)\n",
    "\n",
    "y_test_np = Var_to_nparray(y_test)\n",
    "plt.scatter(y_test_np, Var_to_nparray(output_test));\n",
    "plt.plot([np.min(y_test_np), np.max(y_test_np)], [np.min(y_test_np), np.max(y_test_np)], color='k');\n",
    "plt.xlabel(\"y\");\n",
    "plt.ylabel(\"$\\hat{y}$\");\n",
    "plt.title(\"Model prediction vs real in the test set, the close to the line the better\")\n",
    "plt.grid(True);\n",
    "plt.axis('equal');\n",
    "plt.tight_layout();\n",
    "\n",
    "Loss_test = squared_loss(y_test, forward(x_test, NN))\n",
    "\n",
    "print(\"Test loss:  {:4.3f}\".format(Loss_test.v))\n"
   ]
  },
  {
   "cell_type": "markdown",
   "metadata": {},
   "source": [
    "As we can see, it is actually pretty hard to make the model overfit in this case, but since the traninng loss is clearly significantly lower than the validation loss, this indicates overfitting."
   ]
  },
  {
   "cell_type": "markdown",
   "metadata": {
    "id": "fYPZP-eTFtIo"
   },
   "source": [
    "# Next steps - classification\n",
    "\n",
    "It is straight forward to extend what we have done to classification. \n",
    "\n",
    "For numerical stability it is better to make softmax and cross-entropy as one function so we write the cross entropy loss as a function of the logits we talked about last week. \n",
    "\n",
    "Next week we will see how to perform classification in PyTorch."
   ]
  },
  {
   "cell_type": "markdown",
   "metadata": {
    "id": "qsVPul3QFtIo"
   },
   "source": [
    "## Exercise l) optional - Implement backpropagation for classification\n",
    "\n",
    "Should be possible with very few lines of code. :-)"
   ]
  },
  {
   "cell_type": "code",
   "execution_count": 101,
   "metadata": {
    "id": "oC8QrI2tFtIp"
   },
   "outputs": [],
   "source": [
    "# Just add code."
   ]
  },
  {
   "cell_type": "markdown",
   "metadata": {
    "id": "APqhJv3tta1O"
   },
   "source": [
    "## Exercise m) optional - Introduce a NeuralNetwork class\n",
    "\n",
    "The functions we applied on the neural network (parameters, update_parameters and zero_gradients) can more naturally be included as methods in a NeuralNetwork class. Make such a class and modify the code to use it. "
   ]
  },
  {
   "cell_type": "code",
   "execution_count": 102,
   "metadata": {
    "id": "Dqfnor1ouMLq"
   },
   "outputs": [],
   "source": [
    "# just add some code"
   ]
  }
 ],
 "metadata": {
  "anaconda-cloud": {},
  "colab": {
   "name": "2.1-EXE-FNN-AutoDif-Nanograd.ipynb",
   "provenance": []
  },
  "kernelspec": {
   "display_name": "Python 3",
   "language": "python",
   "name": "python3"
  },
  "language_info": {
   "codemirror_mode": {
    "name": "ipython",
    "version": 3
   },
   "file_extension": ".py",
   "mimetype": "text/x-python",
   "name": "python",
   "nbconvert_exporter": "python",
   "pygments_lexer": "ipython3",
   "version": "3.7.6"
  }
 },
 "nbformat": 4,
 "nbformat_minor": 1
}
