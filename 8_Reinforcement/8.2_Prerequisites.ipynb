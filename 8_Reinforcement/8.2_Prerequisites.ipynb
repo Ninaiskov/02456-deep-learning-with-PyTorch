{
 "cells": [
  {
   "cell_type": "markdown",
   "metadata": {},
   "source": [
    "# Prerequisites\n",
    "\n",
    "> By Jonas Busk ([jbusk@dtu.dk](mailto:jbusk@dtu.dk))\n",
    "\n",
    "**2019 update:** Changes have been made to the display of environments due to the previous `viewer` being incompatible with newer versions of Gym.\n",
    "\n",
    "In this lab we will create neural network reinforcement learning agents with [PyTorch](https://pytorch.org/) to navigate various environments from [OpenAI Gym](https://gym.openai.com/) developed by [OpenAI](https://openai.com/).\n",
    "\n",
    "Please refer to the [docs](https://gym.openai.com/docs/) on how to get started with Gym. You are also encouraged to take a look at this short [post on the OpenAI blog](https://blog.openai.com/openai-gym-beta/)."
   ]
  },
  {
   "cell_type": "markdown",
   "metadata": {},
   "source": [
    "## Installation\n",
    "\n",
    "Below is a brief guide on how to install OpenAI Gym. For more details, please refer to the repository on [GitHub](https://github.com/openai/gym) and the [docs](https://gym.openai.com/docs).\n",
    "\n",
    "You can do a minimal install of the packaged version of Gym directly from PyPI:\n",
    "\n",
    "```\n",
    "pip install gym\n",
    "```\n",
    "\n",
    "Or you can perform a minimal install from GitHub:\n",
    "\n",
    "```\n",
    "git clone https://github.com/openai/gym.git\n",
    "cd gym\n",
    "pip install -e .\n",
    "```\n",
    "\n",
    "If you like, you can do a quick pip install of Gym in the cell below:"
   ]
  },
  {
   "cell_type": "code",
   "execution_count": 1,
   "metadata": {},
   "outputs": [
    {
     "name": "stdout",
     "output_type": "stream",
     "text": [
      "Collecting gym\n",
      "  Downloading gym-0.21.0.tar.gz (1.5 MB)\n",
      "\u001b[K     |████████████████████████████████| 1.5 MB 2.9 MB/s eta 0:00:01\n",
      "\u001b[?25hRequirement already satisfied: numpy>=1.18.0 in /opt/anaconda3/lib/python3.7/site-packages (from gym) (1.18.1)\n",
      "Requirement already satisfied: cloudpickle>=1.2.0 in /opt/anaconda3/lib/python3.7/site-packages (from gym) (1.3.0)\n",
      "Collecting importlib_metadata>=4.8.1\n",
      "  Downloading importlib_metadata-4.8.1-py3-none-any.whl (17 kB)\n",
      "Requirement already satisfied: typing-extensions>=3.6.4; python_version < \"3.8\" in /opt/anaconda3/lib/python3.7/site-packages (from importlib_metadata>=4.8.1->gym) (3.10.0.0)\n",
      "Requirement already satisfied: zipp>=0.5 in /opt/anaconda3/lib/python3.7/site-packages (from importlib_metadata>=4.8.1->gym) (2.2.0)\n",
      "Building wheels for collected packages: gym\n",
      "  Building wheel for gym (setup.py) ... \u001b[?25ldone\n",
      "\u001b[?25h  Created wheel for gym: filename=gym-0.21.0-py3-none-any.whl size=1616823 sha256=23cd7fdc7a1687460583faa7287e1ac69fcaedae64af5366020a14d520a58444\n",
      "  Stored in directory: /Users/Nina/Library/Caches/pip/wheels/76/ee/9c/36bfe3e079df99acf5ae57f4e3464ff2771b34447d6d2f2148\n",
      "Successfully built gym\n",
      "\u001b[31mERROR: pytest-astropy 0.8.0 requires pytest-cov>=2.0, which is not installed.\u001b[0m\n",
      "\u001b[31mERROR: pytest-astropy 0.8.0 requires pytest-filter-subpackage>=0.1, which is not installed.\u001b[0m\n",
      "\u001b[31mERROR: watermark 2.2.0 has requirement importlib-metadata<3.0; python_version < \"3.8\", but you'll have importlib-metadata 4.8.1 which is incompatible.\u001b[0m\n",
      "Installing collected packages: importlib-metadata, gym\n",
      "  Attempting uninstall: importlib-metadata\n",
      "    Found existing installation: importlib-metadata 1.5.0\n",
      "    Uninstalling importlib-metadata-1.5.0:\n",
      "      Successfully uninstalled importlib-metadata-1.5.0\n",
      "Successfully installed gym-0.21.0 importlib-metadata-4.8.1\n"
     ]
    }
   ],
   "source": [
    "!pip install gym"
   ]
  },
  {
   "cell_type": "markdown",
   "metadata": {},
   "source": [
    "You will also need an installation of `ffmpeg` locally. If you do not have it installed already, you can install it by one of the following commands depending on your system:\n",
    "\n",
    "```sudo apt-get install ffmpeg``` (Linux)\n",
    "\n",
    "```conda install -c conda-forge ffmpeg``` (Anaconda)"
   ]
  },
  {
   "cell_type": "code",
   "execution_count": 2,
   "metadata": {},
   "outputs": [
    {
     "name": "stdout",
     "output_type": "stream",
     "text": [
      "Collecting imageio-ffmpeg\n",
      "  Downloading imageio_ffmpeg-0.4.5-py3-none-macosx_10_9_intel.macosx_10_9_x86_64.macosx_10_10_intel.macosx_10_10_x86_64.whl (22.5 MB)\n",
      "\u001b[K     |████████████████████████████████| 22.5 MB 18.1 MB/s eta 0:00:01\n",
      "\u001b[?25hInstalling collected packages: imageio-ffmpeg\n",
      "Successfully installed imageio-ffmpeg-0.4.5\n",
      "Note: you may need to restart the kernel to use updated packages.\n"
     ]
    }
   ],
   "source": [
    "pip install imageio-ffmpeg"
   ]
  },
  {
   "cell_type": "code",
   "execution_count": 3,
   "metadata": {},
   "outputs": [
    {
     "name": "stdout",
     "output_type": "stream",
     "text": [
      "Requirement already satisfied: pyglet in /opt/anaconda3/lib/python3.7/site-packages (1.5.21)\n",
      "Note: you may need to restart the kernel to use updated packages.\n"
     ]
    }
   ],
   "source": [
    "pip install pyglet"
   ]
  },
  {
   "cell_type": "markdown",
   "metadata": {},
   "source": [
    "## Running an environment\n",
    "\n",
    "Here is a bare minimum example of running a Gym environment. This creates an instance of the [CartPole-v0](https://gym.openai.com/envs/CartPole-v0) environment and runs until the rollout is done, taking random actions and rendering the environment at each step. With Gym installed, you should be able to see a small animation of the environment below.\n",
    "\n",
    "**Note:** you will likely not be able to render environments in a Google Colab instance. Therefore, it may be beneficial for you to run this week's notebooks locally and/or team up with another student if you do not have a local environment."
   ]
  },
  {
   "cell_type": "code",
   "execution_count": 1,
   "metadata": {},
   "outputs": [
    {
     "data": {
      "text/html": [
       "\n",
       "        <video width=\"360\" height=\"auto\" alt=\"test\" controls><source src=\"data:video/mp4;base64,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\" type=\"video/mp4\" /></video>"
      ],
      "text/plain": [
       "<IPython.core.display.HTML object>"
      ]
     },
     "execution_count": 1,
     "metadata": {},
     "output_type": "execute_result"
    }
   ],
   "source": [
    "import gym\n",
    "from gym import wrappers\n",
    "\n",
    "env = gym.make('CartPole-v0') # Create environment\n",
    "env = wrappers.Monitor(env, \"./gym-results\", force=True) # Create wrapper to display environment\n",
    "env.reset() # Reset environment\n",
    "\n",
    "# Run environment\n",
    "while True:\n",
    "    env.render() # Render environment\n",
    "    action = env.action_space.sample() # Get a random action\n",
    "    _, _, done, _ = env.step(action) # Take a step\n",
    "    if done: break # Break if environment is done\n",
    "\n",
    "env.close() # Close environment\n",
    "\n",
    "def show_replay():\n",
    "    \"\"\"\n",
    "    Not-so-elegant way to display the MP4 file generated by the Monitor wrapper inside a notebook.\n",
    "    The Monitor wrapper dumps the replay to a local file that we then display as a HTML video object.\n",
    "    \"\"\"\n",
    "    import io\n",
    "    import base64\n",
    "    from IPython.display import HTML\n",
    "    video = io.open('./gym-results/openaigym.video.%s.video000000.mp4' % env.file_infix, 'r+b').read()\n",
    "    encoded = base64.b64encode(video)\n",
    "    return HTML(data='''\n",
    "        <video width=\"360\" height=\"auto\" alt=\"test\" controls><source src=\"data:video/mp4;base64,{0}\" type=\"video/mp4\" /></video>'''\n",
    "    .format(encoded.decode('ascii')))\n",
    "    \n",
    "show_replay()"
   ]
  },
  {
   "cell_type": "markdown",
   "metadata": {},
   "source": [
    "Hooray! You now have a working `Gym` environment that we can take actions in and render."
   ]
  }
 ],
 "metadata": {
  "kernelspec": {
   "display_name": "Python 3",
   "language": "python",
   "name": "python3"
  },
  "language_info": {
   "codemirror_mode": {
    "name": "ipython",
    "version": 3
   },
   "file_extension": ".py",
   "mimetype": "text/x-python",
   "name": "python",
   "nbconvert_exporter": "python",
   "pygments_lexer": "ipython3",
   "version": "3.7.6"
  }
 },
 "nbformat": 4,
 "nbformat_minor": 2
}
